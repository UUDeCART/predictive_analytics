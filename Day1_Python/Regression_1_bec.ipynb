{
 "cells": [
  {
   "cell_type": "markdown",
   "metadata": {},
   "source": [
    "# Regression"
   ]
  },
  {
   "cell_type": "markdown",
   "metadata": {},
   "source": [
    "## Diabetes"
   ]
  },
  {
   "cell_type": "markdown",
   "metadata": {},
   "source": [
    "Diabetes is a disease that occurs when your blood glucose, also called blood sugar, is too high. Over time, having too much glucose in your blood can cause health problems, such as heart disease, nerve damage, eye problems, and kidney disease. You can take steps to prevent diabetes or manage it. \n",
    "\n",
    "As of 2014, 29.1 million people in the United States, or 9.3 percent of the population, have diabetes. One in four people with diabetes don’t know they have the disease. An estimated 86 million Americans aged 20 years or older have prediabetes.\n",
    "\n",
    "Reference: https://www.niddk.nih.gov/health-information/diabetes\n",
    "\n",
    "Risk factors:http://www.mayoclinic.org/diseases-conditions/diabetes/basics/risk-factors/con-20033091"
   ]
  },
  {
   "cell_type": "markdown",
   "metadata": {},
   "source": [
    "# Diabetes Dataset"
   ]
  },
  {
   "cell_type": "markdown",
   "metadata": {},
   "source": [
    "Reference: http://www4.stat.ncsu.edu/~boos/var.select/diabetes.html\n",
    "\n",
    "*Ten baseline variables, age, sex, body mass index, average blood pressure, and six blood serum measurements were obtained for each of n = 442 diabetes patients, as well as the response of interest, a quantitative measure of disease progression one year after baseline; where* $BMI = kg/m^2$"
   ]
  },
  {
   "cell_type": "markdown",
   "metadata": {
    "collapsed": true
   },
   "source": [
    "## Python Quick Review\n",
    "\n",
    "If you are less familiar with Python, you might want to review the materials in the [DeCART Boot Camp, Part 2: Introduction to Python](https://github.com/UUDeCART/decart_bootcamp_part2), in particular our [Python crash course](https://github.com/UUDeCART/decart_bootcamp_part2/blob/master/modules/module1/python_crash_course.ipynb).\n",
    "\n",
    "## [Pandas](http://pandas.pydata.org/) Review\n",
    "\n",
    "Pandas it a Python package for working with tabular data that was developed in the finance community. Pandas will be our main framework for working with data and standard Python packages for machine learning, like [scikit-learn](http://scikit-learn.org/stable/) all work natively with Pandas DataFrames and Series.\n",
    "\n",
    "### [Pandas Cheat Sheet](https://github.com/pandas-dev/pandas/blob/master/doc/cheatsheet/Pandas_Cheat_Sheet.pdf)\n",
    "\n"
   ]
  },
  {
   "cell_type": "markdown",
   "metadata": {},
   "source": [
    "### Functions in Python\n",
    "\n",
    "Python functions take some input (possibly nothing), manipulates data (possibly by doing nothing), and returns some output (possibly nothing, denoted by the special Python value `None`)."
   ]
  },
  {
   "cell_type": "code",
   "execution_count": null,
   "metadata": {},
   "outputs": [],
   "source": [
    "def myfunction():\n",
    "    P=[1,2,'3']\n",
    "    return P\n",
    "myfunction()"
   ]
  },
  {
   "cell_type": "markdown",
   "metadata": {},
   "source": [
    "### Analysis of `myFunction`\n",
    "\n",
    "* What goes in?\n",
    "    * Nothing\n",
    "* What data manipulation does `myFunction` do?\n",
    "    * Nothing\n",
    "* What comes out?\n",
    "    * A Python `list` containing the integers `1` and `2` and the string `\"3\"`\n"
   ]
  },
  {
   "cell_type": "code",
   "execution_count": null,
   "metadata": {},
   "outputs": [],
   "source": [
    "L1=1\n",
    "P1=['1','b']\n",
    "a1='1.5'\n",
    "_,L2,P2=L1,P1,a1\n",
    "print(L2,P2)"
   ]
  },
  {
   "cell_type": "markdown",
   "metadata": {},
   "source": [
    "### Notes\n",
    "\n",
    "* `_` is by convention in Python a throw away variable\n",
    "* `print` is an example that takes some input and provides as output a string printed to standard output (the screen)"
   ]
  },
  {
   "cell_type": "markdown",
   "metadata": {},
   "source": [
    "### Construct a Pandas DataFrame"
   ]
  },
  {
   "cell_type": "code",
   "execution_count": null,
   "metadata": {},
   "outputs": [],
   "source": [
    "import pandas as pd\n",
    "L=pd.DataFrame({'a':[4,5,6,6],'b':[7,8,12.8,9],'c':[10,11,12,10]},\n",
    "  index=[1,2,3,4],\n",
    "  columns=['a','b','c'])\n",
    "print (L)"
   ]
  },
  {
   "cell_type": "markdown",
   "metadata": {},
   "source": [
    "### If we let the Notebook evaluate a Pandas DataFrame (e.g. `L`), it will provide a nice HTML table"
   ]
  },
  {
   "cell_type": "code",
   "execution_count": null,
   "metadata": {},
   "outputs": [],
   "source": [
    "L"
   ]
  },
  {
   "cell_type": "markdown",
   "metadata": {},
   "source": [
    "### Pandas DataFrame Object\n",
    " \n",
    "Python is primarily an [object oriented programming language](https://en.wikipedia.org/wiki/Object-oriented_programming). By contrast, R is a [functional programming language](https://en.wikipedia.org/wiki/Functional_programming)\n",
    "\n",
    "In an object oriented programming language, objects have attributes and **methods**. Methods are special functions that operate on the attributes of the object.\n",
    "\n",
    "In our example object, `L`, the attributes are the data values (contained in the columns `a`, `b`, and `c` and rows `1`,  `2`, `3`, and `4`.\n",
    "\n",
    "If we want to learn what methods the `L` has, we can use the `help` function."
   ]
  },
  {
   "cell_type": "code",
   "execution_count": null,
   "metadata": {},
   "outputs": [],
   "source": [
    "help(L)"
   ]
  },
  {
   "cell_type": "markdown",
   "metadata": {},
   "source": [
    "### Example DataFrame and Series methods\n",
    "\n",
    "We will look at the following methods that are useful for summarizing our data\n",
    "\n",
    "* [`describe()`](https://pandas.pydata.org/pandas-docs/stable/generated/pandas.DataFrame.describe.html)\n",
    "    * A method for either DataFrames or Series\n",
    "* [`value_counts()`](https://pandas.pydata.org/pandas-docs/stable/generated/pandas.Series.value_counts.html)\n",
    "    * A method for Series\n",
    "* [`groupby`](https://pandas.pydata.org/pandas-docs/stable/generated/pandas.DataFrame.groupby.html)"
   ]
  },
  {
   "cell_type": "code",
   "execution_count": null,
   "metadata": {},
   "outputs": [],
   "source": [
    "L.describe()"
   ]
  },
  {
   "cell_type": "code",
   "execution_count": null,
   "metadata": {},
   "outputs": [],
   "source": [
    "L['a'].value_counts()"
   ]
  },
  {
   "cell_type": "code",
   "execution_count": null,
   "metadata": {},
   "outputs": [],
   "source": [
    "L.groupby(\"a\").boxplot()"
   ]
  },
  {
   "cell_type": "code",
   "execution_count": null,
   "metadata": {},
   "outputs": [],
   "source": [
    "L.groupby(['a','c']).mean()"
   ]
  },
  {
   "cell_type": "code",
   "execution_count": null,
   "metadata": {},
   "outputs": [],
   "source": [
    "import numpy as np\n",
    "a = np.arange(6)\n",
    "print(a)\n",
    "a=a.reshape((3, 2))\n",
    "print(a)"
   ]
  },
  {
   "cell_type": "markdown",
   "metadata": {
    "collapsed": true
   },
   "source": [
    "###  [DS package](./DS.py)\n",
    "\n",
    "I have created a Python package (file) containing functions that we will use. In order to access the functions in our notebook, we need to `import` it.\n"
   ]
  },
  {
   "cell_type": "code",
   "execution_count": null,
   "metadata": {
    "collapsed": true
   },
   "outputs": [],
   "source": [
    "import DS"
   ]
  },
  {
   "cell_type": "markdown",
   "metadata": {},
   "source": [
    "### Reloading a Package\n",
    "\n",
    "If we change the DS.py file, we will not see those changes in this notebook unless we restart the notebook or `reload` the package. To reload the package, past the code below into a code cell and evalaute.\n",
    "\n",
    "```Python\n",
    "import importlib\n",
    "importlib.reload(DS)\n",
    "```"
   ]
  },
  {
   "cell_type": "code",
   "execution_count": null,
   "metadata": {},
   "outputs": [],
   "source": [
    "import importlib\n",
    "importlib.reload(DS)"
   ]
  },
  {
   "cell_type": "code",
   "execution_count": null,
   "metadata": {},
   "outputs": [],
   "source": [
    "help(DS.main)"
   ]
  },
  {
   "cell_type": "code",
   "execution_count": null,
   "metadata": {},
   "outputs": [],
   "source": [
    "L1,L2,L3=DS.main()"
   ]
  },
  {
   "cell_type": "markdown",
   "metadata": {},
   "source": [
    "### What is our Output\n",
    "\n",
    "* `L1` our original data\n",
    "* `L2`: the data we will use to predict with\n",
    "* `L3`: what we are going to predict"
   ]
  },
  {
   "cell_type": "markdown",
   "metadata": {},
   "source": [
    "### Here are some functions to explore our Data\n",
    "\n",
    "They take as arguments the index for the data set we want to examine:\n",
    "\n",
    "* `0` for diabetes\n",
    "* `1` for Parkinson's\n",
    "\n",
    "Change the value of `which_data` to see the two data sets."
   ]
  },
  {
   "cell_type": "code",
   "execution_count": null,
   "metadata": {},
   "outputs": [],
   "source": [
    "which_data = 0\n",
    "x,_ = DS.numDes(which_data), DS.meanSDDes(which_data)"
   ]
  },
  {
   "cell_type": "markdown",
   "metadata": {},
   "source": [
    "## [Take a Quiz](https://goo.gl/forms/iWUy8u6fsTvS9Nbz2)"
   ]
  },
  {
   "cell_type": "markdown",
   "metadata": {},
   "source": [
    "### `x` is a dictionary of DataFrame and Series containing the results of a `describe` method call on our predictors and targets"
   ]
  },
  {
   "cell_type": "code",
   "execution_count": null,
   "metadata": {},
   "outputs": [],
   "source": [
    "x.keys()"
   ]
  },
  {
   "cell_type": "code",
   "execution_count": null,
   "metadata": {},
   "outputs": [],
   "source": [
    "x[\"myTrain\"]"
   ]
  },
  {
   "cell_type": "code",
   "execution_count": null,
   "metadata": {},
   "outputs": [],
   "source": [
    "x[\"myVal\"]"
   ]
  },
  {
   "cell_type": "code",
   "execution_count": null,
   "metadata": {},
   "outputs": [],
   "source": [
    "_ = pd.tools.plotting.scatter_matrix(L1[['AGE', 'SEX', 'BMI', 'S1']], alpha=0.2, figsize=(10,10), diagonal='kde')"
   ]
  },
  {
   "cell_type": "markdown",
   "metadata": {},
   "source": [
    "### [Feature Scaling](https://en.wikipedia.org/wiki/Feature_scaling)\n",
    "\n",
    "Because our features have different natural scales, we want to transform them so that they have similar scales.\n",
    "\n",
    "`dataScaling` read in a data set and performs a [`minmax_scale`](http://scikit-learn.org/stable/modules/generated/sklearn.preprocessing.minmax_scale.html#sklearn.preprocessing.minmax_scale) transformation on each column."
   ]
  },
  {
   "cell_type": "markdown",
   "metadata": {},
   "source": [
    "```Python\n",
    "def dataScaling(index=0,taskID='filesReg'):\n",
    "    data,myTrain,myVal=load_data(index,taskID)\n",
    "    for name in myTrain.columns:\n",
    "        if (not(myTrain[name].dtype=='O')):\n",
    "            myTrain[name]=pre.minmax_scale(myTrain[name].astype('float'))             \n",
    "    return data,myTrain,myVal\n",
    "```\n"
   ]
  },
  {
   "cell_type": "code",
   "execution_count": null,
   "metadata": {
    "collapsed": true
   },
   "outputs": [],
   "source": [
    "_,L6,_=DS.dataScaling(0)"
   ]
  },
  {
   "cell_type": "code",
   "execution_count": null,
   "metadata": {},
   "outputs": [],
   "source": [
    "L6.head()"
   ]
  },
  {
   "cell_type": "code",
   "execution_count": null,
   "metadata": {},
   "outputs": [],
   "source": [
    "pd.__version__"
   ]
  },
  {
   "cell_type": "code",
   "execution_count": null,
   "metadata": {},
   "outputs": [],
   "source": [
    "L6.columns"
   ]
  },
  {
   "cell_type": "code",
   "execution_count": null,
   "metadata": {},
   "outputs": [],
   "source": [
    "_ = pd.tools.plotting.scatter_matrix(L6[['AGE', 'SEX', 'BMI', 'S1']], alpha=0.2, figsize=(6, 6), diagonal='kde')"
   ]
  },
  {
   "cell_type": "markdown",
   "metadata": {},
   "source": [
    "### Or we could use [Seaborn](https://seaborn.pydata.org/index.html)"
   ]
  },
  {
   "cell_type": "code",
   "execution_count": null,
   "metadata": {},
   "outputs": [],
   "source": [
    "import seaborn as sns\n",
    "sns.pairplot(L6[['AGE', 'SEX', 'BMI', 'S1']])"
   ]
  },
  {
   "cell_type": "code",
   "execution_count": null,
   "metadata": {},
   "outputs": [],
   "source": [
    "sns.pairplot(L1[['AGE', 'SEX', 'BMI', 'S1']])"
   ]
  },
  {
   "cell_type": "markdown",
   "metadata": {},
   "source": [
    "### We could do this more directly with Pandas"
   ]
  },
  {
   "cell_type": "code",
   "execution_count": null,
   "metadata": {
    "collapsed": true
   },
   "outputs": [],
   "source": [
    "diabetes_data, diabetes_predictors, diabetes_targets = DS.load_data(0, \"filesReg\")"
   ]
  },
  {
   "cell_type": "code",
   "execution_count": null,
   "metadata": {},
   "outputs": [],
   "source": [
    "from sklearn import preprocessing as pre\n",
    "pd.DataFrame(pre.minmax_scale(diabetes_predictors), \n",
    "             index=diabetes_predictors.index, \n",
    "             columns=diabetes_predictors.columns).head()"
   ]
  },
  {
   "cell_type": "markdown",
   "metadata": {},
   "source": [
    "**P-values using ANOVA or f-regression**"
   ]
  },
  {
   "cell_type": "markdown",
   "metadata": {},
   "source": [
    "L7=DS.uniFeatureReg(0)\n",
    "L7"
   ]
  },
  {
   "cell_type": "markdown",
   "metadata": {},
   "source": [
    "## Linear Regression\n",
    "\n",
    "In linear regression we want to find a linear (straight) line that optimally fits our **continuous** labeled data.\n",
    "\n",
    "### There are several things we need to consider here\n",
    "\n",
    "#### A straight line: Is our Data Linear? Is the world Linear?\n",
    "\n",
    "#### What do we mean by \"optimally\"?\n"
   ]
  },
  {
   "cell_type": "markdown",
   "metadata": {},
   "source": [
    "### Linearity\n",
    "#### Is the function below linear?"
   ]
  },
  {
   "cell_type": "code",
   "execution_count": null,
   "metadata": {},
   "outputs": [],
   "source": [
    "from sympy import symbols\n",
    "from sympy.plotting import plot, plot3d, plot3d_parametric_line\n",
    "x = symbols('x')\n",
    "plot(x, (x,-5,5))"
   ]
  },
  {
   "cell_type": "markdown",
   "metadata": {},
   "source": [
    "#### Is this function linear?"
   ]
  },
  {
   "cell_type": "code",
   "execution_count": null,
   "metadata": {},
   "outputs": [],
   "source": [
    "plot(x**2, (x,-5,5))"
   ]
  },
  {
   "cell_type": "markdown",
   "metadata": {},
   "source": [
    "#### What about this?"
   ]
  },
  {
   "cell_type": "code",
   "execution_count": null,
   "metadata": {},
   "outputs": [],
   "source": [
    "p1 = plot(x**2, (x,2,3))"
   ]
  },
  {
   "cell_type": "markdown",
   "metadata": {},
   "source": [
    "### Optimality \n",
    "\n",
    "Optimal means that our model is the closest to our data, but we have to decide on what we mean by close.\n",
    "\n",
    "#### Norms\n",
    "\n",
    "\\begin{equation}\n",
    "||x||_p = \\large(|x_1|^p + |x_2|^p+\\cdots+|x_n|^p\\large)^{\\frac{1}{p}}\n",
    "\\end{equation}\n",
    "* $L^2$\n",
    "* $L^1$\n",
    "* $L^\\infty$"
   ]
  },
  {
   "cell_type": "code",
   "execution_count": null,
   "metadata": {},
   "outputs": [],
   "source": [
    "import matplotlib.pyplot as plt\n",
    "import numpy as np\n",
    "xs = np.arange(2,3,0.1)\n",
    "import numpy.random as ra\n",
    "ys_ = xs**2+ra.normal(0,1, size=xs.shape)\n",
    "fig1, ax1 = plt.subplots(1)\n",
    "plt.plot(xs,xs**2,axes=ax1)\n",
    "ax1.scatter(xs, ys_, marker='+', color='r')"
   ]
  },
  {
   "cell_type": "markdown",
   "metadata": {},
   "source": [
    "## Linear Regression\n",
    "\n",
    "If we remember from high school, we can describe a straight line in the plane as \n",
    "\n",
    "\\begin{equation}\n",
    "y=mx+b\n",
    "\\end{equation}\n",
    "\n",
    "So for example $m=0.55$ and $b=-2$ we would have the following line:"
   ]
  },
  {
   "cell_type": "code",
   "execution_count": null,
   "metadata": {},
   "outputs": [],
   "source": [
    "plot(x*0.5-2,(x,-5,5), ylim=(-5,5), axis=True, axis_center=(0,0))"
   ]
  },
  {
   "cell_type": "markdown",
   "metadata": {},
   "source": [
    "### We can draw a line in 3D (depending on $x$ and $y$) $\\cdots$\n",
    "\n",
    "### Or 4D (depending on $x$, $y$, and $z$)\n",
    "\n",
    "Of course this can extend on to arbitrary dimension, but our $x$, $y$, $z$ labeling for variables becomes problematic and we would typically do something like the following for our variable names\n",
    "\n",
    "$x_1$ (x), $x_2$ (y), $x_3$ (z), $x_4$, $\\cdots$, $x_n$"
   ]
  },
  {
   "cell_type": "markdown",
   "metadata": {},
   "source": [
    "The mathematical expression of a linear regression in $n$ dimensions can be written as\n",
    "\n",
    "\\begin{equation}\n",
    "\\hat{y}= \\Theta_0 + \\Theta_1x_1 + \\Theta_2x_2+\\cdots+\\Theta_nx_n\n",
    "\\end{equation}\n",
    "\n",
    "$\\Theta$ is the capital Greek letter [\"theta\"](https://en.wiktionary.org/wiki/theta#Pronunciation)\n",
    "\n",
    "* $\\hat{y}$ is the predicted value from our model\n",
    "* $n$ is the number of features (independent variables) we have\n",
    "* $x_i$ is the $i^{th}$ feature (variable)\n",
    "* $\\Theta_0$ corresponds to $b$ in our simple line\n",
    "* $\\Theta_1$ corresponds to $m$ in our simple line"
   ]
  },
  {
   "cell_type": "markdown",
   "metadata": {},
   "source": [
    "##  Linear Regression \n",
    "\n",
    "<img src=\"../images/Linearregression.png\" height= 55% width=55% style=\"right;\">\n",
    "\n",
    "\n",
    "<sub>\n",
    "    Figure Reference: the first recommended book\n",
    "</sub>\n",
    "\n",
    "DS:runDifferentRegressionTrTeDataSet(),plotLearningCurvesRegression(): [a relative link](DS.py)"
   ]
  },
  {
   "cell_type": "markdown",
   "metadata": {
    "collapsed": true
   },
   "source": [
    "** From the below figure, is this a good model: predicted vs. real **"
   ]
  },
  {
   "cell_type": "code",
   "execution_count": null,
   "metadata": {},
   "outputs": [],
   "source": [
    "L8=DS.runDifferentRegressionTrTeDataSet([0],[DS.Regs[0]],[0])"
   ]
  },
  {
   "cell_type": "code",
   "execution_count": null,
   "metadata": {},
   "outputs": [],
   "source": [
    "L8['diabetes'][2],L8['diabetes'][3], L8['diabetes'][4]"
   ]
  },
  {
   "cell_type": "markdown",
   "metadata": {},
   "source": [
    "** From the below figure, decribe the trends of the errors for validation and train datasets**"
   ]
  },
  {
   "cell_type": "code",
   "execution_count": null,
   "metadata": {},
   "outputs": [],
   "source": [
    "L9=DS.plotLearningCurvesRegression([0],[DS.Regs[0]],[0])"
   ]
  },
  {
   "cell_type": "markdown",
   "metadata": {},
   "source": [
    "## Example\n",
    "\n",
    "Does BMI predict BP?\n",
    "\n",
    "Following the scikit-learn [example here](http://scikit-learn.org/stable/auto_examples/linear_model/plot_ols.html#sphx-glr-auto-examples-linear-model-plot-ols-py).\n",
    "\n",
    "**Note:** had to address a [strange issue](https://stackoverflow.com/questions/38058486/fit-error-found-arrays-with-inconsistent-numbers-of-samples) with one predictor variable\n",
    "\n",
    "#### We can use scikit-learn to split our data into training/test sets"
   ]
  },
  {
   "cell_type": "code",
   "execution_count": null,
   "metadata": {},
   "outputs": [],
   "source": [
    "diabetes_predictors[\"BMI\"].shape, diabetes_predictors[\"BP\"].shape"
   ]
  },
  {
   "cell_type": "code",
   "execution_count": null,
   "metadata": {},
   "outputs": [],
   "source": [
    "from sklearn import linear_model\n",
    "from sklearn.model_selection import cross_val_predict\n",
    "from sklearn.model_selection import train_test_split\n",
    "\n",
    "lr = linear_model.LinearRegression()\n",
    "\n",
    "X = diabetes_predictors[\"BMI\"].reshape(-1,1)\n",
    "\n",
    "y = diabetes_predictors[\"BP\"]\n",
    "\n",
    "X_train, X_test, y_train, y_test = train_test_split(X, y)\n",
    "lr.fit(X_train, y_train)\n",
    "print(lr.coef_)\n",
    "\n",
    "plt.scatter(X_test, y_test,  color='black')\n",
    "plt.plot(X_test, lr.predict(X_test), color='blue',\n",
    "         linewidth=3)\n",
    "plt.xlabel(\"BMI\")\n",
    "plt.ylabel(\"BP\")\n",
    "plt.xticks(())\n",
    "plt.yticks(())\n",
    "\n",
    "plt.show()"
   ]
  },
  {
   "cell_type": "markdown",
   "metadata": {},
   "source": [
    "### How optimal is our model?"
   ]
  },
  {
   "cell_type": "code",
   "execution_count": null,
   "metadata": {},
   "outputs": [],
   "source": [
    "print(\"Mean squared error: %.2f\"\n",
    "      % np.mean((lr.predict(X_test) - y_test) ** 2))"
   ]
  },
  {
   "cell_type": "markdown",
   "metadata": {},
   "source": [
    "### What does this number mean?"
   ]
  },
  {
   "cell_type": "markdown",
   "metadata": {},
   "source": [
    "## Using [statsmodels](http://www.statsmodels.org/stable/index.html)"
   ]
  },
  {
   "cell_type": "code",
   "execution_count": null,
   "metadata": {},
   "outputs": [],
   "source": [
    "import statsmodels.formula.api as smf\n",
    "mod = smf.ols(formula='BP ~ BMI', data=diabetes_predictors)\n",
    "res = mod.fit()\n",
    "print(res.summary())"
   ]
  },
  {
   "cell_type": "markdown",
   "metadata": {},
   "source": [
    "## I Can Easily Make a Higher Dimensional Model\n",
    "\n",
    "#### I don't know the meaning of any of these S\\* variables!"
   ]
  },
  {
   "cell_type": "code",
   "execution_count": null,
   "metadata": {},
   "outputs": [],
   "source": [
    "mod = smf.ols(formula='BP ~ BMI + S1 + S2', data=diabetes_predictors)\n",
    "res = mod.fit()\n",
    "print(res.summary())"
   ]
  },
  {
   "cell_type": "markdown",
   "metadata": {},
   "source": [
    "## Exercise\n",
    "\n",
    "Use statsmodels to make the **best** model you can."
   ]
  },
  {
   "cell_type": "markdown",
   "metadata": {},
   "source": [
    "### Statsmodel is giving us warnings. Could we have anticipated these?"
   ]
  },
  {
   "cell_type": "markdown",
   "metadata": {},
   "source": [
    "# Exercise\n",
    "\n",
    "\n",
    "## Parkinson’s Disease\n",
    "\n",
    "Parkinson's disease (PD) is a chronic and progressive movement disorder, meaning that symptoms continue and worsen over time. Nearly one million people in the US are living with Parkinson's disease. The cause is unknown, and although there is presently no cure, there are treatment options such as medication and surgery to manage its symptoms.\n",
    "\n",
    "Data set information, paper and the related links: https://archive.ics.uci.edu/ml/datasets/parkinsons\n",
    "\n",
    "### Questions [Discuss the pseudo codes(steps)]\n",
    "\n",
    "1. Use the file of code 1 instead of 0 to load the data, describe, scale, and calculate the related Mean/SD and p-values\n",
    "2. Build a linear regression model and output the above results.\n",
    "3. Plot the graphs of actual-prediction and learning curves.\n",
    "4. Compare both data results and summarize your conclusions of the performances of the two data.\n"
   ]
  },
  {
   "cell_type": "code",
   "execution_count": null,
   "metadata": {
    "collapsed": true
   },
   "outputs": [],
   "source": []
  }
 ],
 "metadata": {
  "kernelspec": {
   "display_name": "Python 3",
   "language": "python",
   "name": "python3"
  },
  "language_info": {
   "codemirror_mode": {
    "name": "ipython",
    "version": 3
   },
   "file_extension": ".py",
   "mimetype": "text/x-python",
   "name": "python",
   "nbconvert_exporter": "python",
   "pygments_lexer": "ipython3",
   "version": "3.5.2"
  }
 },
 "nbformat": 4,
 "nbformat_minor": 2
}
