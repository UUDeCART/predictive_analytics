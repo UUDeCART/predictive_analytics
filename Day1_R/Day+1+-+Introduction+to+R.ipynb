{
 "cells": [
  {
   "cell_type": "markdown",
   "metadata": {},
   "source": [
    "# Introduction to ![R][Rlogo]\n",
    "\n",
    "[Rlogo]:https://jupyterhub.med.utah.edu/user/halpo/kernelspecs/ir/logo-64x64.png\n",
    "\n"
   ]
  },
  {
   "cell_type": "markdown",
   "metadata": {},
   "source": [
    "## What is R?\n",
    "\n",
    "* R is what comes after S\n",
    "* Homepage and downloads: https://cran.r-project.org\n",
    "* R is a language for data analysis.\n",
    "* R is an ecosystem of packages\n",
    "    + [Comprehensive R Archive Network](https://cran.r-project.org)\n",
    "    + Currently over 10,000 packages\n",
    "    + Wild Wild West.\n",
    "    \n",
    "![Wild Wild West](https://media.giphy.com/media/fKKFjFX2CJd7y/giphy.gif)"
   ]
  },
  {
   "cell_type": "markdown",
   "metadata": {},
   "source": [
    "Wondering why R vs Python, or which is better?  The great folks at [data camp](https://www.datacamp.com) gave us the rundown.\n",
    "\n",
    "![R-vs-Python](http://blog.datacamp.com/wp-content/uploads/2015/05/R-vs-Python-216-2.png)\n",
    "\n",
    "\n",
    "They just got one thing wrong.  \n",
    "R is clearly the better language."
   ]
  },
  {
   "cell_type": "markdown",
   "metadata": {},
   "source": [
    "## How I'll teach R\n",
    "\n",
    "### I will teach\n",
    "* state of the aRt\n",
    "* tidyverse\n",
    "* ggplot2\n",
    "* jupyter\n",
    "* through examples\n",
    "\n",
    "### I will **not** teach\n",
    "* legacy methods\n",
    "* base graphics\n",
    "* bad form\n",
    "* less than optimal methods"
   ]
  },
  {
   "cell_type": "markdown",
   "metadata": {},
   "source": [
    "## Using R\n",
    "\n",
    "Just use [Rstudio](http://rstudio.com).\n",
    "\n",
    "* Full IDE\n",
    "* R Notebooks ↔ Jupyter\n",
    "* Includes performance enhancements"
   ]
  },
  {
   "cell_type": "markdown",
   "metadata": {},
   "source": [
    "## The [tidyverse](http://tidyverse.org) ![tidyverse](http://tidyverse.tidyverse.org/logo.png)\n",
    "\n",
    "The tidyverse is the state of the art for data analysis in R.\n",
    "\n",
    "### ![dplyr](http://dplyr.tidyverse.org/logo.png)\n",
    "\n",
    "For all your data manipulation needs.\n",
    "\n",
    "* `mutate()` - data transformations\n",
    "* `select()` - select variables of data\n",
    "* `filter()` - subsetting\n",
    "* `summarise()` - summarizing data or groups of data.\n",
    "* `arrange()` - sorting data\n",
    "* `group_by()` - perform opperations on subsets.\n",
    "\n",
    "#### Addendum: dbplyr\n",
    "\n",
    "The dbplyr package is also needed for our work.  It provides the database backend to perform many data operations in place on the server.\n",
    "\n",
    "### ![forcats](http://forcats.tidyverse.org/logo.png)\n",
    "**For cat**egorical variables.\n",
    "\n",
    "* relabels\n",
    "* grouping\n",
    "* setting control levels\n",
    "* etc.\n",
    "\n",
    "### ![ggplot2](http://ggplot2.tidyverse.org/logo.png)\n",
    "\n",
    "The grammar of graphics package.  This provides ready to publish high quality graphs with an intuitive interface that puts the emphasis on the data not on the plot.\n",
    "\n",
    "### ![haven](http://haven.tidyverse.org/logo.png)\n",
    "\n",
    "To read in data from:\n",
    "\n",
    "* SAS\n",
    "* SPSS\n",
    "* Stata\n",
    "\n",
    "*We won't use this*\n",
    "\n",
    "### ![lubridate](http://lubridate.tidyverse.org/logo.png)\n",
    "\n",
    "Date manipulations:\n",
    "\n",
    "* reading dates\n",
    "* extracting parts\n",
    "* intervals\n",
    "* calculating duration (age)\n",
    "\n",
    "### ![magrittr](http://magrittr.tidyverse.org/logo.png)\n",
    "\n",
    "* The pipe `%>%`\n",
    "* building unary function pipelines\n",
    "    + . %>% f1 %>% f2\n",
    "### ![purrr](http://purrr.tidyverse.org/logo.png)\n",
    "\n",
    "Functional programming extensions\n",
    "\n",
    "* `map()` - functional map apply\n",
    "* `partial()` - partial argument specification\n",
    "\n",
    "### ![readr](http://readr.tidyverse.org/logo.png)\n",
    "\n",
    "Reading rectangular data.\n",
    "\n",
    "*We won't use this*\n",
    "\n",
    "### ![readxl](http://readxl.tidyverse.org/logo.png)\n",
    "\n",
    "Guess!\n",
    "\n",
    "### ![stringr](http://stringr.tidyverse.org/logo.png)\n",
    "\n",
    "String manipulations.\n",
    "\n",
    "#### note: the foundation package [`stringi`](https://cran.r-project.org/package=stringi) is also the foundation of many packages.\n",
    "\n",
    "### ![tibble](http://tibble.tidyverse.org/logo.png)\n",
    "\n",
    "Smart data abstraction, foundation of the tidyverse, and dplyr in particular.\n",
    "\n",
    "### ![tidyr](http://tidyr.tidyverse.org/logo.png)\n",
    "\n",
    "Data reshaping:\n",
    "\n",
    "* `gather()` - from wide to long\n",
    "* `spread()` - from long to wide\n",
    "\n",
    "### ![broom](https://d21ii91i3y6o6h.cloudfront.net/gallery_images/from_proof/13592/small/1466619575/rstudio-hex-broom.png)\n",
    "\n",
    "Data cleanup.\n",
    "\n",
    "* `tidy`\n",
    "* `fix_data_frame`\n",
    "\n",
    "\n",
    "![It All fits together](https://aberdeenstudygroup.github.io/studyGroup/lessons/SG-T2-JointWorkshop/tidyverse.png)\n"
   ]
  },
  {
   "cell_type": "markdown",
   "metadata": {},
   "source": [
    "## Other packages we need or will use\n",
    "\n",
    "\n",
    "### [`RMySQL`](https://cran.r-project.org/package=RMySQL)\n",
    "\n",
    "Provides the MySQL DBI comppatible backend used by dbplyr and plyr.\n",
    "\n",
    "### [`tidytext`](https://cran.r-project.org/package=tidytext)\n",
    "\n",
    "Text/NLP processing in R\n"
   ]
  },
  {
   "cell_type": "markdown",
   "metadata": {},
   "source": [
    "# What you need to know\n",
    "\n",
    "### Assignment\n",
    "This is assignment.  When you want to assign something use the arrow."
   ]
  },
  {
   "cell_type": "code",
   "execution_count": 2,
   "metadata": {
    "collapsed": true
   },
   "outputs": [],
   "source": [
    "# this is assignment\n",
    "x <- 1"
   ]
  },
  {
   "cell_type": "markdown",
   "metadata": {},
   "source": [
    "### Function calls\n",
    "calls to functions act very much the way they do in C, C++, Python, etc."
   ]
  },
  {
   "cell_type": "code",
   "execution_count": 3,
   "metadata": {},
   "outputs": [
    {
     "data": {
      "text/html": [
       "<ol class=list-inline>\n",
       "\t<li>-1.34088378188222</li>\n",
       "\t<li>0.902883307898266</li>\n",
       "\t<li>-1.33855421726816</li>\n",
       "\t<li>0.611326085177579</li>\n",
       "\t<li>2.60698745261154</li>\n",
       "</ol>\n"
      ],
      "text/latex": [
       "\\begin{enumerate*}\n",
       "\\item -1.34088378188222\n",
       "\\item 0.902883307898266\n",
       "\\item -1.33855421726816\n",
       "\\item 0.611326085177579\n",
       "\\item 2.60698745261154\n",
       "\\end{enumerate*}\n"
      ],
      "text/markdown": [
       "1. -1.34088378188222\n",
       "2. 0.902883307898266\n",
       "3. -1.33855421726816\n",
       "4. 0.611326085177579\n",
       "5. 2.60698745261154\n",
       "\n",
       "\n"
      ],
      "text/plain": [
       "[1] -1.3408838  0.9028833 -1.3385542  0.6113261  2.6069875"
      ]
     },
     "metadata": {},
     "output_type": "display_data"
    }
   ],
   "source": [
    "rnorm(5)"
   ]
  },
  {
   "cell_type": "markdown",
   "metadata": {},
   "source": [
    "Calls can pass arguments by position as above, or by name as below."
   ]
  },
  {
   "cell_type": "code",
   "execution_count": 4,
   "metadata": {},
   "outputs": [
    {
     "data": {
      "text/html": [
       "<ol class=list-inline>\n",
       "\t<li>132.123121436081</li>\n",
       "\t<li>88.7280420350736</li>\n",
       "\t<li>108.677751190282</li>\n",
       "\t<li>110.661981828467</li>\n",
       "\t<li>116.954281879868</li>\n",
       "</ol>\n"
      ],
      "text/latex": [
       "\\begin{enumerate*}\n",
       "\\item 132.123121436081\n",
       "\\item 88.7280420350736\n",
       "\\item 108.677751190282\n",
       "\\item 110.661981828467\n",
       "\\item 116.954281879868\n",
       "\\end{enumerate*}\n"
      ],
      "text/markdown": [
       "1. 132.123121436081\n",
       "2. 88.7280420350736\n",
       "3. 108.677751190282\n",
       "4. 110.661981828467\n",
       "5. 116.954281879868\n",
       "\n",
       "\n"
      ],
      "text/plain": [
       "[1] 132.12312  88.72804 108.67775 110.66198 116.95428"
      ]
     },
     "metadata": {},
     "output_type": "display_data"
    }
   ],
   "source": [
    "rnorm(n=5, mean=100, sd=30)"
   ]
  },
  {
   "cell_type": "markdown",
   "metadata": {},
   "source": [
    "You can mix them and reorder them"
   ]
  },
  {
   "cell_type": "code",
   "execution_count": 5,
   "metadata": {},
   "outputs": [
    {
     "data": {
      "text/html": [
       "<ol class=list-inline>\n",
       "\t<li>1.84008318125888</li>\n",
       "\t<li>-16.4292966084216</li>\n",
       "\t<li>-6.71554038161891</li>\n",
       "\t<li>9.6723306456478</li>\n",
       "\t<li>10.3422736308396</li>\n",
       "</ol>\n"
      ],
      "text/latex": [
       "\\begin{enumerate*}\n",
       "\\item 1.84008318125888\n",
       "\\item -16.4292966084216\n",
       "\\item -6.71554038161891\n",
       "\\item 9.6723306456478\n",
       "\\item 10.3422736308396\n",
       "\\end{enumerate*}\n"
      ],
      "text/markdown": [
       "1. 1.84008318125888\n",
       "2. -16.4292966084216\n",
       "3. -6.71554038161891\n",
       "4. 9.6723306456478\n",
       "5. 10.3422736308396\n",
       "\n",
       "\n"
      ],
      "text/plain": [
       "[1]   1.840083 -16.429297  -6.715540   9.672331  10.342274"
      ]
     },
     "metadata": {},
     "output_type": "display_data"
    }
   ],
   "source": [
    "rnorm(5, sd=30)"
   ]
  },
  {
   "cell_type": "markdown",
   "metadata": {},
   "source": [
    "### Variables\n",
    "+ Letters, digits, period, underscore, etc\n",
    "+ Most unicode is fine\n",
    "+ no spaces\n",
    "+ Cannot start with digit or underscore, but can start with period\n"
   ]
  },
  {
   "cell_type": "code",
   "execution_count": 6,
   "metadata": {},
   "outputs": [
    {
     "data": {
      "text/html": [
       "'hello world'"
      ],
      "text/latex": [
       "'hello world'"
      ],
      "text/markdown": [
       "'hello world'"
      ],
      "text/plain": [
       "[1] \"hello world\""
      ]
     },
     "metadata": {},
     "output_type": "display_data"
    }
   ],
   "source": [
    "परिवर्तनशील <- \"hello world\"\n",
    "परिवर्तनशील"
   ]
  },
  {
   "cell_type": "markdown",
   "metadata": {},
   "source": [
    "Variables are how everything is stored, data, functions, class definitions, etc."
   ]
  },
  {
   "cell_type": "markdown",
   "metadata": {},
   "source": [
    "### Functions\n",
    "\n",
    "* Functions are created with the `function` keyword and stored in a variable.\n",
    "* Body of the function is encloded in curly braces `{}`\n",
    "* Call it by `name(arguments)`"
   ]
  },
  {
   "cell_type": "code",
   "execution_count": 8,
   "metadata": {},
   "outputs": [
    {
     "data": {
      "text/html": [
       "'10.0%'"
      ],
      "text/latex": [
       "'10.0\\%'"
      ],
      "text/markdown": [
       "'10.0%'"
      ],
      "text/plain": [
       "[1] \"10.0%\""
      ]
     },
     "metadata": {},
     "output_type": "display_data"
    }
   ],
   "source": [
    "percent <- function(x){\n",
    "    sprintf(\"%2.1f%%\", x*100)\n",
    "}\n",
    "percent(0.10)"
   ]
  },
  {
   "cell_type": "markdown",
   "metadata": {},
   "source": [
    "functions are just variables so this is cool."
   ]
  },
  {
   "cell_type": "code",
   "execution_count": 12,
   "metadata": {},
   "outputs": [
    {
     "data": {
      "text/html": [
       "<table>\n",
       "<tbody>\n",
       "\t<tr><td> 4</td><td> 6</td></tr>\n",
       "\t<tr><td> 5</td><td> 7</td></tr>\n",
       "\t<tr><td> 8</td><td>12</td></tr>\n",
       "\t<tr><td>10</td><td>14</td></tr>\n",
       "\t<tr><td>12</td><td>18</td></tr>\n",
       "\t<tr><td>15</td><td>21</td></tr>\n",
       "</tbody>\n",
       "</table>\n"
      ],
      "text/latex": [
       "\\begin{tabular}{ll}\n",
       "\t  4 &  6\\\\\n",
       "\t  5 &  7\\\\\n",
       "\t  8 & 12\\\\\n",
       "\t 10 & 14\\\\\n",
       "\t 12 & 18\\\\\n",
       "\t 15 & 21\\\\\n",
       "\\end{tabular}\n"
      ],
      "text/markdown": [
       "\n",
       "|  4 |  6 | \n",
       "|  5 |  7 | \n",
       "|  8 | 12 | \n",
       "| 10 | 14 | \n",
       "| 12 | 18 | \n",
       "| 15 | 21 | \n",
       "\n",
       "\n"
      ],
      "text/plain": [
       "     [,1] [,2]\n",
       "[1,]  4    6  \n",
       "[2,]  5    7  \n",
       "[3,]  8   12  \n",
       "[4,] 10   14  \n",
       "[5,] 12   18  \n",
       "[6,] 15   21  "
      ]
     },
     "metadata": {},
     "output_type": "display_data"
    }
   ],
   "source": [
    "ᚙ <- function(a,b){\n",
    "    c <- matrix( nrow = nrow(a) * nrow(b)\n",
    "           , ncol = ncol(a) * ncol(b)\n",
    "           )\n",
    "    for (i in 1:nrow(c)) for(j in seq(ncol(c))) {\n",
    "        c[i,j] <- \n",
    "            a[(i-1) /  nrow(b) + 1, (j-1) /  ncol(b) + 1]  *\n",
    "            b[(i-1) %% nrow(b) + 1, (j-1) %% ncol(b) + 1]\n",
    "    }\n",
    "    return(c) #< return statement could have been writen just c.\n",
    "}\n",
    "a <- matrix(1:3, 3, 1)\n",
    "b <- matrix(4:7, 2, 2)\n",
    "\n",
    "ᚙ(a,b)"
   ]
  },
  {
   "cell_type": "markdown",
   "metadata": {},
   "source": [
    "### Element Access\n",
    "* `x[i]` by position or name\n",
    "* `x[[i]]` might return something different\n",
    "* **`x$name` by name**\n",
    "* `x[[\"name\"]]` equivalent to above\n",
    "* `x[,\"name\"]` equivalent to above\n",
    "* `x[row,]` for row(s) (use `x[start:finish,]` for a range of rows)\n",
    "* `x[row,col]` for specific location\n"
   ]
  },
  {
   "cell_type": "code",
   "execution_count": 13,
   "metadata": {},
   "outputs": [
    {
     "data": {
      "text/html": [
       "<table>\n",
       "<thead><tr><th scope=col>Sepal.Length</th></tr></thead>\n",
       "<tbody>\n",
       "\t<tr><td>5.1</td></tr>\n",
       "\t<tr><td>4.9</td></tr>\n",
       "\t<tr><td>4.7</td></tr>\n",
       "\t<tr><td>4.6</td></tr>\n",
       "\t<tr><td>5.0</td></tr>\n",
       "\t<tr><td>5.4</td></tr>\n",
       "</tbody>\n",
       "</table>\n"
      ],
      "text/latex": [
       "\\begin{tabular}{r|l}\n",
       " Sepal.Length\\\\\n",
       "\\hline\n",
       "\t 5.1\\\\\n",
       "\t 4.9\\\\\n",
       "\t 4.7\\\\\n",
       "\t 4.6\\\\\n",
       "\t 5.0\\\\\n",
       "\t 5.4\\\\\n",
       "\\end{tabular}\n"
      ],
      "text/markdown": [
       "\n",
       "Sepal.Length | \n",
       "|---|---|---|---|---|---|\n",
       "| 5.1 | \n",
       "| 4.9 | \n",
       "| 4.7 | \n",
       "| 4.6 | \n",
       "| 5.0 | \n",
       "| 5.4 | \n",
       "\n",
       "\n"
      ],
      "text/plain": [
       "  Sepal.Length\n",
       "1 5.1         \n",
       "2 4.9         \n",
       "3 4.7         \n",
       "4 4.6         \n",
       "5 5.0         \n",
       "6 5.4         "
      ]
     },
     "metadata": {},
     "output_type": "display_data"
    }
   ],
   "source": [
    "# x is a data frame, we only deal with \n",
    "# data structures that act the same\n",
    "x <- head(iris)\n",
    "# gives the first column\n",
    "x[1]"
   ]
  },
  {
   "cell_type": "code",
   "execution_count": 15,
   "metadata": {},
   "outputs": [
    {
     "data": {
      "text/html": [
       "<table>\n",
       "<thead><tr><th scope=col>Sepal.Length</th><th scope=col>Sepal.Width</th><th scope=col>Petal.Length</th><th scope=col>Petal.Width</th><th scope=col>Species</th></tr></thead>\n",
       "<tbody>\n",
       "\t<tr><td>5.1   </td><td>3.5   </td><td>1.4   </td><td>0.2   </td><td>setosa</td></tr>\n",
       "</tbody>\n",
       "</table>\n"
      ],
      "text/latex": [
       "\\begin{tabular}{r|lllll}\n",
       " Sepal.Length & Sepal.Width & Petal.Length & Petal.Width & Species\\\\\n",
       "\\hline\n",
       "\t 5.1    & 3.5    & 1.4    & 0.2    & setosa\\\\\n",
       "\\end{tabular}\n"
      ],
      "text/markdown": [
       "\n",
       "Sepal.Length | Sepal.Width | Petal.Length | Petal.Width | Species | \n",
       "|---|\n",
       "| 5.1    | 3.5    | 1.4    | 0.2    | setosa | \n",
       "\n",
       "\n"
      ],
      "text/plain": [
       "  Sepal.Length Sepal.Width Petal.Length Petal.Width Species\n",
       "1 5.1          3.5         1.4          0.2         setosa "
      ]
     },
     "metadata": {},
     "output_type": "display_data"
    }
   ],
   "source": [
    "# gives the first row\n",
    "x[1,]"
   ]
  },
  {
   "cell_type": "code",
   "execution_count": 19,
   "metadata": {},
   "outputs": [
    {
     "data": {
      "text/html": [
       "<table>\n",
       "<thead><tr><th scope=col>Sepal.Length</th><th scope=col>Sepal.Width</th><th scope=col>Petal.Length</th><th scope=col>Petal.Width</th><th scope=col>Species</th></tr></thead>\n",
       "<tbody>\n",
       "\t<tr><td>5.1   </td><td>3.5   </td><td>1.4   </td><td>0.2   </td><td>setosa</td></tr>\n",
       "\t<tr><td>4.9   </td><td>3.0   </td><td>1.4   </td><td>0.2   </td><td>setosa</td></tr>\n",
       "\t<tr><td>4.7   </td><td>3.2   </td><td>1.3   </td><td>0.2   </td><td>setosa</td></tr>\n",
       "\t<tr><td>4.6   </td><td>3.1   </td><td>1.5   </td><td>0.2   </td><td>setosa</td></tr>\n",
       "\t<tr><td>5.0   </td><td>3.6   </td><td>1.4   </td><td>0.2   </td><td>setosa</td></tr>\n",
       "</tbody>\n",
       "</table>\n"
      ],
      "text/latex": [
       "\\begin{tabular}{r|lllll}\n",
       " Sepal.Length & Sepal.Width & Petal.Length & Petal.Width & Species\\\\\n",
       "\\hline\n",
       "\t 5.1    & 3.5    & 1.4    & 0.2    & setosa\\\\\n",
       "\t 4.9    & 3.0    & 1.4    & 0.2    & setosa\\\\\n",
       "\t 4.7    & 3.2    & 1.3    & 0.2    & setosa\\\\\n",
       "\t 4.6    & 3.1    & 1.5    & 0.2    & setosa\\\\\n",
       "\t 5.0    & 3.6    & 1.4    & 0.2    & setosa\\\\\n",
       "\\end{tabular}\n"
      ],
      "text/markdown": [
       "\n",
       "Sepal.Length | Sepal.Width | Petal.Length | Petal.Width | Species | \n",
       "|---|---|---|---|---|\n",
       "| 5.1    | 3.5    | 1.4    | 0.2    | setosa | \n",
       "| 4.9    | 3.0    | 1.4    | 0.2    | setosa | \n",
       "| 4.7    | 3.2    | 1.3    | 0.2    | setosa | \n",
       "| 4.6    | 3.1    | 1.5    | 0.2    | setosa | \n",
       "| 5.0    | 3.6    | 1.4    | 0.2    | setosa | \n",
       "\n",
       "\n"
      ],
      "text/plain": [
       "  Sepal.Length Sepal.Width Petal.Length Petal.Width Species\n",
       "1 5.1          3.5         1.4          0.2         setosa \n",
       "2 4.9          3.0         1.4          0.2         setosa \n",
       "3 4.7          3.2         1.3          0.2         setosa \n",
       "4 4.6          3.1         1.5          0.2         setosa \n",
       "5 5.0          3.6         1.4          0.2         setosa "
      ]
     },
     "metadata": {},
     "output_type": "display_data"
    }
   ],
   "source": [
    "# first 5 rows\n",
    "x[1:5,]"
   ]
  },
  {
   "cell_type": "code",
   "execution_count": 16,
   "metadata": {},
   "outputs": [
    {
     "data": {
      "text/html": [
       "<ol class=list-inline>\n",
       "\t<li>5.1</li>\n",
       "\t<li>4.9</li>\n",
       "\t<li>4.7</li>\n",
       "\t<li>4.6</li>\n",
       "\t<li>5</li>\n",
       "\t<li>5.4</li>\n",
       "</ol>\n"
      ],
      "text/latex": [
       "\\begin{enumerate*}\n",
       "\\item 5.1\n",
       "\\item 4.9\n",
       "\\item 4.7\n",
       "\\item 4.6\n",
       "\\item 5\n",
       "\\item 5.4\n",
       "\\end{enumerate*}\n"
      ],
      "text/markdown": [
       "1. 5.1\n",
       "2. 4.9\n",
       "3. 4.7\n",
       "4. 4.6\n",
       "5. 5\n",
       "6. 5.4\n",
       "\n",
       "\n"
      ],
      "text/plain": [
       "[1] 5.1 4.9 4.7 4.6 5.0 5.4"
      ]
     },
     "metadata": {},
     "output_type": "display_data"
    }
   ],
   "source": [
    "# first column as a vector\n",
    "x$Sepal.Length"
   ]
  },
  {
   "cell_type": "code",
   "execution_count": 17,
   "metadata": {},
   "outputs": [
    {
     "data": {
      "text/html": [
       "<ol class=list-inline>\n",
       "\t<li>5.1</li>\n",
       "\t<li>4.9</li>\n",
       "\t<li>4.7</li>\n",
       "\t<li>4.6</li>\n",
       "\t<li>5</li>\n",
       "\t<li>5.4</li>\n",
       "</ol>\n"
      ],
      "text/latex": [
       "\\begin{enumerate*}\n",
       "\\item 5.1\n",
       "\\item 4.9\n",
       "\\item 4.7\n",
       "\\item 4.6\n",
       "\\item 5\n",
       "\\item 5.4\n",
       "\\end{enumerate*}\n"
      ],
      "text/markdown": [
       "1. 5.1\n",
       "2. 4.9\n",
       "3. 4.7\n",
       "4. 4.6\n",
       "5. 5\n",
       "6. 5.4\n",
       "\n",
       "\n"
      ],
      "text/plain": [
       "[1] 5.1 4.9 4.7 4.6 5.0 5.4"
      ]
     },
     "metadata": {},
     "output_type": "display_data"
    }
   ],
   "source": [
    "# Same\n",
    "x[[\"Sepal.Length\"]]"
   ]
  },
  {
   "cell_type": "code",
   "execution_count": 18,
   "metadata": {},
   "outputs": [
    {
     "data": {
      "text/html": [
       "<ol class=list-inline>\n",
       "\t<li>5.1</li>\n",
       "\t<li>4.9</li>\n",
       "\t<li>4.7</li>\n",
       "\t<li>4.6</li>\n",
       "\t<li>5</li>\n",
       "\t<li>5.4</li>\n",
       "</ol>\n"
      ],
      "text/latex": [
       "\\begin{enumerate*}\n",
       "\\item 5.1\n",
       "\\item 4.9\n",
       "\\item 4.7\n",
       "\\item 4.6\n",
       "\\item 5\n",
       "\\item 5.4\n",
       "\\end{enumerate*}\n"
      ],
      "text/markdown": [
       "1. 5.1\n",
       "2. 4.9\n",
       "3. 4.7\n",
       "4. 4.6\n",
       "5. 5\n",
       "6. 5.4\n",
       "\n",
       "\n"
      ],
      "text/plain": [
       "[1] 5.1 4.9 4.7 4.6 5.0 5.4"
      ]
     },
     "metadata": {},
     "output_type": "display_data"
    }
   ],
   "source": [
    "# same\n",
    "x[, \"Sepal.Length\"]"
   ]
  },
  {
   "cell_type": "markdown",
   "metadata": {},
   "source": [
    "## Major differences between R and Python\n",
    "\n",
    "* in R you cannot subset with `x[start:]` like you can in python, this is a syntax error.\n",
    "* Everything in R is a vector,\n",
    "    + everthing has a `length`\n",
    "    + but only some things have a `dim` (dimension); data frames, tables, matrices, etc.\n",
    "* In R indent means absolutely nothing, but is good for code readability.\n",
    "* Indexing with negative numbers\n",
    "    + in python `x[-1]` gives the last element.\n",
    "    + in R `x[-1]` drops the first element.\n",
    "    + it is better form to use `head` and `tail` for these."
   ]
  },
  {
   "cell_type": "markdown",
   "metadata": {},
   "source": [
    "## Getting help for R\n",
    "* The `?` operator is quick help but works in interactive sessions, not so helpful in Jupyter.\n",
    "* Rstudio, which you should be using for lots of R programming, has help as a pane built in.\n",
    "* [RDocumentation.org](https://rdocumentation.org) a helpful site, done by data camp that gives the documentation for all packages on CRAN.\n",
    "* [StackOverflow](https://stackoverflow.com/questions/tagged/r)\n",
    "* [Utah R Users Group](https://sites.google.com/site/utahrug/)\n",
    "* Mailing lists and special interest groups.\n",
    "* JFGI (Just <span title=\"we are still in utah right?\">*freaking*</span> [Google](https://google.com) it)"
   ]
  }
 ],
 "metadata": {
  "kernelspec": {
   "display_name": "R",
   "language": "R",
   "name": "ir"
  },
  "language_info": {
   "codemirror_mode": "r",
   "file_extension": ".r",
   "mimetype": "text/x-r-source",
   "name": "R",
   "pygments_lexer": "r",
   "version": "3.3.2"
  }
 },
 "nbformat": 4,
 "nbformat_minor": 2
}
