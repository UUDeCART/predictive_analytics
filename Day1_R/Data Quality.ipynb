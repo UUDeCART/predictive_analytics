{
 "cells": [
  {
   "cell_type": "markdown",
   "metadata": {},
   "source": [
    "# Data Quality\n",
    "## Setup"
   ]
  },
  {
   "cell_type": "code",
   "execution_count": 1,
   "metadata": {},
   "outputs": [
    {
     "name": "stderr",
     "output_type": "stream",
     "text": [
      "Loading tidyverse: ggplot2\n",
      "Loading tidyverse: tibble\n",
      "Loading tidyverse: tidyr\n",
      "Loading tidyverse: readr\n",
      "Loading tidyverse: purrr\n",
      "Loading tidyverse: dplyr\n",
      "Conflicts with tidy packages ---------------------------------------------------\n",
      "filter(): dplyr, stats\n",
      "lag():    dplyr, stats\n",
      "\n",
      "Attaching package: ‘dbplyr’\n",
      "\n",
      "The following objects are masked from ‘package:dplyr’:\n",
      "\n",
      "    ident, sql\n",
      "\n"
     ]
    }
   ],
   "source": [
    "library(DBI)\n",
    "library(RMySQL)\n",
    "library(tidyverse)\n",
    "library(dbplyr)"
   ]
  },
  {
   "cell_type": "markdown",
   "metadata": {},
   "source": [
    "## Read in data"
   ]
  },
  {
   "cell_type": "code",
   "execution_count": 2,
   "metadata": {
    "collapsed": true
   },
   "outputs": [],
   "source": [
    "mimic.db <- dbConnect( RMySQL::MySQL(), host=\"mysql\", port=3306\n",
    "                     , user=\"jovyan\", password=\"jovyan\", dbname=\"mimic2\"\n",
    "                     )"
   ]
  },
  {
   "cell_type": "code",
   "execution_count": 3,
   "metadata": {},
   "outputs": [
    {
     "data": {
      "text/html": [
       "<ol class=list-inline>\n",
       "\t<li>'a_chartdurations'</li>\n",
       "\t<li>'a_iodurations'</li>\n",
       "\t<li>'a_meddurations'</li>\n",
       "\t<li>'additives'</li>\n",
       "\t<li>'admissions'</li>\n",
       "\t<li>'censusevents'</li>\n",
       "\t<li>'chartevents'</li>\n",
       "\t<li>'comorbidity_scores'</li>\n",
       "\t<li>'d_caregivers'</li>\n",
       "\t<li>'d_careunits'</li>\n",
       "\t<li>'d_chartitems'</li>\n",
       "\t<li>'d_chartitems_detail'</li>\n",
       "\t<li>'d_codeditems'</li>\n",
       "\t<li>'d_demographicitems'</li>\n",
       "\t<li>'d_ioitems'</li>\n",
       "\t<li>'d_labitems'</li>\n",
       "\t<li>'d_meditems'</li>\n",
       "\t<li>'d_parammap_items'</li>\n",
       "\t<li>'d_patients'</li>\n",
       "\t<li>'db_schema'</li>\n",
       "\t<li>'deliveries'</li>\n",
       "\t<li>'demographic_detail'</li>\n",
       "\t<li>'demographicevents'</li>\n",
       "\t<li>'drgevents'</li>\n",
       "\t<li>'icd9'</li>\n",
       "\t<li>'icustay_days'</li>\n",
       "\t<li>'icustay_detail'</li>\n",
       "\t<li>'icustayevents'</li>\n",
       "\t<li>'ioevents'</li>\n",
       "\t<li>'labevents'</li>\n",
       "\t<li>'medevents'</li>\n",
       "\t<li>'microbiologyevents'</li>\n",
       "\t<li>'noteevents'</li>\n",
       "\t<li>'parameter_mapping'</li>\n",
       "\t<li>'poe_med'</li>\n",
       "\t<li>'poe_order'</li>\n",
       "\t<li>'procedureevents'</li>\n",
       "\t<li>'totalbalevents'</li>\n",
       "</ol>\n"
      ],
      "text/latex": [
       "\\begin{enumerate*}\n",
       "\\item 'a\\_chartdurations'\n",
       "\\item 'a\\_iodurations'\n",
       "\\item 'a\\_meddurations'\n",
       "\\item 'additives'\n",
       "\\item 'admissions'\n",
       "\\item 'censusevents'\n",
       "\\item 'chartevents'\n",
       "\\item 'comorbidity\\_scores'\n",
       "\\item 'd\\_caregivers'\n",
       "\\item 'd\\_careunits'\n",
       "\\item 'd\\_chartitems'\n",
       "\\item 'd\\_chartitems\\_detail'\n",
       "\\item 'd\\_codeditems'\n",
       "\\item 'd\\_demographicitems'\n",
       "\\item 'd\\_ioitems'\n",
       "\\item 'd\\_labitems'\n",
       "\\item 'd\\_meditems'\n",
       "\\item 'd\\_parammap\\_items'\n",
       "\\item 'd\\_patients'\n",
       "\\item 'db\\_schema'\n",
       "\\item 'deliveries'\n",
       "\\item 'demographic\\_detail'\n",
       "\\item 'demographicevents'\n",
       "\\item 'drgevents'\n",
       "\\item 'icd9'\n",
       "\\item 'icustay\\_days'\n",
       "\\item 'icustay\\_detail'\n",
       "\\item 'icustayevents'\n",
       "\\item 'ioevents'\n",
       "\\item 'labevents'\n",
       "\\item 'medevents'\n",
       "\\item 'microbiologyevents'\n",
       "\\item 'noteevents'\n",
       "\\item 'parameter\\_mapping'\n",
       "\\item 'poe\\_med'\n",
       "\\item 'poe\\_order'\n",
       "\\item 'procedureevents'\n",
       "\\item 'totalbalevents'\n",
       "\\end{enumerate*}\n"
      ],
      "text/markdown": [
       "1. 'a_chartdurations'\n",
       "2. 'a_iodurations'\n",
       "3. 'a_meddurations'\n",
       "4. 'additives'\n",
       "5. 'admissions'\n",
       "6. 'censusevents'\n",
       "7. 'chartevents'\n",
       "8. 'comorbidity_scores'\n",
       "9. 'd_caregivers'\n",
       "10. 'd_careunits'\n",
       "11. 'd_chartitems'\n",
       "12. 'd_chartitems_detail'\n",
       "13. 'd_codeditems'\n",
       "14. 'd_demographicitems'\n",
       "15. 'd_ioitems'\n",
       "16. 'd_labitems'\n",
       "17. 'd_meditems'\n",
       "18. 'd_parammap_items'\n",
       "19. 'd_patients'\n",
       "20. 'db_schema'\n",
       "21. 'deliveries'\n",
       "22. 'demographic_detail'\n",
       "23. 'demographicevents'\n",
       "24. 'drgevents'\n",
       "25. 'icd9'\n",
       "26. 'icustay_days'\n",
       "27. 'icustay_detail'\n",
       "28. 'icustayevents'\n",
       "29. 'ioevents'\n",
       "30. 'labevents'\n",
       "31. 'medevents'\n",
       "32. 'microbiologyevents'\n",
       "33. 'noteevents'\n",
       "34. 'parameter_mapping'\n",
       "35. 'poe_med'\n",
       "36. 'poe_order'\n",
       "37. 'procedureevents'\n",
       "38. 'totalbalevents'\n",
       "\n",
       "\n"
      ],
      "text/plain": [
       " [1] \"a_chartdurations\"    \"a_iodurations\"       \"a_meddurations\"     \n",
       " [4] \"additives\"           \"admissions\"          \"censusevents\"       \n",
       " [7] \"chartevents\"         \"comorbidity_scores\"  \"d_caregivers\"       \n",
       "[10] \"d_careunits\"         \"d_chartitems\"        \"d_chartitems_detail\"\n",
       "[13] \"d_codeditems\"        \"d_demographicitems\"  \"d_ioitems\"          \n",
       "[16] \"d_labitems\"          \"d_meditems\"          \"d_parammap_items\"   \n",
       "[19] \"d_patients\"          \"db_schema\"           \"deliveries\"         \n",
       "[22] \"demographic_detail\"  \"demographicevents\"   \"drgevents\"          \n",
       "[25] \"icd9\"                \"icustay_days\"        \"icustay_detail\"     \n",
       "[28] \"icustayevents\"       \"ioevents\"            \"labevents\"          \n",
       "[31] \"medevents\"           \"microbiologyevents\"  \"noteevents\"         \n",
       "[34] \"parameter_mapping\"   \"poe_med\"             \"poe_order\"          \n",
       "[37] \"procedureevents\"     \"totalbalevents\"     "
      ]
     },
     "metadata": {},
     "output_type": "display_data"
    }
   ],
   "source": [
    "dbListTables(mimic.db)"
   ]
  },
  {
   "cell_type": "code",
   "execution_count": 4,
   "metadata": {
    "collapsed": true
   },
   "outputs": [],
   "source": [
    "# The patients table\n",
    "patients   <- tbl(mimic.db, \"d_patients\")\n",
    "# Admissions\n",
    "admissions <- tbl(mimic.db, \"admissions\")\n",
    "# ICU Stays\n",
    "icustays   <- tbl(mimic.db, \"icustayevents\")\n",
    "# Notes\n",
    "noteevents <- tbl(mimic.db, 'noteevents')\n",
    "# Care givers\n",
    "caregivers <- tbl(mimic.db, 'd_caregivers')\n",
    "# icd9 Diagnoses\n",
    "icd9       <- tbl(mimic.db, 'icd9')"
   ]
  },
  {
   "cell_type": "code",
   "execution_count": 5,
   "metadata": {},
   "outputs": [
    {
     "name": "stdout",
     "output_type": "stream",
     "text": [
      "Observations: 25\n",
      "Variables: 5\n",
      "$ subject_id          <int> 56, 3, 21, 12, 26, 37, 31, 61, 78, 67, 83, 117,...\n",
      "$ sex                 <chr> \"F\", \"M\", \"M\", \"M\", \"M\", \"M\", \"M\", \"M\", \"M\", \"M...\n",
      "$ dob                 <chr> \"2553-05-26 00:00:00\", \"2606-02-28 00:00:00\", \"...\n",
      "$ dod                 <chr> \"2644-01-23 00:00:00\", \"2683-05-02 00:00:00\", \"...\n",
      "$ hospital_expire_flg <chr> \"Y\", \"N\", \"Y\", \"Y\", \"N\", \"N\", \"Y\", \"Y\", \"N\", \"Y...\n"
     ]
    }
   ],
   "source": [
    "glimpse(patients)"
   ]
  },
  {
   "cell_type": "markdown",
   "metadata": {},
   "source": [
    "**NOTE:**  \n",
    "With glimpse using remote(dbi) tables do not trust the observations number that is not correct. For example,"
   ]
  },
  {
   "cell_type": "code",
   "execution_count": 6,
   "metadata": {},
   "outputs": [
    {
     "data": {
      "text/plain": [
       "# Source:   lazy query [?? x 1]\n",
       "# Database: mysql 5.7.12 [jovyan@mysql:/mimic2]\n",
       "      n\n",
       "  <dbl>\n",
       "1  4000"
      ]
     },
     "metadata": {},
     "output_type": "display_data"
    }
   ],
   "source": [
    "count(patients)"
   ]
  },
  {
   "cell_type": "markdown",
   "metadata": {},
   "source": [
    "the patients table has 4000 patients, so in the rest of this and when using your own we only pay attention to observations if it is less than 25."
   ]
  },
  {
   "cell_type": "markdown",
   "metadata": {},
   "source": [
    "## Check the data"
   ]
  },
  {
   "cell_type": "code",
   "execution_count": 7,
   "metadata": {},
   "outputs": [
    {
     "data": {
      "text/plain": [
       "# Source:   lazy query [?? x 3]\n",
       "# Database: mysql 5.7.12 [jovyan@mysql:/mimic2]\n",
       "# Groups:   sex\n",
       "    sex hospital_expire_flg     n\n",
       "  <chr>               <chr> <dbl>\n",
       "1  <NA>                   N    10\n",
       "2  <NA>                   Y     3\n",
       "3     F                   N  1047\n",
       "4     F                   Y   809\n",
       "5     M                   N  1290\n",
       "6     M                   Y   841"
      ]
     },
     "metadata": {},
     "output_type": "display_data"
    }
   ],
   "source": [
    "patients %>% count(sex, hospital_expire_flg)"
   ]
  },
  {
   "cell_type": "markdown",
   "metadata": {},
   "source": [
    "Investigate the patients with missing sex"
   ]
  },
  {
   "cell_type": "code",
   "execution_count": 8,
   "metadata": {},
   "outputs": [
    {
     "name": "stdout",
     "output_type": "stream",
     "text": [
      "# Source:   lazy query [?? x 5]\n",
      "# Database: mysql 5.7.12 [jovyan@mysql:/mimic2]\n",
      "   subject_id   sex                 dob                 dod hospital_expire_flg\n",
      "        <int> <chr>               <chr>               <chr>               <chr>\n",
      " 1       1659  <NA> 3099-07-04 00:00:00 3182-10-07 00:00:00                   N\n",
      " 2       3520  <NA> 2627-09-29 00:00:00 2711-01-31 00:00:00                   N\n",
      " 3       6625  <NA> 3195-12-28 00:00:00 3281-12-24 00:00:00                   N\n",
      " 4       8187  <NA> 2767-04-15 00:00:00 2839-12-16 00:00:00                   N\n",
      " 5      15556  <NA> 2929-04-23 00:00:00 3018-06-03 00:00:00                   N\n",
      " 6      17056  <NA> 2897-01-05 00:00:00 2955-11-04 00:00:00                   N\n",
      " 7      18841  <NA> 2468-06-28 00:00:00 2542-07-01 00:00:00                   Y\n",
      " 8      20211  <NA> 2562-07-17 00:00:00 2621-02-21 00:00:00                   Y\n",
      " 9      21684  <NA> 2853-04-06 00:00:00 2895-11-03 00:00:00                   Y\n",
      "10      22042  <NA> 3398-01-06 00:00:00 3463-11-30 00:00:00                   N\n",
      "11      22917  <NA> 2535-09-02 00:00:00 2620-07-07 00:00:00                   N\n",
      "12      23919  <NA> 2967-05-21 00:00:00 3021-10-04 00:00:00                   N\n",
      "13      26237  <NA> 3149-01-15 00:00:00 3231-07-05 00:00:00                   N\n"
     ]
    }
   ],
   "source": [
    "patients %>%                #< Using patients data,\n",
    "    filter(is.na(sex)) %>%  #< filter to those missing sex,\n",
    "    print(n=14)             #< and print everything.\n"
   ]
  },
  {
   "cell_type": "markdown",
   "metadata": {},
   "source": [
    "That is hard to read so lets add age.  However age cannot be computed directly from the database.  It could be **if** `dob` and `dod` were stored as timestamp fields but as they are character strings we are *SOL* for operating on the database so we have to bring things local.\n",
    "\n",
    "To convert to a local table we use the `collect` function."
   ]
  },
  {
   "cell_type": "code",
   "execution_count": 9,
   "metadata": {},
   "outputs": [
    {
     "name": "stderr",
     "output_type": "stream",
     "text": [
      "\n",
      "Attaching package: ‘lubridate’\n",
      "\n",
      "The following object is masked from ‘package:base’:\n",
      "\n",
      "    date\n",
      "\n"
     ]
    },
    {
     "name": "stdout",
     "output_type": "stream",
     "text": [
      "# A tibble: 13 x 5\n",
      "   subject_id                 dob                 dod hospital_expire_flg      age\n",
      "        <int>               <chr>               <chr>               <chr>    <dbl>\n",
      " 1       1659 3099-07-04 00:00:00 3182-10-07 00:00:00                   N 83.31507\n",
      " 2       3520 2627-09-29 00:00:00 2711-01-31 00:00:00                   N 83.39452\n",
      " 3       6625 3195-12-28 00:00:00 3281-12-24 00:00:00                   N 86.04932\n",
      " 4       8187 2767-04-15 00:00:00 2839-12-16 00:00:00                   N 72.72055\n",
      " 5      15556 2929-04-23 00:00:00 3018-06-03 00:00:00                   N 89.16986\n",
      " 6      17056 2897-01-05 00:00:00 2955-11-04 00:00:00                   N 58.86575\n",
      " 7      22042 3398-01-06 00:00:00 3463-11-30 00:00:00                   N 65.93973\n",
      " 8      22917 2535-09-02 00:00:00 2620-07-07 00:00:00                   N 84.90137\n",
      " 9      23919 2967-05-21 00:00:00 3021-10-04 00:00:00                   N 54.40822\n",
      "10      26237 3149-01-15 00:00:00 3231-07-05 00:00:00                   N 82.52329\n",
      "11      18841 2468-06-28 00:00:00 2542-07-01 00:00:00                   Y 74.05479\n",
      "12      20211 2562-07-17 00:00:00 2621-02-21 00:00:00                   Y 58.63836\n",
      "13      21684 2853-04-06 00:00:00 2895-11-03 00:00:00                   Y 42.60548\n"
     ]
    }
   ],
   "source": [
    "library(lubridate)\n",
    "age <- function(dob, to) {\n",
    "    # There are faster ways to do this but this is the simplest.\n",
    "    # the interval function will automatically convert dob  and to\n",
    "    # into date variables if they are in an unambiguous format\n",
    "    # such as \"Y-M-D H:M:S\".  \n",
    "    # This conversion could be done explicitly with the function ymd_hms\n",
    "    interval(dob, to)/dyears(1)\n",
    "}\n",
    "patients %>%\n",
    "    filter(is.na(sex)) %>% \n",
    "    select(-sex) %>%                         #< drop sex because we know what it is (missing).\n",
    "    collect %>%                               #< We have to convert the table to local to mutate,\n",
    "    mutate(age = age(dob, dod)) %>%          #< then add age at death,\n",
    "    arrange(hospital_expire_flg) %>%         #< and change the sorting order.\n",
    "    print(n=14, width=Inf)                   #< expanded the width to show all the columns\n",
    "\n"
   ]
  },
  {
   "cell_type": "markdown",
   "metadata": {},
   "source": [
    "Interesting that they are older but nothing to explain why sex is missing.\n",
    "> ### Discussion\n",
    "> * Is this an issue for the data?\n",
    "> * How can we investigate this more?\n",
    "> * How can we deal with it?"
   ]
  },
  {
   "cell_type": "markdown",
   "metadata": {},
   "source": [
    "### Ploting data"
   ]
  },
  {
   "cell_type": "markdown",
   "metadata": {},
   "source": [
    "we will use [ggplot2](https://cran.r-project.org/package=ggplot2) for all of our graphics. Since ggplot2 cannot deal with remote data we do have to convert our patients to a local table which we saw already but let's also do some cleanup while we are at it.\n",
    "\n",
    "There should be no problem since there are only 4000 patients, but we should use caution when pulling down very large tables from SQL."
   ]
  },
  {
   "cell_type": "code",
   "execution_count": 10,
   "metadata": {
    "collapsed": true
   },
   "outputs": [],
   "source": [
    "patients.tbl <- patients %>%\n",
    "                    collect %>%                  #< convert to local\n",
    "                    mutate( dob = ymd_hms(dob)  #< convert to a true date format\n",
    "                          , dod = ymd_hms(dod)  #< for both birth and death\n",
    "                          , age = age(dob, dod) #< age does not need to convert.\n",
    "                          )"
   ]
  },
  {
   "cell_type": "code",
   "execution_count": 11,
   "metadata": {},
   "outputs": [
    {
     "name": "stdout",
     "output_type": "stream",
     "text": [
      "Observations: 4,000\n",
      "Variables: 6\n",
      "$ subject_id          <int> 56, 3, 21, 12, 26, 37, 31, 61, 78, 67, 83, 117,...\n",
      "$ sex                 <chr> \"F\", \"M\", \"M\", \"M\", \"M\", \"M\", \"M\", \"M\", \"M\", \"M...\n",
      "$ dob                 <dttm> 2553-05-26, 2606-02-28, 3051-05-22, 2803-05-14...\n",
      "$ dod                 <dttm> 2644-01-23, 2683-05-02, 3139-03-28, 2875-10-09...\n",
      "$ hospital_expire_flg <chr> \"Y\", \"N\", \"Y\", \"Y\", \"N\", \"N\", \"Y\", \"Y\", \"N\", \"Y...\n",
      "$ age                 <dbl> 90.72055, 77.22466, 87.90685, 72.45479, 73.8602...\n"
     ]
    }
   ],
   "source": [
    "patients.tbl %>% glimpse"
   ]
  },
  {
   "cell_type": "markdown",
   "metadata": {},
   "source": [
    "> ### Shortcut:\n",
    "> [Here is a shortcut for you](../../view/using.R).\n",
    "> The `using` function is a script that will both load multiple packages and install and load missing ones."
   ]
  },
  {
   "cell_type": "code",
   "execution_count": 12,
   "metadata": {},
   "outputs": [
    {
     "name": "stderr",
     "output_type": "stream",
     "text": [
      "Loading required package: scales\n"
     ]
    }
   ],
   "source": [
    "source(\"../using.R\")\n",
    "using(ggplot2, scales)"
   ]
  },
  {
   "cell_type": "code",
   "execution_count": 13,
   "metadata": {},
   "outputs": [
    {
     "data": {},
     "metadata": {},
     "output_type": "display_data"
    },
    {
     "data": {
      "image/png": "[encoded data removed]",
      "text/plain": [
       "plot without title"
      ]
     },
     "metadata": {},
     "output_type": "display_data"
    }
   ],
   "source": [
    "qplot( data=patients.tbl  #< use data patients.tbl, our local version\n",
    "     , x=dob              #< the horizontal variable is Date of Birth\n",
    "     , geom='density'     #< and we want a density geometry\n",
    "     ) +\n",
    "     labs(x='Date of Birth (year)')  #< change the label to make it cleaner.    "
   ]
  },
  {
   "cell_type": "code",
   "execution_count": 14,
   "metadata": {},
   "outputs": [
    {
     "data": {},
     "metadata": {},
     "output_type": "display_data"
    },
    {
     "data": {
      "image/png": "[encoded data removed]",
      "text/plain": [
       "plot without title"
      ]
     },
     "metadata": {},
     "output_type": "display_data"
    }
   ],
   "source": [
    "qplot(data=patients.tbl, x=dod, geom='density')"
   ]
  },
  {
   "cell_type": "code",
   "execution_count": 15,
   "metadata": {
    "scrolled": true
   },
   "outputs": [
    {
     "data": {},
     "metadata": {},
     "output_type": "display_data"
    },
    {
     "data": {
      "image/png": "[encoded data removed]",
      "text/plain": [
       "plot without title"
      ]
     },
     "metadata": {},
     "output_type": "display_data"
    }
   ],
   "source": [
    "# this time we do a two dimensional plot\n",
    "qplot(data=patients.tbl, x=dob, y=dod, geom='density2d') + \n",
    "    geom_point(alpha=1, shape='.') + \n",
    "    labs( x = \"Birth (year)\"\n",
    "        , y = \"Death (year)\"\n",
    "        )"
   ]
  },
  {
   "cell_type": "markdown",
   "metadata": {},
   "source": [
    "**Takeaway:**  \n",
    "Dates are clearly only relevent within patient."
   ]
  },
  {
   "cell_type": "code",
   "execution_count": 16,
   "metadata": {},
   "outputs": [
    {
     "data": {},
     "metadata": {},
     "output_type": "display_data"
    },
    {
     "data": {
      "image/png": "[encoded data removed]",
      "text/plain": [
       "plot without title"
      ]
     },
     "metadata": {},
     "output_type": "display_data"
    }
   ],
   "source": [
    "ggplot(patients.tbl, aes(x=age)) +\n",
    "    geom_density() + \n",
    "    geom_rug(alpha=0.1)"
   ]
  },
  {
   "cell_type": "code",
   "execution_count": 17,
   "metadata": {},
   "outputs": [
    {
     "data": {
      "text/html": [
       "<dl class=dl-horizontal>\n",
       "\t<dt>0%</dt>\n",
       "\t\t<dd>0</dd>\n",
       "\t<dt>25%</dt>\n",
       "\t\t<dd>63.1904109589041</dd>\n",
       "\t<dt>50%</dt>\n",
       "\t\t<dd>75.6383561643836</dd>\n",
       "\t<dt>75%</dt>\n",
       "\t\t<dd>84.0109589041096</dd>\n",
       "\t<dt>100%</dt>\n",
       "\t\t<dd>105.421917808219</dd>\n",
       "</dl>\n"
      ],
      "text/latex": [
       "\\begin{description*}\n",
       "\\item[0\\textbackslash{}\\%] 0\n",
       "\\item[25\\textbackslash{}\\%] 63.1904109589041\n",
       "\\item[50\\textbackslash{}\\%] 75.6383561643836\n",
       "\\item[75\\textbackslash{}\\%] 84.0109589041096\n",
       "\\item[100\\textbackslash{}\\%] 105.421917808219\n",
       "\\end{description*}\n"
      ],
      "text/markdown": [
       "0%\n",
       ":   025%\n",
       ":   63.190410958904150%\n",
       ":   75.638356164383675%\n",
       ":   84.0109589041096100%\n",
       ":   105.421917808219\n",
       "\n"
      ],
      "text/plain": [
       "       0%       25%       50%       75%      100% \n",
       "  0.00000  63.19041  75.63836  84.01096 105.42192 "
      ]
     },
     "metadata": {},
     "output_type": "display_data"
    }
   ],
   "source": [
    "quantile(patients.tbl$age)"
   ]
  },
  {
   "cell_type": "code",
   "execution_count": 18,
   "metadata": {},
   "outputs": [
    {
     "name": "stderr",
     "output_type": "stream",
     "text": [
      "Loading required package: magrittr\n"
     ]
    },
    {
     "data": {
      "text/html": [
       "28"
      ],
      "text/latex": [
       "28"
      ],
      "text/markdown": [
       "28"
      ],
      "text/plain": [
       "[1] 28"
      ]
     },
     "metadata": {},
     "output_type": "display_data"
    },
    {
     "data": {
      "text/html": [
       "<table>\n",
       "<thead><tr><th scope=col>name</th><th scope=col>value</th></tr></thead>\n",
       "<tbody>\n",
       "\t<tr><td>under_1_at_death.N  </td><td>28                  </td></tr>\n",
       "\t<tr><td>under_1_at_death.pct</td><td>0.70%               </td></tr>\n",
       "\t<tr><td>still_alive         </td><td>0                   </td></tr>\n",
       "</tbody>\n",
       "</table>\n"
      ],
      "text/latex": [
       "\\begin{tabular}{r|ll}\n",
       " name & value\\\\\n",
       "\\hline\n",
       "\t under\\_1\\_at\\_death.N   & 28                        \\\\\n",
       "\t under\\_1\\_at\\_death.pct & 0.70\\%                   \\\\\n",
       "\t still\\_alive          & 0                     \\\\\n",
       "\\end{tabular}\n"
      ],
      "text/markdown": [
       "\n",
       "name | value | \n",
       "|---|---|---|\n",
       "| under_1_at_death.N   | 28                   | \n",
       "| under_1_at_death.pct | 0.70%                | \n",
       "| still_alive          | 0                    | \n",
       "\n",
       "\n"
      ],
      "text/plain": [
       "  name                 value\n",
       "1 under_1_at_death.N   28   \n",
       "2 under_1_at_death.pct 0.70%\n",
       "3 still_alive          0    "
      ]
     },
     "metadata": {},
     "output_type": "display_data"
    }
   ],
   "source": [
    "using(magrittr)  # more pipes!\n",
    "source(\"../percent.R\")  # the format.percent helper function\n",
    "patients.tbl %$% sum(age<10)\n",
    "patients.tbl %>% \n",
    "    summarise( under_1_at_death.N   =  sum(age<1)\n",
    "             , under_1_at_death.pct = mean(age<1) %>% format.percent()\n",
    "             , still_alive = sum(is.na(dod))\n",
    "             ) %>% \n",
    "    gather(name, value, everything()) #< this transposed the function for easier reading"
   ]
  },
  {
   "cell_type": "code",
   "execution_count": 19,
   "metadata": {},
   "outputs": [
    {
     "name": "stdout",
     "output_type": "stream",
     "text": [
      "# A tibble: 28 x 6\n",
      "   subject_id   sex        dob        dod hospital_expire_flg         age\n",
      "        <int> <chr>     <dttm>     <dttm>               <chr>       <dbl>\n",
      " 1        517     F 2951-08-21 2951-12-16                   Y 0.320547945\n",
      " 2       2532     M 2602-01-17 2602-01-20                   Y 0.008219178\n",
      " 3       3071     M 3361-01-21 3361-01-29                   Y 0.021917808\n",
      " 4       5757     F 2968-03-04 2968-03-11                   Y 0.019178082\n",
      " 5       5889     F 3482-05-16 3482-05-17                   Y 0.002739726\n",
      " 6       6532     M 3435-11-28 3435-11-29                   Y 0.002739726\n",
      " 7       7370     F 2767-08-26 2767-08-27                   Y 0.002739726\n",
      " 8       7832     F 2503-08-12 2503-08-12                   Y 0.000000000\n",
      " 9       7919     F 3077-11-12 3077-12-04                   Y 0.060273973\n",
      "10       7962     M 3383-12-11 3383-12-26                   Y 0.041095890\n",
      "# ... with 18 more rows\n"
     ]
    }
   ],
   "source": [
    "patients.tbl %>% filter(age<10) %>% print(width=Inf)"
   ]
  },
  {
   "cell_type": "markdown",
   "metadata": {},
   "source": [
    "### Demographics table"
   ]
  },
  {
   "cell_type": "code",
   "execution_count": 20,
   "metadata": {},
   "outputs": [
    {
     "name": "stdout",
     "output_type": "stream",
     "text": [
      "Observations: 25\n",
      "Variables: 3\n",
      "$ subject_id <int> 3, 3, 3, 3, 3, 3, 12, 12, 12, 12, 12, 12, 21, 21, 21, 21...\n",
      "$ hadm_id    <int> 2075, 2075, 2075, 2075, 2075, 2075, 12532, 12532, 12532,...\n",
      "$ itemid     <int> 200023, 200028, 200029, 200050, 200052, 200083, 200027, ...\n"
     ]
    }
   ],
   "source": [
    "demographicevents <- tbl(mimic.db, 'demographicevents')\n",
    "glimpse(demographicevents)"
   ]
  },
  {
   "cell_type": "code",
   "execution_count": 21,
   "metadata": {},
   "outputs": [
    {
     "name": "stdout",
     "output_type": "stream",
     "text": [
      "Observations: 25\n",
      "Variables: 3\n",
      "$ itemid   <int> 200001, 200002, 200003, 200004, 200005, 200006, 200007, 20...\n",
      "$ label    <chr> \"** INFO NOT AVAILABLE **\", \"7TH DAY ADVENTIST\", \"AMERICAN...\n",
      "$ category <chr> \"ADMISSION SOURCE\", \"RELIGION\", \"ETHNICITY\", \"ETHNICITY\", ...\n"
     ]
    }
   ],
   "source": [
    "d_demographicitems <- tbl(mimic.db, 'd_demographicitems')\n",
    "glimpse(d_demographicitems)"
   ]
  },
  {
   "cell_type": "code",
   "execution_count": 22,
   "metadata": {},
   "outputs": [
    {
     "data": {
      "text/plain": [
       "# Source:   lazy query [?? x 2]\n",
       "# Database: mysql 5.7.12 [jovyan@mysql:/mimic2]\n",
       "             category     n\n",
       "                <chr> <dbl>\n",
       "1    ADMISSION SOURCE     8\n",
       "2      ADMISSION TYPE     4\n",
       "3           ETHNICITY    41\n",
       "4      MARITAL STATUS     7\n",
       "5 OVERALL PAYOR GROUP     8\n",
       "6            RELIGION    20"
      ]
     },
     "metadata": {},
     "output_type": "display_data"
    }
   ],
   "source": [
    "count(d_demographicitems, category)"
   ]
  },
  {
   "cell_type": "markdown",
   "metadata": {},
   "source": [
    "#### Ethnicity ####"
   ]
  },
  {
   "cell_type": "code",
   "execution_count": 23,
   "metadata": {},
   "outputs": [
    {
     "name": "stderr",
     "output_type": "stream",
     "text": [
      "Joining, by = \"itemid\"\n",
      "Joining, by = \"subject_id\"\n"
     ]
    },
    {
     "data": {
      "text/html": [
       "<table>\n",
       "<thead><tr><th scope=col>label</th><th scope=col>n</th><th scope=col>pct</th></tr></thead>\n",
       "<tbody>\n",
       "\t<tr><td>WHITE                                  </td><td>3544                                   </td><td>69.19%                                 </td></tr>\n",
       "\t<tr><td>UNKNOWN/NOT SPECIFIED                  </td><td> 730                                   </td><td>14.25%                                 </td></tr>\n",
       "\t<tr><td>BLACK/AFRICAN AMERICAN                 </td><td> 474                                   </td><td>9.25%                                  </td></tr>\n",
       "\t<tr><td>ASIAN                                  </td><td>  86                                   </td><td>1.68%                                  </td></tr>\n",
       "\t<tr><td>OTHER                                  </td><td>  78                                   </td><td>1.52%                                  </td></tr>\n",
       "\t<tr><td>HISPANIC OR LATINO                     </td><td>  71                                   </td><td>1.39%                                  </td></tr>\n",
       "\t<tr><td>PATIENT DECLINED TO ANSWER             </td><td>  52                                   </td><td>1.02%                                  </td></tr>\n",
       "\t<tr><td>NA                                     </td><td>  48                                   </td><td>0.94%                                  </td></tr>\n",
       "\t<tr><td>UNABLE TO OBTAIN                       </td><td>  18                                   </td><td>0.35%                                  </td></tr>\n",
       "\t<tr><td>ASIAN - CHINESE                        </td><td>   5                                   </td><td>0.10%                                  </td></tr>\n",
       "\t<tr><td>AMERICAN INDIAN/ALASKA NATIVE          </td><td>   3                                   </td><td>0.06%                                  </td></tr>\n",
       "\t<tr><td>HISPANIC/LATINO - PUERTO RICAN         </td><td>   3                                   </td><td>0.06%                                  </td></tr>\n",
       "\t<tr><td>BLACK/CAPE VERDEAN                     </td><td>   2                                   </td><td>0.04%                                  </td></tr>\n",
       "\t<tr><td>BLACK/HAITIAN                          </td><td>   2                                   </td><td>0.04%                                  </td></tr>\n",
       "\t<tr><td>MULTI RACE ETHNICITY                   </td><td>   2                                   </td><td>0.04%                                  </td></tr>\n",
       "\t<tr><td>NATIVE HAWAIIAN OR OTHER PACIFIC ISLAND</td><td>   2                                   </td><td>0.04%                                  </td></tr>\n",
       "\t<tr><td>ASIAN - VIETNAMESE                     </td><td>   1                                   </td><td>0.02%                                  </td></tr>\n",
       "\t<tr><td>WHITE - RUSSIAN                        </td><td>   1                                   </td><td>0.02%                                  </td></tr>\n",
       "</tbody>\n",
       "</table>\n"
      ],
      "text/latex": [
       "\\begin{tabular}{r|lll}\n",
       " label & n & pct\\\\\n",
       "\\hline\n",
       "\t WHITE                                   & 3544                                    & 69.19\\%                               \\\\\n",
       "\t UNKNOWN/NOT SPECIFIED                   &  730                                    & 14.25\\%                               \\\\\n",
       "\t BLACK/AFRICAN AMERICAN                  &  474                                    & 9.25\\%                                \\\\\n",
       "\t ASIAN                                   &   86                                    & 1.68\\%                                \\\\\n",
       "\t OTHER                                   &   78                                    & 1.52\\%                                \\\\\n",
       "\t HISPANIC OR LATINO                      &   71                                    & 1.39\\%                                \\\\\n",
       "\t PATIENT DECLINED TO ANSWER              &   52                                    & 1.02\\%                                \\\\\n",
       "\t NA                                      &   48                                    & 0.94\\%                                \\\\\n",
       "\t UNABLE TO OBTAIN                        &   18                                    & 0.35\\%                                \\\\\n",
       "\t ASIAN - CHINESE                         &    5                                    & 0.10\\%                                \\\\\n",
       "\t AMERICAN INDIAN/ALASKA NATIVE           &    3                                    & 0.06\\%                                \\\\\n",
       "\t HISPANIC/LATINO - PUERTO RICAN          &    3                                    & 0.06\\%                                \\\\\n",
       "\t BLACK/CAPE VERDEAN                      &    2                                    & 0.04\\%                                \\\\\n",
       "\t BLACK/HAITIAN                           &    2                                    & 0.04\\%                                \\\\\n",
       "\t MULTI RACE ETHNICITY                    &    2                                    & 0.04\\%                                \\\\\n",
       "\t NATIVE HAWAIIAN OR OTHER PACIFIC ISLAND &    2                                    & 0.04\\%                                \\\\\n",
       "\t ASIAN - VIETNAMESE                      &    1                                    & 0.02\\%                                \\\\\n",
       "\t WHITE - RUSSIAN                         &    1                                    & 0.02\\%                                \\\\\n",
       "\\end{tabular}\n"
      ],
      "text/markdown": [
       "\n",
       "label | n | pct | \n",
       "|---|---|---|---|---|---|---|---|---|---|---|---|---|---|---|---|---|---|\n",
       "| WHITE                                   | 3544                                    | 69.19%                                  | \n",
       "| UNKNOWN/NOT SPECIFIED                   |  730                                    | 14.25%                                  | \n",
       "| BLACK/AFRICAN AMERICAN                  |  474                                    | 9.25%                                   | \n",
       "| ASIAN                                   |   86                                    | 1.68%                                   | \n",
       "| OTHER                                   |   78                                    | 1.52%                                   | \n",
       "| HISPANIC OR LATINO                      |   71                                    | 1.39%                                   | \n",
       "| PATIENT DECLINED TO ANSWER              |   52                                    | 1.02%                                   | \n",
       "| NA                                      |   48                                    | 0.94%                                   | \n",
       "| UNABLE TO OBTAIN                        |   18                                    | 0.35%                                   | \n",
       "| ASIAN - CHINESE                         |    5                                    | 0.10%                                   | \n",
       "| AMERICAN INDIAN/ALASKA NATIVE           |    3                                    | 0.06%                                   | \n",
       "| HISPANIC/LATINO - PUERTO RICAN          |    3                                    | 0.06%                                   | \n",
       "| BLACK/CAPE VERDEAN                      |    2                                    | 0.04%                                   | \n",
       "| BLACK/HAITIAN                           |    2                                    | 0.04%                                   | \n",
       "| MULTI RACE ETHNICITY                    |    2                                    | 0.04%                                   | \n",
       "| NATIVE HAWAIIAN OR OTHER PACIFIC ISLAND |    2                                    | 0.04%                                   | \n",
       "| ASIAN - VIETNAMESE                      |    1                                    | 0.02%                                   | \n",
       "| WHITE - RUSSIAN                         |    1                                    | 0.02%                                   | \n",
       "\n",
       "\n"
      ],
      "text/plain": [
       "   label                                   n    pct   \n",
       "1  WHITE                                   3544 69.19%\n",
       "2  UNKNOWN/NOT SPECIFIED                    730 14.25%\n",
       "3  BLACK/AFRICAN AMERICAN                   474 9.25% \n",
       "4  ASIAN                                     86 1.68% \n",
       "5  OTHER                                     78 1.52% \n",
       "6  HISPANIC OR LATINO                        71 1.39% \n",
       "7  PATIENT DECLINED TO ANSWER                52 1.02% \n",
       "8  NA                                        48 0.94% \n",
       "9  UNABLE TO OBTAIN                          18 0.35% \n",
       "10 ASIAN - CHINESE                            5 0.10% \n",
       "11 AMERICAN INDIAN/ALASKA NATIVE              3 0.06% \n",
       "12 HISPANIC/LATINO - PUERTO RICAN             3 0.06% \n",
       "13 BLACK/CAPE VERDEAN                         2 0.04% \n",
       "14 BLACK/HAITIAN                              2 0.04% \n",
       "15 MULTI RACE ETHNICITY                       2 0.04% \n",
       "16 NATIVE HAWAIIAN OR OTHER PACIFIC ISLAND    2 0.04% \n",
       "17 ASIAN - VIETNAMESE                         1 0.02% \n",
       "18 WHITE - RUSSIAN                            1 0.02% "
      ]
     },
     "metadata": {},
     "output_type": "display_data"
    }
   ],
   "source": [
    "ethnicity.tbl <- \n",
    "    d_demographicitems %>% filter(category == \"ETHNICITY\") %>%\n",
    "    left_join(demographicevents) %>% \n",
    "    right_join(patients)\n",
    "ethnicity.tbl %>% collect %>%\n",
    "    count(label) %>%\n",
    "    arrange(desc(n)) %>%\n",
    "    mutate(pct = format.percent(n/sum(n)))"
   ]
  },
  {
   "cell_type": "markdown",
   "metadata": {},
   "source": [
    "This is OK but really we should not have rows with small counts."
   ]
  },
  {
   "cell_type": "code",
   "execution_count": 24,
   "metadata": {},
   "outputs": [
    {
     "name": "stderr",
     "output_type": "stream",
     "text": [
      "Loading required package: forcats\n"
     ]
    },
    {
     "data": {
      "text/html": [
       "<table>\n",
       "<thead><tr><th scope=col>label</th><th scope=col>n</th><th scope=col>pct</th></tr></thead>\n",
       "<tbody>\n",
       "\t<tr><td>WHITE                 </td><td>3545                  </td><td>69.21%                </td></tr>\n",
       "\t<tr><td>UNKNOWN/NOT SPECIFIED </td><td> 848                  </td><td>16.56%                </td></tr>\n",
       "\t<tr><td>BLACK/AFRICAN AMERICAN</td><td> 478                  </td><td>9.33%                 </td></tr>\n",
       "\t<tr><td>ASIAN                 </td><td>  92                  </td><td>1.80%                 </td></tr>\n",
       "\t<tr><td>OTHER                 </td><td>  85                  </td><td>1.66%                 </td></tr>\n",
       "\t<tr><td>HISPANIC OR LATINO    </td><td>  74                  </td><td>1.44%                 </td></tr>\n",
       "</tbody>\n",
       "</table>\n"
      ],
      "text/latex": [
       "\\begin{tabular}{r|lll}\n",
       " label & n & pct\\\\\n",
       "\\hline\n",
       "\t WHITE                  & 3545                   & 69.21\\%              \\\\\n",
       "\t UNKNOWN/NOT SPECIFIED  &  848                   & 16.56\\%              \\\\\n",
       "\t BLACK/AFRICAN AMERICAN &  478                   & 9.33\\%               \\\\\n",
       "\t ASIAN                  &   92                   & 1.80\\%               \\\\\n",
       "\t OTHER                  &   85                   & 1.66\\%               \\\\\n",
       "\t HISPANIC OR LATINO     &   74                   & 1.44\\%               \\\\\n",
       "\\end{tabular}\n"
      ],
      "text/markdown": [
       "\n",
       "label | n | pct | \n",
       "|---|---|---|---|---|---|\n",
       "| WHITE                  | 3545                   | 69.21%                 | \n",
       "| UNKNOWN/NOT SPECIFIED  |  848                   | 16.56%                 | \n",
       "| BLACK/AFRICAN AMERICAN |  478                   | 9.33%                  | \n",
       "| ASIAN                  |   92                   | 1.80%                  | \n",
       "| OTHER                  |   85                   | 1.66%                  | \n",
       "| HISPANIC OR LATINO     |   74                   | 1.44%                  | \n",
       "\n",
       "\n"
      ],
      "text/plain": [
       "  label                  n    pct   \n",
       "1 WHITE                  3545 69.21%\n",
       "2 UNKNOWN/NOT SPECIFIED   848 16.56%\n",
       "3 BLACK/AFRICAN AMERICAN  478 9.33% \n",
       "4 ASIAN                    92 1.80% \n",
       "5 OTHER                    85 1.66% \n",
       "6 HISPANIC OR LATINO       74 1.44% "
      ]
     },
     "metadata": {},
     "output_type": "display_data"
    }
   ],
   "source": [
    "using(forcats)\n",
    "ethnicity.tbl %>% collect %>%\n",
    "    mutate(label = fct_recode( replace(label, is.na(label), \"UNKNOWN/NOT SPECIFIED\")\n",
    "                             , \"UNKNOWN/NOT SPECIFIED\" = \"PATIENT DECLINED TO ANSWER\"\n",
    "                             , \"UNKNOWN/NOT SPECIFIED\" = \"UNABLE TO OBTAIN\"\n",
    "                             , \"WHITE\" = \"WHITE - RUSSIAN\"\n",
    "                             , \"ASIAN\" = \"ASIAN - VIETNAMESE\"\n",
    "                             , \"ASIAN\" = \"ASIAN - CHINESE\"\n",
    "                             , \"HISPANIC OR LATINO\" = \"HISPANIC/LATINO - PUERTO RICAN\"\n",
    "                             , \"BLACK/AFRICAN AMERICAN\" = \"BLACK/CAPE VERDEAN\"\n",
    "                             , \"BLACK/AFRICAN AMERICAN\" = \"BLACK/HAITIAN\"\n",
    "                             , \"OTHER\" = \"AMERICAN INDIAN/ALASKA NATIVE\"\n",
    "                             , \"OTHER\" = \"MULTI RACE ETHNICITY\"\n",
    "                             , \"OTHER\" = \"NATIVE HAWAIIAN OR OTHER PACIFIC ISLAND\"\n",
    "                             )) %>%\n",
    "    count(label) %>%\n",
    "    arrange(desc(n)) %>%\n",
    "    mutate(pct = format.percent(n/sum(n)))"
   ]
  },
  {
   "cell_type": "markdown",
   "metadata": {},
   "source": [
    "We should check consistency of ethnicity."
   ]
  },
  {
   "cell_type": "code",
   "execution_count": 25,
   "metadata": {},
   "outputs": [
    {
     "data": {
      "text/plain": [
       "# Source:   lazy query [?? x 2]\n",
       "# Database: mysql 5.7.12 [jovyan@mysql:/mimic2]\n",
       "      n    nn\n",
       "  <dbl> <dbl>\n",
       "1     1  3995\n",
       "2     2     5"
      ]
     },
     "metadata": {},
     "output_type": "display_data"
    }
   ],
   "source": [
    "ethnicity.tbl %>% select(subject_id, ethnicity=label) %>% distinct %>%\n",
    "    count(subject_id) %>% ungroup %>%\n",
    "    count(n)"
   ]
  },
  {
   "cell_type": "markdown",
   "metadata": {},
   "source": [
    "This is very common to have changing things like ethnicity that should not really every change."
   ]
  },
  {
   "cell_type": "code",
   "execution_count": 26,
   "metadata": {},
   "outputs": [
    {
     "name": "stderr",
     "output_type": "stream",
     "text": [
      "Joining, by = \"subject_id\"\n"
     ]
    },
    {
     "data": {
      "text/plain": [
       "# Source:   lazy query [?? x 10]\n",
       "# Database: mysql 5.7.12 [jovyan@mysql:/mimic2]\n",
       "   subject_id     n itemid                          label  category hadm_id\n",
       "        <int> <dbl>  <int>                          <chr>     <chr>   <int>\n",
       " 1        426     2 200080          UNKNOWN/NOT SPECIFIED ETHNICITY    1638\n",
       " 2        426     2 200083                          WHITE ETHNICITY    6410\n",
       " 3       5882     2 200018         BLACK/AFRICAN AMERICAN ETHNICITY    6039\n",
       " 4       5882     2 200083                          WHITE ETHNICITY    7770\n",
       " 5       6283     2 200083                          WHITE ETHNICITY    8765\n",
       " 6       6283     2 200080          UNKNOWN/NOT SPECIFIED ETHNICITY   15864\n",
       " 7       8231     2 200035             HISPANIC OR LATINO ETHNICITY    5754\n",
       " 8       8231     2 200035             HISPANIC OR LATINO ETHNICITY    7668\n",
       " 9       8231     2 200035             HISPANIC OR LATINO ETHNICITY   13574\n",
       "10       8231     2 200042 HISPANIC/LATINO - PUERTO RICAN ETHNICITY   23961\n",
       "# ... with more rows, and 4 more variables: sex <chr>, dob <chr>, dod <chr>,\n",
       "#   hospital_expire_flg <chr>"
      ]
     },
     "metadata": {},
     "output_type": "display_data"
    }
   ],
   "source": [
    "ethnicity.tbl %>% select(subject_id, ethnicity=label) %>% distinct %>%\n",
    "    count(subject_id) %>% ungroup  %>%\n",
    "    filter(n>1) %>% \n",
    "    left_join(ethnicity.tbl)"
   ]
  },
  {
   "cell_type": "markdown",
   "metadata": {},
   "source": [
    "Sure enough we have conflicting data.\n",
    "> #### Discussion\n",
    "> * Is this a problem?\n",
    "> * How do we handle it?\n",
    "> \n",
    "> *For the sake of argument pretend that there is more than one unresolvable issue.*"
   ]
  },
  {
   "cell_type": "markdown",
   "metadata": {},
   "source": [
    "#### Marital Status ####"
   ]
  },
  {
   "cell_type": "code",
   "execution_count": 27,
   "metadata": {},
   "outputs": [
    {
     "name": "stderr",
     "output_type": "stream",
     "text": [
      "Joining, by = \"itemid\"\n",
      "Joining, by = \"subject_id\"\n"
     ]
    },
    {
     "data": {
      "text/plain": [
       "# Source:   lazy query [?? x 2]\n",
       "# Database: mysql 5.7.12 [jovyan@mysql:/mimic2]\n",
       "              label     n\n",
       "              <chr> <dbl>\n",
       "1              <NA>   403\n",
       "2          DIVORCED   276\n",
       "3           MARRIED  2315\n",
       "4         SEPARATED    54\n",
       "5            SINGLE   925\n",
       "6 UNKNOWN (DEFAULT)    61\n",
       "7           WIDOWED  1068"
      ]
     },
     "metadata": {},
     "output_type": "display_data"
    }
   ],
   "source": [
    "marital.tbl <- d_demographicitems %>% \n",
    "    filter(category == \"MARITAL STATUS\") %>%\n",
    "    left_join(demographicevents) %>% \n",
    "    right_join(patients) \n",
    "marital.tbl %>%\n",
    "    count(label)"
   ]
  },
  {
   "cell_type": "code",
   "execution_count": 28,
   "metadata": {},
   "outputs": [
    {
     "data": {
      "text/plain": [
       "# Source:   lazy query [?? x 2]\n",
       "# Database: mysql 5.7.12 [jovyan@mysql:/mimic2]\n",
       "      n    nn\n",
       "  <dbl> <dbl>\n",
       "1     1  3996\n",
       "2     2     4"
      ]
     },
     "metadata": {},
     "output_type": "display_data"
    }
   ],
   "source": [
    "marital.tbl %>% \n",
    "    select(subject_id, label) %>% distinct %>%\n",
    "    count(subject_id) %>% ungroup %>%\n",
    "    count(n)"
   ]
  },
  {
   "cell_type": "markdown",
   "metadata": {},
   "source": [
    "Note that demographics is indexed on `hadm_id`, the admission id, thus we would expect that \n",
    "marital status **can** evolve over time."
   ]
  },
  {
   "cell_type": "code",
   "execution_count": 29,
   "metadata": {
    "format": "row"
   },
   "outputs": [
    {
     "name": "stderr",
     "output_type": "stream",
     "text": [
      "Joining, by = \"subject_id\"\n",
      "Joining, by = c(\"subject_id\", \"hadm_id\")\n",
      "Joining, by = c(\"subject_id\", \"sex\", \"dob\", \"dod\", \"hospital_expire_flg\")\n"
     ]
    },
    {
     "data": {
      "text/html": [
       "<table>\n",
       "<thead><tr><th scope=col>subject_id</th><th scope=col>sex</th><th scope=col>admit_dt</th><th scope=col>age_at_admit</th><th scope=col>marital_status</th></tr></thead>\n",
       "<tbody>\n",
       "\t<tr><td> 5882              </td><td>M                  </td><td>3225-10-02 00:00:00</td><td>58.79178           </td><td>DIVORCED           </td></tr>\n",
       "\t<tr><td> 5882              </td><td>M                  </td><td>3226-03-12 00:00:00</td><td>59.23288           </td><td>MARRIED            </td></tr>\n",
       "\t<tr><td> 8231              </td><td>F                  </td><td>3205-06-12 00:00:00</td><td>72.37534           </td><td>SEPARATED          </td></tr>\n",
       "\t<tr><td> 8231              </td><td>F                  </td><td>3207-01-10 00:00:00</td><td>73.95616           </td><td>WIDOWED            </td></tr>\n",
       "\t<tr><td> 8231              </td><td>F                  </td><td>3207-12-23 00:00:00</td><td>74.90685           </td><td>WIDOWED            </td></tr>\n",
       "\t<tr><td> 8231              </td><td>F                  </td><td>3208-02-10 00:00:00</td><td>75.04110           </td><td>WIDOWED            </td></tr>\n",
       "\t<tr><td> 8231              </td><td>F                  </td><td>3209-01-13 00:00:00</td><td>75.96712           </td><td>WIDOWED            </td></tr>\n",
       "\t<tr><td> 8231              </td><td>F                  </td><td>3210-07-15 00:00:00</td><td>77.46849           </td><td>WIDOWED            </td></tr>\n",
       "\t<tr><td> 8896              </td><td>M                  </td><td>3417-05-12 00:00:00</td><td>70.23288           </td><td>SINGLE             </td></tr>\n",
       "\t<tr><td> 8896              </td><td>M                  </td><td>3420-03-22 00:00:00</td><td>73.09589           </td><td>WIDOWED            </td></tr>\n",
       "\t<tr><td> 8896              </td><td>M                  </td><td>3420-11-11 00:00:00</td><td>73.73699           </td><td>WIDOWED            </td></tr>\n",
       "\t<tr><td>10487              </td><td>F                  </td><td>3307-02-21 00:00:00</td><td>64.88219           </td><td>MARRIED            </td></tr>\n",
       "\t<tr><td>10487              </td><td>F                  </td><td>3307-09-06 00:00:00</td><td>65.42192           </td><td>MARRIED            </td></tr>\n",
       "\t<tr><td>10487              </td><td>F                  </td><td>3309-10-26 00:00:00</td><td>67.56164           </td><td>WIDOWED            </td></tr>\n",
       "\t<tr><td>10487              </td><td>F                  </td><td>3309-11-16 00:00:00</td><td>67.61918           </td><td>WIDOWED            </td></tr>\n",
       "</tbody>\n",
       "</table>\n"
      ],
      "text/latex": [
       "\\begin{tabular}{r|lllll}\n",
       " subject\\_id & sex & admit\\_dt & age\\_at\\_admit & marital\\_status\\\\\n",
       "\\hline\n",
       "\t  5882               & M                   & 3225-10-02 00:00:00 & 58.79178            & DIVORCED           \\\\\n",
       "\t  5882               & M                   & 3226-03-12 00:00:00 & 59.23288            & MARRIED            \\\\\n",
       "\t  8231               & F                   & 3205-06-12 00:00:00 & 72.37534            & SEPARATED          \\\\\n",
       "\t  8231               & F                   & 3207-01-10 00:00:00 & 73.95616            & WIDOWED            \\\\\n",
       "\t  8231               & F                   & 3207-12-23 00:00:00 & 74.90685            & WIDOWED            \\\\\n",
       "\t  8231               & F                   & 3208-02-10 00:00:00 & 75.04110            & WIDOWED            \\\\\n",
       "\t  8231               & F                   & 3209-01-13 00:00:00 & 75.96712            & WIDOWED            \\\\\n",
       "\t  8231               & F                   & 3210-07-15 00:00:00 & 77.46849            & WIDOWED            \\\\\n",
       "\t  8896               & M                   & 3417-05-12 00:00:00 & 70.23288            & SINGLE             \\\\\n",
       "\t  8896               & M                   & 3420-03-22 00:00:00 & 73.09589            & WIDOWED            \\\\\n",
       "\t  8896               & M                   & 3420-11-11 00:00:00 & 73.73699            & WIDOWED            \\\\\n",
       "\t 10487               & F                   & 3307-02-21 00:00:00 & 64.88219            & MARRIED            \\\\\n",
       "\t 10487               & F                   & 3307-09-06 00:00:00 & 65.42192            & MARRIED            \\\\\n",
       "\t 10487               & F                   & 3309-10-26 00:00:00 & 67.56164            & WIDOWED            \\\\\n",
       "\t 10487               & F                   & 3309-11-16 00:00:00 & 67.61918            & WIDOWED            \\\\\n",
       "\\end{tabular}\n"
      ],
      "text/markdown": [
       "\n",
       "subject_id | sex | admit_dt | age_at_admit | marital_status | \n",
       "|---|---|---|---|---|---|---|---|---|---|---|---|---|---|---|\n",
       "|  5882               | M                   | 3225-10-02 00:00:00 | 58.79178            | DIVORCED            | \n",
       "|  5882               | M                   | 3226-03-12 00:00:00 | 59.23288            | MARRIED             | \n",
       "|  8231               | F                   | 3205-06-12 00:00:00 | 72.37534            | SEPARATED           | \n",
       "|  8231               | F                   | 3207-01-10 00:00:00 | 73.95616            | WIDOWED             | \n",
       "|  8231               | F                   | 3207-12-23 00:00:00 | 74.90685            | WIDOWED             | \n",
       "|  8231               | F                   | 3208-02-10 00:00:00 | 75.04110            | WIDOWED             | \n",
       "|  8231               | F                   | 3209-01-13 00:00:00 | 75.96712            | WIDOWED             | \n",
       "|  8231               | F                   | 3210-07-15 00:00:00 | 77.46849            | WIDOWED             | \n",
       "|  8896               | M                   | 3417-05-12 00:00:00 | 70.23288            | SINGLE              | \n",
       "|  8896               | M                   | 3420-03-22 00:00:00 | 73.09589            | WIDOWED             | \n",
       "|  8896               | M                   | 3420-11-11 00:00:00 | 73.73699            | WIDOWED             | \n",
       "| 10487               | F                   | 3307-02-21 00:00:00 | 64.88219            | MARRIED             | \n",
       "| 10487               | F                   | 3307-09-06 00:00:00 | 65.42192            | MARRIED             | \n",
       "| 10487               | F                   | 3309-10-26 00:00:00 | 67.56164            | WIDOWED             | \n",
       "| 10487               | F                   | 3309-11-16 00:00:00 | 67.61918            | WIDOWED             | \n",
       "\n",
       "\n"
      ],
      "text/plain": [
       "   subject_id sex admit_dt            age_at_admit marital_status\n",
       "1   5882      M   3225-10-02 00:00:00 58.79178     DIVORCED      \n",
       "2   5882      M   3226-03-12 00:00:00 59.23288     MARRIED       \n",
       "3   8231      F   3205-06-12 00:00:00 72.37534     SEPARATED     \n",
       "4   8231      F   3207-01-10 00:00:00 73.95616     WIDOWED       \n",
       "5   8231      F   3207-12-23 00:00:00 74.90685     WIDOWED       \n",
       "6   8231      F   3208-02-10 00:00:00 75.04110     WIDOWED       \n",
       "7   8231      F   3209-01-13 00:00:00 75.96712     WIDOWED       \n",
       "8   8231      F   3210-07-15 00:00:00 77.46849     WIDOWED       \n",
       "9   8896      M   3417-05-12 00:00:00 70.23288     SINGLE        \n",
       "10  8896      M   3420-03-22 00:00:00 73.09589     WIDOWED       \n",
       "11  8896      M   3420-11-11 00:00:00 73.73699     WIDOWED       \n",
       "12 10487      F   3307-02-21 00:00:00 64.88219     MARRIED       \n",
       "13 10487      F   3307-09-06 00:00:00 65.42192     MARRIED       \n",
       "14 10487      F   3309-10-26 00:00:00 67.56164     WIDOWED       \n",
       "15 10487      F   3309-11-16 00:00:00 67.61918     WIDOWED       "
      ]
     },
     "metadata": {},
     "output_type": "display_data"
    }
   ],
   "source": [
    "marital.tbl %>% \n",
    "    select(subject_id, label) %>% distinct %>%\n",
    "    count(subject_id) %>% \n",
    "    filter(n>1) %>% select(-n) %>%\n",
    "    left_join(admissions) %>% \n",
    "    left_join(marital.tbl) %>%\n",
    "    left_join(patients) %>%\n",
    "    collect %>%\n",
    "    mutate(age_at_admit = age(dob, admit_dt)) %>%\n",
    "    select(subject_id, sex, admit_dt, age_at_admit, marital_status=label)"
   ]
  },
  {
   "cell_type": "markdown",
   "metadata": {},
   "source": [
    "### Chart events table"
   ]
  },
  {
   "cell_type": "markdown",
   "metadata": {},
   "source": [
    "Here is a little helpful utility that we will use to find things"
   ]
  },
  {
   "cell_type": "code",
   "execution_count": 30,
   "metadata": {
    "collapsed": true
   },
   "outputs": [],
   "source": [
    "sift <- \n",
    "function( x                 #< A character vector \n",
    "        , pat               #< Regular expression pattern\n",
    "        , value=TRUE        #< Return value or indices.\n",
    "        , perl=TRUE         #< is `pat` perl compatible?\n",
    "        , ignore.case=TRUE  #< Should case be ignored?\n",
    "        , ...               #< passed on to <grep>\n",
    "        ){\n",
    "    #' Pipe compatible regular expression filtering.\n",
    "    unique(grep( pattern=pat, x=x\n",
    "               , value=value, ignore.case=ignore.case, perl=perl\n",
    "               , ...))\n",
    "    #' @seealso <grep>.\n",
    "    #' @return A subset of x vector that matches the pattern given in `pat`.\n",
    "}"
   ]
  },
  {
   "cell_type": "code",
   "execution_count": 31,
   "metadata": {},
   "outputs": [
    {
     "data": {
      "text/html": [
       "<ol class=list-inline>\n",
       "\t<li>'a_chartdurations'</li>\n",
       "\t<li>'chartevents'</li>\n",
       "\t<li>'d_chartitems'</li>\n",
       "\t<li>'d_chartitems_detail'</li>\n",
       "</ol>\n"
      ],
      "text/latex": [
       "\\begin{enumerate*}\n",
       "\\item 'a\\_chartdurations'\n",
       "\\item 'chartevents'\n",
       "\\item 'd\\_chartitems'\n",
       "\\item 'd\\_chartitems\\_detail'\n",
       "\\end{enumerate*}\n"
      ],
      "text/markdown": [
       "1. 'a_chartdurations'\n",
       "2. 'chartevents'\n",
       "3. 'd_chartitems'\n",
       "4. 'd_chartitems_detail'\n",
       "\n",
       "\n"
      ],
      "text/plain": [
       "[1] \"a_chartdurations\"    \"chartevents\"         \"d_chartitems\"       \n",
       "[4] \"d_chartitems_detail\""
      ]
     },
     "metadata": {},
     "output_type": "display_data"
    }
   ],
   "source": [
    "dbListTables(mimic.db) %>% sift('chart')  #< lists the chart related tables"
   ]
  },
  {
   "cell_type": "markdown",
   "metadata": {},
   "source": [
    "Also lets make things a little shorter, because I'm *lazy* 😉"
   ]
  },
  {
   "cell_type": "code",
   "execution_count": 32,
   "metadata": {
    "collapsed": true
   },
   "outputs": [],
   "source": [
    "tbl <- purrr::partial(dplyr::tbl, src=mimic.db)"
   ]
  },
  {
   "cell_type": "code",
   "execution_count": 33,
   "metadata": {},
   "outputs": [
    {
     "data": {
      "text/html": [
       "<ol class=list-inline>\n",
       "\t<li>'a_chartdurations'</li>\n",
       "\t<li>'a_iodurations'</li>\n",
       "\t<li>'a_meddurations'</li>\n",
       "\t<li>'additives'</li>\n",
       "\t<li>'censusevents'</li>\n",
       "\t<li>'chartevents'</li>\n",
       "\t<li>'comorbidity_scores'</li>\n",
       "\t<li>'d_caregivers'</li>\n",
       "\t<li>'d_careunits'</li>\n",
       "\t<li>'d_chartitems'</li>\n",
       "\t<li>'d_chartitems_detail'</li>\n",
       "\t<li>'d_codeditems'</li>\n",
       "\t<li>'d_ioitems'</li>\n",
       "\t<li>'d_labitems'</li>\n",
       "\t<li>'d_meditems'</li>\n",
       "\t<li>'d_parammap_items'</li>\n",
       "\t<li>'d_patients'</li>\n",
       "\t<li>'db_schema'</li>\n",
       "\t<li>'deliveries'</li>\n",
       "\t<li>'demographic_detail'</li>\n",
       "\t<li>'drgevents'</li>\n",
       "\t<li>'icustay_days'</li>\n",
       "\t<li>'icustay_detail'</li>\n",
       "\t<li>'icustayevents'</li>\n",
       "\t<li>'ioevents'</li>\n",
       "\t<li>'labevents'</li>\n",
       "\t<li>'medevents'</li>\n",
       "\t<li>'microbiologyevents'</li>\n",
       "\t<li>'needed.tbls'</li>\n",
       "\t<li>'parameter_mapping'</li>\n",
       "\t<li>'poe_med'</li>\n",
       "\t<li>'poe_order'</li>\n",
       "\t<li>'previous'</li>\n",
       "\t<li>'procedureevents'</li>\n",
       "\t<li>'tb'</li>\n",
       "\t<li>'totalbalevents'</li>\n",
       "</ol>\n"
      ],
      "text/latex": [
       "\\begin{enumerate*}\n",
       "\\item 'a\\_chartdurations'\n",
       "\\item 'a\\_iodurations'\n",
       "\\item 'a\\_meddurations'\n",
       "\\item 'additives'\n",
       "\\item 'censusevents'\n",
       "\\item 'chartevents'\n",
       "\\item 'comorbidity\\_scores'\n",
       "\\item 'd\\_caregivers'\n",
       "\\item 'd\\_careunits'\n",
       "\\item 'd\\_chartitems'\n",
       "\\item 'd\\_chartitems\\_detail'\n",
       "\\item 'd\\_codeditems'\n",
       "\\item 'd\\_ioitems'\n",
       "\\item 'd\\_labitems'\n",
       "\\item 'd\\_meditems'\n",
       "\\item 'd\\_parammap\\_items'\n",
       "\\item 'd\\_patients'\n",
       "\\item 'db\\_schema'\n",
       "\\item 'deliveries'\n",
       "\\item 'demographic\\_detail'\n",
       "\\item 'drgevents'\n",
       "\\item 'icustay\\_days'\n",
       "\\item 'icustay\\_detail'\n",
       "\\item 'icustayevents'\n",
       "\\item 'ioevents'\n",
       "\\item 'labevents'\n",
       "\\item 'medevents'\n",
       "\\item 'microbiologyevents'\n",
       "\\item 'needed.tbls'\n",
       "\\item 'parameter\\_mapping'\n",
       "\\item 'poe\\_med'\n",
       "\\item 'poe\\_order'\n",
       "\\item 'previous'\n",
       "\\item 'procedureevents'\n",
       "\\item 'tb'\n",
       "\\item 'totalbalevents'\n",
       "\\end{enumerate*}\n"
      ],
      "text/markdown": [
       "1. 'a_chartdurations'\n",
       "2. 'a_iodurations'\n",
       "3. 'a_meddurations'\n",
       "4. 'additives'\n",
       "5. 'censusevents'\n",
       "6. 'chartevents'\n",
       "7. 'comorbidity_scores'\n",
       "8. 'd_caregivers'\n",
       "9. 'd_careunits'\n",
       "10. 'd_chartitems'\n",
       "11. 'd_chartitems_detail'\n",
       "12. 'd_codeditems'\n",
       "13. 'd_ioitems'\n",
       "14. 'd_labitems'\n",
       "15. 'd_meditems'\n",
       "16. 'd_parammap_items'\n",
       "17. 'd_patients'\n",
       "18. 'db_schema'\n",
       "19. 'deliveries'\n",
       "20. 'demographic_detail'\n",
       "21. 'drgevents'\n",
       "22. 'icustay_days'\n",
       "23. 'icustay_detail'\n",
       "24. 'icustayevents'\n",
       "25. 'ioevents'\n",
       "26. 'labevents'\n",
       "27. 'medevents'\n",
       "28. 'microbiologyevents'\n",
       "29. 'needed.tbls'\n",
       "30. 'parameter_mapping'\n",
       "31. 'poe_med'\n",
       "32. 'poe_order'\n",
       "33. 'previous'\n",
       "34. 'procedureevents'\n",
       "35. 'tb'\n",
       "36. 'totalbalevents'\n",
       "\n",
       "\n"
      ],
      "text/plain": [
       " [1] \"a_chartdurations\"    \"a_iodurations\"       \"a_meddurations\"     \n",
       " [4] \"additives\"           \"censusevents\"        \"chartevents\"        \n",
       " [7] \"comorbidity_scores\"  \"d_caregivers\"        \"d_careunits\"        \n",
       "[10] \"d_chartitems\"        \"d_chartitems_detail\" \"d_codeditems\"       \n",
       "[13] \"d_ioitems\"           \"d_labitems\"          \"d_meditems\"         \n",
       "[16] \"d_parammap_items\"    \"d_patients\"          \"db_schema\"          \n",
       "[19] \"deliveries\"          \"demographic_detail\"  \"drgevents\"          \n",
       "[22] \"icustay_days\"        \"icustay_detail\"      \"icustayevents\"      \n",
       "[25] \"ioevents\"            \"labevents\"           \"medevents\"          \n",
       "[28] \"microbiologyevents\"  \"needed.tbls\"         \"parameter_mapping\"  \n",
       "[31] \"poe_med\"             \"poe_order\"           \"previous\"           \n",
       "[34] \"procedureevents\"     \"tb\"                  \"totalbalevents\"     "
      ]
     },
     "metadata": {},
     "output_type": "display_data"
    }
   ],
   "source": [
    "previous <- ls()\n",
    "needed.tbls <- dbListTables(mimic.db) %>% setdiff(ls())\n",
    "for(tb in needed.tbls) assign(tb, tbl(tb))\n",
    "setdiff(ls(), previous)\n",
    "rm(previous, tb)"
   ]
  },
  {
   "cell_type": "markdown",
   "metadata": {},
   "source": [
    "Now we have access to all the named tables in the database as mysql tbl pointers so nothing is actually loaded yet."
   ]
  },
  {
   "cell_type": "code",
   "execution_count": 34,
   "metadata": {},
   "outputs": [
    {
     "data": {
      "text/plain": [
       "# Source:   lazy query [?? x 1]\n",
       "# Database: mysql 5.7.12 [jovyan@mysql:/mimic2]\n",
       "         n\n",
       "     <dbl>\n",
       "1 34240621"
      ]
     },
     "metadata": {},
     "output_type": "display_data"
    },
    {
     "name": "stdout",
     "output_type": "stream",
     "text": [
      "Observations: 25\n",
      "Variables: 16\n",
      "$ subject_id   <int> 56, 56, 56, 56, 56, 56, 56, 56, 56, 56, 56, 56, 56, 56...\n",
      "$ icustay_id   <int> 62, 62, 62, 62, 62, 62, 62, 62, 62, 62, 62, 62, 62, 62...\n",
      "$ itemid       <int> 926, 920, 69, 762, 919, 917, 935, 927, 916, 924, 930, ...\n",
      "$ charttime    <chr> \"2644-01-17 02:02:00\", \"2644-01-17 02:02:00\", \"2644-01...\n",
      "$ elemid       <int> 1000, 1034, 1033, 1032, 1026, 1023, 1022, 1021, 1020, ...\n",
      "$ realtime     <chr> \"2644-01-17 02:02:00\", \"2644-01-17 02:02:00\", \"2644-01...\n",
      "$ cgid         <int> 8, 8, 8, 8, 8, 8, 8, 8, 8, 8, 8, 8, 140, 140, 140, 140...\n",
      "$ cuid         <int> 1, 1, 1, 1, 1, 1, 1, 1, 1, 1, 1, 1, 1, 1, 1, 1, 1, 1, ...\n",
      "$ value1       <chr> \"NSP\", NA, NA, NA, \"NSU\", \"HEAD BLEED\", NA, NA, \"No Kn...\n",
      "$ value1num    <dbl> NA, NA, NA, NA, NA, NA, NA, NA, NA, NA, NA, NA, 1.8, 8...\n",
      "$ value1uom    <chr> NA, NA, NA, NA, NA, NA, NA, NA, NA, NA, NA, NA, NA, \"m...\n",
      "$ value2       <chr> NA, NA, NA, NA, NA, NA, NA, NA, NA, NA, NA, NA, NA, NA...\n",
      "$ value2num    <dbl> NA, NA, NA, NA, NA, NA, NA, NA, NA, NA, NA, NA, NA, NA...\n",
      "$ value2uom    <chr> NA, NA, NA, NA, NA, NA, NA, NA, NA, NA, NA, NA, NA, NA...\n",
      "$ resultstatus <chr> NA, NA, NA, NA, NA, NA, NA, NA, NA, NA, NA, NA, \"Final...\n",
      "$ stopped      <chr> NA, NA, NA, NA, NA, NA, NA, NA, NA, NA, NA, NA, \"NotSt...\n"
     ]
    }
   ],
   "source": [
    "count(chartevents)\n",
    "glimpse(chartevents)"
   ]
  },
  {
   "cell_type": "code",
   "execution_count": 35,
   "metadata": {},
   "outputs": [
    {
     "name": "stdout",
     "output_type": "stream",
     "text": [
      "Observations: 25\n",
      "Variables: 4\n",
      "$ itemid      <int> 1435, 1436, 1437, 1438, 1439, 1447, 1448, 1449, 1450, 1...\n",
      "$ label       <chr> \"Sustained Nystamus\", \"Tactile Disturbances\", \"Tremor\",...\n",
      "$ category    <chr> NA, NA, NA, NA, NA, NA, NA, NA, NA, NA, NA, NA, NA, NA,...\n",
      "$ description <chr> NA, NA, NA, NA, NA, NA, NA, NA, NA, NA, NA, NA, NA, NA,...\n"
     ]
    }
   ],
   "source": [
    "glimpse(d_chartitems)"
   ]
  },
  {
   "cell_type": "markdown",
   "metadata": {},
   "source": [
    "Odd the category and description seem to be absent. Are they?"
   ]
  },
  {
   "cell_type": "code",
   "execution_count": 36,
   "metadata": {},
   "outputs": [
    {
     "name": "stdout",
     "output_type": "stream",
     "text": [
      "# Source:     lazy query [?? x 2]\n",
      "# Database:   mysql 5.7.12 [jovyan@mysql:/mimic2]\n",
      "# Ordered by: desc(n)\n",
      "             category     n\n",
      "                <chr> <dbl>\n",
      " 1               <NA>  4624\n",
      " 2          Chemistry    56\n",
      " 3         Drug Level    27\n",
      " 4          Heme/Coag    19\n",
      " 5         Hematology    16\n",
      " 6              ABG's    15\n",
      " 7              Coags    14\n",
      " 8         Other ABGs    10\n",
      " 9                LCP     9\n",
      "10            Enzymes     9\n",
      "11                ABG     8\n",
      "12         Mixed VBGs     5\n",
      "13              Urine     5\n",
      "14         Venous ABG     4\n",
      "15                CSF     3\n",
      "16              VBG'S     3\n",
      "17 Mixed Venous Gases     2\n",
      "18        Blood Gases     2\n",
      "19        Quick Admit     1\n"
     ]
    },
    {
     "data": {
      "text/plain": [
       "# Source:   lazy query [?? x 2]\n",
       "# Database: mysql 5.7.12 [jovyan@mysql:/mimic2]\n",
       "                                                                        description\n",
       "                                                                              <chr>\n",
       " 1                                                                             <NA>\n",
       " 2                                       Calculated SAPS I score by the MIMIC2 team\n",
       " 3   Calculated SOFA score due to cardiovascular failure (MAP) - by the MIMIC2 team\n",
       " 4 Calculated SOFA score due to cardiovascular failure (Pressors) - by the MIMIC2 t\n",
       " 5 Calculated SOFA score due to hematologic failure (Platelet count) - by the MIMIC\n",
       " 6 Calculated SOFA score due to hepatic failure (Bilirubin values) - by the MIMIC2 \n",
       " 7 Calculated SOFA score due to neurologic failure (Glasgow coma score) - by the MI\n",
       " 8 Calculated SOFA score due to renal failure (Creatinine and Urine output) - by th\n",
       " 9 Calculated SOFA score due to respiratory failure (PaO2/FiO2 ratio) - by the MIMI\n",
       "10 Calculated SOFA score. Sum of sofa scores from individual organ systems (Sum of \n",
       "# ... with more rows, and 1 more variables: n <dbl>"
      ]
     },
     "metadata": {},
     "output_type": "display_data"
    }
   ],
   "source": [
    "d_chartitems %>% count(category) %>% arrange(desc(n)) %>% print(n=25)\n",
    "d_chartitems %>% count(description)\n"
   ]
  },
  {
   "cell_type": "code",
   "execution_count": 37,
   "metadata": {},
   "outputs": [
    {
     "name": "stdout",
     "output_type": "stream",
     "text": [
      "Observations: 0\n",
      "Variables: 41\n",
      "$ label                          <chr> \n",
      "$ label_lower                    <chr> \n",
      "$ itemid                         <int> \n",
      "$ category                       <chr> \n",
      "$ description                    <chr> \n",
      "$ value_type                     <chr> \n",
      "$ value_column                   <chr> \n",
      "$ rows_num                       <dbl> \n",
      "$ subjects_num                   <dbl> \n",
      "$ chart_vs_realtime_delay_mean   <dbl> \n",
      "$ chart_vs_realtime_delay_stddev <dbl> \n",
      "$ value1_uom_num                 <dbl> \n",
      "$ value1_uom_has_nulls           <chr> \n",
      "$ value1_uom_sample1             <chr> \n",
      "$ value1_uom_sample2             <chr> \n",
      "$ value1_distinct_num            <dbl> \n",
      "$ value1_has_nulls               <chr> \n",
      "$ value1_sample1                 <chr> \n",
      "$ value1_sample2                 <chr> \n",
      "$ value1_length_min              <dbl> \n",
      "$ value1_length_max              <dbl> \n",
      "$ value1_length_mean             <dbl> \n",
      "$ value1num_min                  <dbl> \n",
      "$ value1num_max                  <dbl> \n",
      "$ value1num_mean                 <dbl> \n",
      "$ value1num_stddev               <dbl> \n",
      "$ value2_uom_num                 <dbl> \n",
      "$ value2_uom_has_nulls           <chr> \n",
      "$ value2_uom_sample1             <chr> \n",
      "$ value2_uom_sample2             <chr> \n",
      "$ value2_distinct_num            <dbl> \n",
      "$ value2_has_nulls               <chr> \n",
      "$ value2_sample1                 <chr> \n",
      "$ value2_sample2                 <chr> \n",
      "$ value2_length_min              <dbl> \n",
      "$ value2_length_max              <dbl> \n",
      "$ value2_length_mean             <dbl> \n",
      "$ value2num_min                  <dbl> \n",
      "$ value2num_max                  <dbl> \n",
      "$ value2num_mean                 <dbl> \n",
      "$ value2num_stddev               <dbl> \n"
     ]
    }
   ],
   "source": [
    "glimpse(d_chartitems_detail)"
   ]
  },
  {
   "cell_type": "markdown",
   "metadata": {},
   "source": [
    "Here we have a table with structure but no content.  \n",
    "*Did the database administrators mess something up?*"
   ]
  },
  {
   "cell_type": "code",
   "execution_count": 38,
   "metadata": {},
   "outputs": [
    {
     "data": {
      "text/plain": [
       "# Source:   table<d_chartitems> [?? x 4]\n",
       "# Database: mysql 5.7.12 [jovyan@mysql:/mimic2]\n",
       "   itemid                label category description\n",
       "    <int>                <chr>    <chr>       <chr>\n",
       " 1   1435   Sustained Nystamus     <NA>        <NA>\n",
       " 2   1436 Tactile Disturbances     <NA>        <NA>\n",
       " 3   1437               Tremor     <NA>        <NA>\n",
       " 4   1438      Ulnar Pulse R/L     <NA>        <NA>\n",
       " 5   1439  Visual Disturbances     <NA>        <NA>\n",
       " 6   1447  Transpulmonary Pres     <NA>        <NA>\n",
       " 7   1448               Vd/Vt:     <NA>        <NA>\n",
       " 8   1449     Arterial BP(Rad)     <NA>        <NA>\n",
       " 9   1450            level one     <NA>        <NA>\n",
       "10   1451         L girth size     <NA>        <NA>\n",
       "# ... with more rows"
      ]
     },
     "metadata": {},
     "output_type": "display_data"
    }
   ],
   "source": [
    "d_chartitems"
   ]
  },
  {
   "cell_type": "markdown",
   "metadata": {},
   "source": [
    "### Admissions"
   ]
  },
  {
   "cell_type": "code",
   "execution_count": 39,
   "metadata": {},
   "outputs": [
    {
     "data": {
      "text/plain": [
       "# Source:   lazy query [?? x 1]\n",
       "# Database: mysql 5.7.12 [jovyan@mysql:/mimic2]\n",
       "      n\n",
       "  <dbl>\n",
       "1  5074"
      ]
     },
     "metadata": {},
     "output_type": "display_data"
    },
    {
     "name": "stdout",
     "output_type": "stream",
     "text": [
      "Observations: 25\n",
      "Variables: 4\n",
      "$ hadm_id    <int> 28766, 2075, 20666, 20882, 12532, 15067, 18052, 15325, 7...\n",
      "$ subject_id <int> 56, 3, 21, 21, 12, 26, 37, 31, 61, 61, 78, 67, 83, 117, ...\n",
      "$ admit_dt   <chr> \"2644-01-17 00:00:00\", \"2682-09-07 00:00:00\", \"3138-10-2...\n",
      "$ disch_dt   <chr> \"2644-01-23 00:00:00\", \"2682-09-18 00:00:00\", \"3138-11-1...\n"
     ]
    }
   ],
   "source": [
    "count(admissions)\n",
    "glimpse(admissions)"
   ]
  },
  {
   "cell_type": "markdown",
   "metadata": {},
   "source": [
    "Small table, good to bring down and mess with."
   ]
  },
  {
   "cell_type": "code",
   "execution_count": 40,
   "metadata": {
    "collapsed": true
   },
   "outputs": [],
   "source": [
    "admissions.tbl <- admissions %>%\n",
    "    collect %>%\n",
    "    mutate( admit_dt = ymd_hms(admit_dt)\n",
    "          , disch_dt = ymd_hms(disch_dt)\n",
    "          , stay_length = interval(admit_dt, disch_dt)/ddays(1)\n",
    "          )"
   ]
  },
  {
   "cell_type": "code",
   "execution_count": 41,
   "metadata": {},
   "outputs": [
    {
     "data": {
      "text/html": [
       "<table>\n",
       "<thead><tr><th scope=col>stay_length.median</th><th scope=col>stay_length.mean</th><th scope=col>stay_length.max</th></tr></thead>\n",
       "<tbody>\n",
       "\t<tr><td>8       </td><td>11.67264</td><td>295     </td></tr>\n",
       "</tbody>\n",
       "</table>\n"
      ],
      "text/latex": [
       "\\begin{tabular}{r|lll}\n",
       " stay\\_length.median & stay\\_length.mean & stay\\_length.max\\\\\n",
       "\\hline\n",
       "\t 8        & 11.67264 & 295     \\\\\n",
       "\\end{tabular}\n"
      ],
      "text/markdown": [
       "\n",
       "stay_length.median | stay_length.mean | stay_length.max | \n",
       "|---|\n",
       "| 8        | 11.67264 | 295      | \n",
       "\n",
       "\n"
      ],
      "text/plain": [
       "  stay_length.median stay_length.mean stay_length.max\n",
       "1 8                  11.67264         295            "
      ]
     },
     "metadata": {},
     "output_type": "display_data"
    }
   ],
   "source": [
    "admissions.tbl %>%\n",
    "    summarise( stay_length.median = median(stay_length)\n",
    "             , stay_length.mean   = mean  (stay_length)\n",
    "             , stay_length.max    = max   (stay_length)\n",
    "             )"
   ]
  },
  {
   "cell_type": "code",
   "execution_count": 42,
   "metadata": {},
   "outputs": [
    {
     "name": "stderr",
     "output_type": "stream",
     "text": [
      "Warning message:\n",
      "“Transformation introduced infinite values in continuous x-axis”Warning message:\n",
      "“Removed 87 rows containing non-finite values (stat_density).”"
     ]
    },
    {
     "data": {},
     "metadata": {},
     "output_type": "display_data"
    },
    {
     "data": {
      "image/png": "[encoded data removed]",
      "text/plain": [
       "plot without title"
      ]
     },
     "metadata": {},
     "output_type": "display_data"
    }
   ],
   "source": [
    "ggplot(data=admissions.tbl, aes(x=stay_length)) + \n",
    "    geom_density() + \n",
    "    scale_x_log10()"
   ]
  },
  {
   "cell_type": "markdown",
   "metadata": {},
   "source": [
    "The warning means that there were stays with zero duration.  \n",
    "That should not happen ... \n",
    "**Any ideas?**"
   ]
  },
  {
   "cell_type": "code",
   "execution_count": 43,
   "metadata": {},
   "outputs": [
    {
     "data": {
      "text/html": [
       "<table>\n",
       "<thead><tr><th scope=col>stay_length</th><th scope=col>n</th></tr></thead>\n",
       "<tbody>\n",
       "\t<tr><td>0  </td><td> 87</td></tr>\n",
       "\t<tr><td>1  </td><td>272</td></tr>\n",
       "\t<tr><td>2  </td><td>286</td></tr>\n",
       "\t<tr><td>3  </td><td>370</td></tr>\n",
       "\t<tr><td>4  </td><td>361</td></tr>\n",
       "\t<tr><td>5  </td><td>366</td></tr>\n",
       "</tbody>\n",
       "</table>\n"
      ],
      "text/latex": [
       "\\begin{tabular}{r|ll}\n",
       " stay\\_length & n\\\\\n",
       "\\hline\n",
       "\t 0   &  87\\\\\n",
       "\t 1   & 272\\\\\n",
       "\t 2   & 286\\\\\n",
       "\t 3   & 370\\\\\n",
       "\t 4   & 361\\\\\n",
       "\t 5   & 366\\\\\n",
       "\\end{tabular}\n"
      ],
      "text/markdown": [
       "\n",
       "stay_length | n | \n",
       "|---|---|---|---|---|---|\n",
       "| 0   |  87 | \n",
       "| 1   | 272 | \n",
       "| 2   | 286 | \n",
       "| 3   | 370 | \n",
       "| 4   | 361 | \n",
       "| 5   | 366 | \n",
       "\n",
       "\n"
      ],
      "text/plain": [
       "  stay_length n  \n",
       "1 0            87\n",
       "2 1           272\n",
       "3 2           286\n",
       "4 3           370\n",
       "5 4           361\n",
       "6 5           366"
      ]
     },
     "metadata": {},
     "output_type": "display_data"
    }
   ],
   "source": [
    "# Pause for discussion\n",
    "\n",
    "\n",
    "\n",
    "\n",
    "\n",
    "\n",
    "\n",
    "\n",
    "\n",
    "\n",
    "\n",
    "\n",
    "\n",
    "\n",
    "\n",
    "\n",
    "\n",
    "\n",
    "\n",
    "\n",
    "\n",
    "\n",
    "\n",
    "admissions.tbl %>% count(stay_length) %>% head()"
   ]
  },
  {
   "cell_type": "markdown",
   "metadata": {},
   "source": [
    "The admit and discharge have been truncated to the day, so a value of zero means that it is less than 1 day."
   ]
  },
  {
   "cell_type": "code",
   "execution_count": 44,
   "metadata": {},
   "outputs": [
    {
     "data": {
      "text/html": [
       "<table>\n",
       "<thead><tr><th scope=col>metric</th><th scope=col>value</th></tr></thead>\n",
       "<tbody>\n",
       "\t<tr><td>min      </td><td> 1.000000</td></tr>\n",
       "\t<tr><td>median   </td><td> 1.000000</td></tr>\n",
       "\t<tr><td>mean     </td><td> 1.283907</td></tr>\n",
       "\t<tr><td>Q_75     </td><td> 1.000000</td></tr>\n",
       "\t<tr><td>max      </td><td>33.000000</td></tr>\n",
       "</tbody>\n",
       "</table>\n"
      ],
      "text/latex": [
       "\\begin{tabular}{r|ll}\n",
       " metric & value\\\\\n",
       "\\hline\n",
       "\t min       &  1.000000\\\\\n",
       "\t median    &  1.000000\\\\\n",
       "\t mean      &  1.283907\\\\\n",
       "\t Q\\_75    &  1.000000\\\\\n",
       "\t max       & 33.000000\\\\\n",
       "\\end{tabular}\n"
      ],
      "text/markdown": [
       "\n",
       "metric | value | \n",
       "|---|---|---|---|---|\n",
       "| min       |  1.000000 | \n",
       "| median    |  1.000000 | \n",
       "| mean      |  1.283907 | \n",
       "| Q_75      |  1.000000 | \n",
       "| max       | 33.000000 | \n",
       "\n",
       "\n"
      ],
      "text/plain": [
       "  metric value    \n",
       "1 min     1.000000\n",
       "2 median  1.000000\n",
       "3 mean    1.283907\n",
       "4 Q_75    1.000000\n",
       "5 max    33.000000"
      ]
     },
     "metadata": {},
     "output_type": "display_data"
    }
   ],
   "source": [
    "admissions.tbl %>%\n",
    "    count(subject_id) %>%\n",
    "    summarise( min    = min     (n)\n",
    "             , median = median  (n)\n",
    "             , mean   = mean    (n)\n",
    "             , Q_75   = quantile(n, 0.75, names=F)\n",
    "             , max    = max     (n)\n",
    "             ) %>%\n",
    "    gather(metric, value, everything())"
   ]
  },
  {
   "cell_type": "code",
   "execution_count": 45,
   "metadata": {},
   "outputs": [
    {
     "data": {
      "text/html": [
       "<table>\n",
       "<thead><tr><th scope=col>n</th><th scope=col>nn</th></tr></thead>\n",
       "<tbody>\n",
       "\t<tr><td> 1  </td><td>3242</td></tr>\n",
       "\t<tr><td> 2  </td><td> 516</td></tr>\n",
       "\t<tr><td> 3  </td><td> 114</td></tr>\n",
       "\t<tr><td> 4  </td><td>  35</td></tr>\n",
       "\t<tr><td> 5  </td><td>  20</td></tr>\n",
       "\t<tr><td> 6  </td><td>  13</td></tr>\n",
       "\t<tr><td> 7  </td><td>   4</td></tr>\n",
       "\t<tr><td> 8  </td><td>   2</td></tr>\n",
       "\t<tr><td> 9  </td><td>   3</td></tr>\n",
       "\t<tr><td>12  </td><td>   1</td></tr>\n",
       "\t<tr><td>24  </td><td>   1</td></tr>\n",
       "\t<tr><td>33  </td><td>   1</td></tr>\n",
       "</tbody>\n",
       "</table>\n"
      ],
      "text/latex": [
       "\\begin{tabular}{r|ll}\n",
       " n & nn\\\\\n",
       "\\hline\n",
       "\t  1   & 3242\\\\\n",
       "\t  2   &  516\\\\\n",
       "\t  3   &  114\\\\\n",
       "\t  4   &   35\\\\\n",
       "\t  5   &   20\\\\\n",
       "\t  6   &   13\\\\\n",
       "\t  7   &    4\\\\\n",
       "\t  8   &    2\\\\\n",
       "\t  9   &    3\\\\\n",
       "\t 12   &    1\\\\\n",
       "\t 24   &    1\\\\\n",
       "\t 33   &    1\\\\\n",
       "\\end{tabular}\n"
      ],
      "text/markdown": [
       "\n",
       "n | nn | \n",
       "|---|---|---|---|---|---|---|---|---|---|---|---|\n",
       "|  1   | 3242 | \n",
       "|  2   |  516 | \n",
       "|  3   |  114 | \n",
       "|  4   |   35 | \n",
       "|  5   |   20 | \n",
       "|  6   |   13 | \n",
       "|  7   |    4 | \n",
       "|  8   |    2 | \n",
       "|  9   |    3 | \n",
       "| 12   |    1 | \n",
       "| 24   |    1 | \n",
       "| 33   |    1 | \n",
       "\n",
       "\n"
      ],
      "text/plain": [
       "   n  nn  \n",
       "1   1 3242\n",
       "2   2  516\n",
       "3   3  114\n",
       "4   4   35\n",
       "5   5   20\n",
       "6   6   13\n",
       "7   7    4\n",
       "8   8    2\n",
       "9   9    3\n",
       "10 12    1\n",
       "11 24    1\n",
       "12 33    1"
      ]
     },
     "metadata": {},
     "output_type": "display_data"
    }
   ],
   "source": [
    "admissions.tbl %>%\n",
    "    count(subject_id) %>% count(n)"
   ]
  },
  {
   "cell_type": "markdown",
   "metadata": {},
   "source": [
    "## Exercises\n",
    "\n",
    "> Check the remainder of the tables for possible problems in the data.\n"
   ]
  },
  {
   "cell_type": "code",
   "execution_count": 46,
   "metadata": {
    "collapsed": true
   },
   "outputs": [],
   "source": [
    "\n",
    "\n",
    "\n",
    "\n",
    "\n",
    "\n",
    "\n",
    "\n",
    "\n",
    "\n",
    "\n",
    "\n",
    "\n",
    "\n",
    "\n",
    "\n",
    "\n",
    "\n",
    "\n",
    "\n",
    "\n",
    "\n",
    "\n",
    "\n",
    "# inserted for space"
   ]
  }
 ],
 "metadata": {
  "kernelspec": {
   "display_name": "R",
   "language": "R",
   "name": "ir"
  },
  "language_info": {
   "codemirror_mode": "r",
   "file_extension": ".r",
   "mimetype": "text/x-r-source",
   "name": "R",
   "pygments_lexer": "r",
   "version": "3.3.2"
  }
 },
 "nbformat": 4,
 "nbformat_minor": 2
}
