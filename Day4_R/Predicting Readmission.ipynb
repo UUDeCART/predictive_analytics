{
 "cells": [
  {
   "cell_type": "markdown",
   "metadata": {},
   "source": [
    "# Predicting Readmission\n",
    "In this module we will look at a binary prediction of readmission.  For this we seek to predict a readmission from the current admision.  This means that our unit of analysis changes from the patient to the "
   ]
  },
  {
   "cell_type": "code",
   "execution_count": 1,
   "metadata": {},
   "outputs": [
    {
     "name": "stderr",
     "output_type": "stream",
     "text": [
      "Loading required package: tidyverse\n",
      "Loading tidyverse: ggplot2\n",
      "Loading tidyverse: tibble\n",
      "Loading tidyverse: tidyr\n",
      "Loading tidyverse: readr\n",
      "Loading tidyverse: purrr\n",
      "Loading tidyverse: dplyr\n",
      "Conflicts with tidy packages ---------------------------------------------------\n",
      "filter(): dplyr, stats\n",
      "lag():    dplyr, stats\n",
      "Loading required package: magrittr\n",
      "Loading required package: RMySQL\n",
      "Loading required package: DBI\n",
      "Loading required package: dbplyr\n",
      "Loading required package: stringr\n",
      "Loading required package: lubridate\n",
      "Loading required package: forcats\n",
      "Loading required package: modelr\n",
      "Loading required package: caret\n",
      "Loading required package: lattice\n",
      "Loading required package: broom\n"
     ]
    }
   ],
   "source": [
    "# Load our helpers\n",
    "source(\"../using.R\")\n",
    "source(\"../percent.R\")\n",
    "source(\"../sift.R\")\n",
    "# Load our packages\n",
    "using( tidyverse, magrittr, RMySQL, DBI, dbplyr, stringr, lubridate\n",
    "     , forcats, ggplot2, modelr, caret, broom)\n",
    "\n",
    "# connect to the database\n",
    "mimic.db <- dbConnect( RMySQL::MySQL(), host=\"mysql\", port=3306\n",
    "                     , user=\"jovyan\", password=\"jovyan\", dbname=\"mimic2\"\n",
    "                     )\n",
    "# Expose all the tables.\n",
    "assign_mimic <- . %>% assign(., tbl(mimic.db, .), envir=globalenv())\n",
    "mimic <- dbListTables(mimic.db) %>%\n",
    "        structure(names=., lapply(., assign_mimic))"
   ]
  },
  {
   "cell_type": "markdown",
   "metadata": {},
   "source": [
    "## Define Analysis Data "
   ]
  },
  {
   "cell_type": "markdown",
   "metadata": {},
   "source": [
    "### Admisions\n",
    "\n",
    "The first step is to define the response variable, readmission.  We are not concerned if a patient is ever readmitted, but if they are readmitted within 90 days.  For the purpose of simplicity in illustration we are going to ignore if the readmission is for the same condition or not. "
   ]
  },
  {
   "cell_type": "code",
   "execution_count": 2,
   "metadata": {},
   "outputs": [
    {
     "name": "stderr",
     "output_type": "stream",
     "text": [
      "Joining, by = \"subject_id\"\n"
     ]
    }
   ],
   "source": [
    "admissions.tbl <- \n",
    "    # start with patients\n",
    "    d_patients %>% \n",
    "\n",
    "    # join to admissions\n",
    "    left_join(admissions) %>% \n",
    "\n",
    "    # ensure correct order\n",
    "    arrange(subject_id, admit_dt) %>% collect %>%\n",
    "    \n",
    "    # clean up variables from SQL\n",
    "    mutate( admit_dt  = ymd_hms(admit_dt)\n",
    "          , disch_dt  = ymd_hms(disch_dt)\n",
    "          , dob       = ymd_hms(dob)\n",
    "          , dod       = ymd_hms(dod)\n",
    "          , admit_los = interval(admit_dt, disch_dt)/ddays(1)\n",
    "          , age_at_discharge = interval(dob, disch_dt)/dyears(1)\n",
    "          ) %>%\n",
    "    \n",
    "    # compute time since last admission\n",
    "    group_by(subject_id) %>% \n",
    "    mutate( time.since.last.disch = interval(lag(disch_dt, 1, default=unique(dob)), admit_dt)/ddays(1)\n",
    "          , readmission.wi.30days = time.since.last.disch <= 30\n",
    "          , readmission.wi.90days = time.since.last.disch <= 90\n",
    "          , readmission.wi.1year  = interval(lag(disch_dt, 1, default=unique(dob)), admit_dt)/dyears(1) <= 1\n",
    "          ) %>%\n",
    "    mutate( has.readmit.wi.90days = lead(readmission.wi.90days, 1, FALSE)) %>% ungroup"
   ]
  },
  {
   "cell_type": "markdown",
   "metadata": {},
   "source": [
    "#### What is going on?\n",
    "* first find the last discharge date."
   ]
  },
  {
   "cell_type": "code",
   "execution_count": 3,
   "metadata": {},
   "outputs": [
    {
     "name": "stderr",
     "output_type": "stream",
     "text": [
      "Joining, by = \"subject_id\"\n"
     ]
    },
    {
     "data": {
      "text/html": [
       "<table>\n",
       "<thead><tr><th scope=col>subject_id</th><th scope=col>dob</th><th scope=col>admit_dt</th><th scope=col>disch_dt</th><th scope=col>last_disch</th></tr></thead>\n",
       "<tbody>\n",
       "\t<tr><td>353       </td><td>3036-09-03</td><td>3095-07-27</td><td>3095-08-15</td><td>3036-09-03</td></tr>\n",
       "\t<tr><td>353       </td><td>3036-09-03</td><td>3098-05-08</td><td>3098-05-24</td><td>3095-08-15</td></tr>\n",
       "\t<tr><td>353       </td><td>3036-09-03</td><td>3098-08-03</td><td>3098-08-14</td><td>3098-05-24</td></tr>\n",
       "\t<tr><td>353       </td><td>3036-09-03</td><td>3098-11-11</td><td>3098-11-30</td><td>3098-08-14</td></tr>\n",
       "\t<tr><td>634       </td><td>2753-12-27</td><td>2816-07-22</td><td>2816-07-31</td><td>2753-12-27</td></tr>\n",
       "\t<tr><td>634       </td><td>2753-12-27</td><td>2816-08-08</td><td>2816-08-11</td><td>2816-07-31</td></tr>\n",
       "</tbody>\n",
       "</table>\n"
      ],
      "text/latex": [
       "\\begin{tabular}{r|lllll}\n",
       " subject\\_id & dob & admit\\_dt & disch\\_dt & last\\_disch\\\\\n",
       "\\hline\n",
       "\t 353        & 3036-09-03 & 3095-07-27 & 3095-08-15 & 3036-09-03\\\\\n",
       "\t 353        & 3036-09-03 & 3098-05-08 & 3098-05-24 & 3095-08-15\\\\\n",
       "\t 353        & 3036-09-03 & 3098-08-03 & 3098-08-14 & 3098-05-24\\\\\n",
       "\t 353        & 3036-09-03 & 3098-11-11 & 3098-11-30 & 3098-08-14\\\\\n",
       "\t 634        & 2753-12-27 & 2816-07-22 & 2816-07-31 & 2753-12-27\\\\\n",
       "\t 634        & 2753-12-27 & 2816-08-08 & 2816-08-11 & 2816-07-31\\\\\n",
       "\\end{tabular}\n"
      ],
      "text/markdown": [
       "\n",
       "subject_id | dob | admit_dt | disch_dt | last_disch | \n",
       "|---|---|---|---|---|---|\n",
       "| 353        | 3036-09-03 | 3095-07-27 | 3095-08-15 | 3036-09-03 | \n",
       "| 353        | 3036-09-03 | 3098-05-08 | 3098-05-24 | 3095-08-15 | \n",
       "| 353        | 3036-09-03 | 3098-08-03 | 3098-08-14 | 3098-05-24 | \n",
       "| 353        | 3036-09-03 | 3098-11-11 | 3098-11-30 | 3098-08-14 | \n",
       "| 634        | 2753-12-27 | 2816-07-22 | 2816-07-31 | 2753-12-27 | \n",
       "| 634        | 2753-12-27 | 2816-08-08 | 2816-08-11 | 2816-07-31 | \n",
       "\n",
       "\n"
      ],
      "text/plain": [
       "  subject_id dob        admit_dt   disch_dt   last_disch\n",
       "1 353        3036-09-03 3095-07-27 3095-08-15 3036-09-03\n",
       "2 353        3036-09-03 3098-05-08 3098-05-24 3095-08-15\n",
       "3 353        3036-09-03 3098-08-03 3098-08-14 3098-05-24\n",
       "4 353        3036-09-03 3098-11-11 3098-11-30 3098-08-14\n",
       "5 634        2753-12-27 2816-07-22 2816-07-31 2753-12-27\n",
       "6 634        2753-12-27 2816-08-08 2816-08-11 2816-07-31"
      ]
     },
     "metadata": {},
     "output_type": "display_data"
    }
   ],
   "source": [
    "# For illustration we restrict to the patients with multiple admissions \n",
    "# and only look at the variables we are currently working with.\n",
    "subject.admission.counts <- count(admissions.tbl, subject_id)\n",
    "tmp0 <- admissions.tbl %>%\n",
    "    inner_join(filter(subject.admission.counts, n >= 4)) %>%\n",
    "    select(subject_id, dob, admit_dt, disch_dt)\n",
    "    \n",
    "tmp1 <- tmp0 %>%\n",
    "    group_by(subject_id) %>% \n",
    "    mutate( last_disch =                \n",
    "               lag( disch_dt, 1        # lag means shift by one  \n",
    "                  , default=unique(dob)# with the first element being\n",
    "                                       # the date of birth.\n",
    "                  )\n",
    "          )\n",
    "\n",
    "# Now lets look at the top of the table.\n",
    "tmp1 %>% head()"
   ]
  },
  {
   "cell_type": "markdown",
   "metadata": {},
   "source": [
    "* Next compute the time between last discharge and the current admission."
   ]
  },
  {
   "cell_type": "code",
   "execution_count": 4,
   "metadata": {},
   "outputs": [
    {
     "data": {
      "text/html": [
       "<table>\n",
       "<thead><tr><th scope=col>subject_id</th><th scope=col>dob</th><th scope=col>admit_dt</th><th scope=col>disch_dt</th><th scope=col>last_disch</th><th scope=col>time.since.last.disch</th></tr></thead>\n",
       "<tbody>\n",
       "\t<tr><td>353       </td><td>3036-09-03</td><td>3095-07-27</td><td>3095-08-15</td><td>3036-09-03</td><td>21511     </td></tr>\n",
       "\t<tr><td>353       </td><td>3036-09-03</td><td>3098-05-08</td><td>3098-05-24</td><td>3095-08-15</td><td>  997     </td></tr>\n",
       "\t<tr><td>353       </td><td>3036-09-03</td><td>3098-08-03</td><td>3098-08-14</td><td>3098-05-24</td><td>   71     </td></tr>\n",
       "\t<tr><td>353       </td><td>3036-09-03</td><td>3098-11-11</td><td>3098-11-30</td><td>3098-08-14</td><td>   89     </td></tr>\n",
       "\t<tr><td>634       </td><td>2753-12-27</td><td>2816-07-22</td><td>2816-07-31</td><td>2753-12-27</td><td>22853     </td></tr>\n",
       "\t<tr><td>634       </td><td>2753-12-27</td><td>2816-08-08</td><td>2816-08-11</td><td>2816-07-31</td><td>    8     </td></tr>\n",
       "</tbody>\n",
       "</table>\n"
      ],
      "text/latex": [
       "\\begin{tabular}{r|llllll}\n",
       " subject\\_id & dob & admit\\_dt & disch\\_dt & last\\_disch & time.since.last.disch\\\\\n",
       "\\hline\n",
       "\t 353        & 3036-09-03 & 3095-07-27 & 3095-08-15 & 3036-09-03 & 21511     \\\\\n",
       "\t 353        & 3036-09-03 & 3098-05-08 & 3098-05-24 & 3095-08-15 &   997     \\\\\n",
       "\t 353        & 3036-09-03 & 3098-08-03 & 3098-08-14 & 3098-05-24 &    71     \\\\\n",
       "\t 353        & 3036-09-03 & 3098-11-11 & 3098-11-30 & 3098-08-14 &    89     \\\\\n",
       "\t 634        & 2753-12-27 & 2816-07-22 & 2816-07-31 & 2753-12-27 & 22853     \\\\\n",
       "\t 634        & 2753-12-27 & 2816-08-08 & 2816-08-11 & 2816-07-31 &     8     \\\\\n",
       "\\end{tabular}\n"
      ],
      "text/markdown": [
       "\n",
       "subject_id | dob | admit_dt | disch_dt | last_disch | time.since.last.disch | \n",
       "|---|---|---|---|---|---|\n",
       "| 353        | 3036-09-03 | 3095-07-27 | 3095-08-15 | 3036-09-03 | 21511      | \n",
       "| 353        | 3036-09-03 | 3098-05-08 | 3098-05-24 | 3095-08-15 |   997      | \n",
       "| 353        | 3036-09-03 | 3098-08-03 | 3098-08-14 | 3098-05-24 |    71      | \n",
       "| 353        | 3036-09-03 | 3098-11-11 | 3098-11-30 | 3098-08-14 |    89      | \n",
       "| 634        | 2753-12-27 | 2816-07-22 | 2816-07-31 | 2753-12-27 | 22853      | \n",
       "| 634        | 2753-12-27 | 2816-08-08 | 2816-08-11 | 2816-07-31 |     8      | \n",
       "\n",
       "\n"
      ],
      "text/plain": [
       "  subject_id dob        admit_dt   disch_dt   last_disch time.since.last.disch\n",
       "1 353        3036-09-03 3095-07-27 3095-08-15 3036-09-03 21511                \n",
       "2 353        3036-09-03 3098-05-08 3098-05-24 3095-08-15   997                \n",
       "3 353        3036-09-03 3098-08-03 3098-08-14 3098-05-24    71                \n",
       "4 353        3036-09-03 3098-11-11 3098-11-30 3098-08-14    89                \n",
       "5 634        2753-12-27 2816-07-22 2816-07-31 2753-12-27 22853                \n",
       "6 634        2753-12-27 2816-08-08 2816-08-11 2816-07-31     8                "
      ]
     },
     "metadata": {},
     "output_type": "display_data"
    }
   ],
   "source": [
    "tmp2 <- mutate(tmp1, \n",
    "    time.since.last.disch =           # Take the time period\n",
    "       interval(last_disch, admit_dt) # from previous discharge to current admission\n",
    "       / ddays(1)                      # measured in number of days.\n",
    "      )\n",
    "head(tmp2)"
   ]
  },
  {
   "cell_type": "markdown",
   "metadata": {},
   "source": [
    "* Now compute our variables of interest, which you can see up above.\n",
    "\n",
    "#### moving on\n",
    "\n",
    "How many readmissions within 90 days do we have?"
   ]
  },
  {
   "cell_type": "code",
   "execution_count": 5,
   "metadata": {},
   "outputs": [
    {
     "data": {
      "text/html": [
       "<table>\n",
       "<thead><tr><th scope=col>has.readmit.wi.90days</th><th scope=col>n</th></tr></thead>\n",
       "<tbody>\n",
       "\t<tr><td>FALSE</td><td>4520 </td></tr>\n",
       "\t<tr><td> TRUE</td><td> 602 </td></tr>\n",
       "</tbody>\n",
       "</table>\n"
      ],
      "text/latex": [
       "\\begin{tabular}{r|ll}\n",
       " has.readmit.wi.90days & n\\\\\n",
       "\\hline\n",
       "\t FALSE & 4520 \\\\\n",
       "\t  TRUE &  602 \\\\\n",
       "\\end{tabular}\n"
      ],
      "text/markdown": [
       "\n",
       "has.readmit.wi.90days | n | \n",
       "|---|---|\n",
       "| FALSE | 4520  | \n",
       "|  TRUE |  602  | \n",
       "\n",
       "\n"
      ],
      "text/plain": [
       "  has.readmit.wi.90days n   \n",
       "1 FALSE                 4520\n",
       "2  TRUE                  602"
      ]
     },
     "metadata": {},
     "output_type": "display_data"
    }
   ],
   "source": [
    "admissions.tbl %>% ungroup %>% count(has.readmit.wi.90days)"
   ]
  },
  {
   "cell_type": "markdown",
   "metadata": {},
   "source": [
    "### ICU\n",
    "\n",
    "Here we summarize the icu visits to one row per hospital admission."
   ]
  },
  {
   "cell_type": "code",
   "execution_count": 6,
   "metadata": {
    "collapsed": true
   },
   "outputs": [],
   "source": [
    "admit.icu <- \n",
    "    \n",
    "    # We start with the icustay_detail which includes more information\n",
    "    # than the individual tables and is already combined together.\n",
    "    icustay_detail %>% collect %>%\n",
    "\n",
    "    # select only the ICU and index variables\n",
    "    # (because there are more variables).\n",
    "    select(subject_id, hadm_id, icustay_id, starts_with('icustay')) %>% \n",
    "    \n",
    "    # and remove any possible duplicate rows\n",
    "    # (just to be safe, might be unneccessary)\n",
    "    distinct %>%\n",
    "    \n",
    "    # Convert our variables to dates.\n",
    "    # This is actually unneccessary because we don't use these\n",
    "    # but it is good form to fix it now in case we \n",
    "    # do use it later.\n",
    "    mutate( icu_intime  = ymd_hms(icustay_intime)\n",
    "          , icu_outitme = ymd_hms(icustay_outtime)\n",
    "          ) %>%\n",
    "    \n",
    "    # We want output as one row per hadm_id\n",
    "    group_by(hadm_id) %>%\n",
    "    \n",
    "    # and we want to derive variables:\n",
    "    summarise( has_icu = TRUE         # Does the visit have an incu stay\n",
    "                                      # when we merge we will get missing\n",
    "                                      # values that we will replace with \n",
    "                                      # FALSE.\n",
    "             , n_icu   = n()          # Number of ICU visits and \n",
    "             , icu_minutes =          # and the total time (in minutes) in\n",
    "                  sum(icustay_los)    # the ICU, both of which we will\n",
    "                                      # replace with 0 after merging.\n",
    "             ) %>%\n",
    "    ungroup  # and we don't want the grouping to be carried forward.\n"
   ]
  },
  {
   "cell_type": "markdown",
   "metadata": {},
   "source": [
    "### ICD-9 Tables\n",
    "\n",
    "ICD-9 Tells us a whole lot about the patients and the visits.  There would be **a lot** of time that would be spent here getting these variables right. We will do about the most naive thing that we can, because we are lazy. ;-)"
   ]
  },
  {
   "cell_type": "code",
   "execution_count": 7,
   "metadata": {},
   "outputs": [
    {
     "data": {
      "text/html": [
       "<table>\n",
       "<thead><tr><th scope=col>Observations</th></tr></thead>\n",
       "<tbody>\n",
       "\t<tr><td>53486</td></tr>\n",
       "</tbody>\n",
       "</table>\n"
      ],
      "text/latex": [
       "\\begin{tabular}{r|l}\n",
       " Observations\\\\\n",
       "\\hline\n",
       "\t 53486\\\\\n",
       "\\end{tabular}\n"
      ],
      "text/markdown": [
       "\n",
       "Observations | \n",
       "|---|\n",
       "| 53486 | \n",
       "\n",
       "\n"
      ],
      "text/plain": [
       "  Observations\n",
       "1 53486       "
      ]
     },
     "metadata": {},
     "output_type": "display_data"
    },
    {
     "name": "stdout",
     "output_type": "stream",
     "text": [
      "Observations: 25\n",
      "Variables: 5\n",
      "$ subject_id  <int> 56, 56, 56, 56, 56, 56, 56, 56, 37, 37, 37, 37, 37, 37,...\n",
      "$ hadm_id     <int> 28766, 28766, 28766, 28766, 28766, 28766, 28766, 28766,...\n",
      "$ sequence    <int> 1, 2, 3, 4, 5, 6, 7, 8, 1, 2, 3, 4, 5, 6, 7, 8, 9, 1, 2...\n",
      "$ code        <chr> \"198.3\", \"162.8\", \"531.40\", \"276.1\", \"428.0\", \"780.39\",...\n",
      "$ description <chr> \"SECONDARY MALIGNANT NEOPLASM OF BRAIN AND SPINAL C\", \"...\n"
     ]
    }
   ],
   "source": [
    "count(icd9) %>% rename(Observations = n) %>% collect()\n",
    "glimpse(icd9)"
   ]
  },
  {
   "cell_type": "markdown",
   "metadata": {},
   "source": [
    "Let's get some understanding of the `icd9` table."
   ]
  },
  {
   "cell_type": "code",
   "execution_count": 8,
   "metadata": {},
   "outputs": [
    {
     "data": {
      "text/html": [
       "<table>\n",
       "<thead><tr><th scope=col>Type</th><th scope=col>Count of distinct</th></tr></thead>\n",
       "<tbody>\n",
       "\t<tr><td>rows        </td><td>53486       </td></tr>\n",
       "\t<tr><td>subjects    </td><td> 3951       </td></tr>\n",
       "\t<tr><td>codes       </td><td> 2719       </td></tr>\n",
       "\t<tr><td>descriptions</td><td> 3605       </td></tr>\n",
       "</tbody>\n",
       "</table>\n"
      ],
      "text/latex": [
       "\\begin{tabular}{r|ll}\n",
       " Type & Count of distinct\\\\\n",
       "\\hline\n",
       "\t rows         & 53486       \\\\\n",
       "\t subjects     &  3951       \\\\\n",
       "\t codes        &  2719       \\\\\n",
       "\t descriptions &  3605       \\\\\n",
       "\\end{tabular}\n"
      ],
      "text/markdown": [
       "\n",
       "Type | Count of distinct | \n",
       "|---|---|---|---|\n",
       "| rows         | 53486        | \n",
       "| subjects     |  3951        | \n",
       "| codes        |  2719        | \n",
       "| descriptions |  3605        | \n",
       "\n",
       "\n"
      ],
      "text/plain": [
       "  Type         Count of distinct\n",
       "1 rows         53486            \n",
       "2 subjects      3951            \n",
       "3 codes         2719            \n",
       "4 descriptions  3605            "
      ]
     },
     "metadata": {},
     "output_type": "display_data"
    }
   ],
   "source": [
    "icd9 %>% summarise( rows         = n()\n",
    "                  , subjects     = count(distinct(subject_id))\n",
    "                  , codes        = count(distinct(code))\n",
    "                  , descriptions = count(distinct(description))\n",
    "                  ) %>%\n",
    "collect() %>%\n",
    "gather(Type, 'Count of distinct')"
   ]
  },
  {
   "cell_type": "markdown",
   "metadata": {},
   "source": [
    "![](https://media.giphy.com/media/GVWBkBHggD77G/giphy.gif)\n",
    "\n",
    "**Problem**  \n",
    "The number of codes and the description should be the same. \n",
    "\n",
    "Here I give you the [`get_duplicated()`](../../../edit/predictive_analytics/get_duplicated.R) function to help out."
   ]
  },
  {
   "cell_type": "code",
   "execution_count": 9,
   "metadata": {},
   "outputs": [
    {
     "data": {
      "text/plain": [
       "# Source:   lazy query [?? x 2]\n",
       "# Database: mysql 5.7.12 [jovyan@mysql:/mimic2]\n",
       "    code                                       description\n",
       "   <chr>                                             <chr>\n",
       "1  007.4                                 CRYPTOSPORIDIOSIS\n",
       "2  007.4      \"OTH PROTOZOAL INT DISEAS                \\r\"\n",
       "3 008.45 INTESTINAL INFECTION DUE TO CLOSTRIDIUM DIFFICILE\n",
       "4 008.45      \"INTESTIN INF CLOSTRIOIUM                \\r\"\n",
       "5 008.69            ENTERITIS DUE TO OTHER VIRAL ENTERITIS\n",
       "6 008.69      \"ENTERITIS D/T OTH VIRUS                 \\r\""
      ]
     },
     "metadata": {},
     "output_type": "display_data"
    }
   ],
   "source": [
    "source(\"../get_duplicated.R\")\n",
    "get_duplicated(icd9, code, description) %>% head"
   ]
  },
  {
   "cell_type": "markdown",
   "metadata": {},
   "source": [
    "To make sense of ICD-9 codes we will use the [`icd`](https://cran.r-project.org/package=icd) R package."
   ]
  },
  {
   "cell_type": "code",
   "execution_count": 10,
   "metadata": {},
   "outputs": [
    {
     "name": "stderr",
     "output_type": "stream",
     "text": [
      "Loading required package: icd\n",
      "Welcome to the \"icd\" package for finding comorbidities and interpretation of ICD-9 and ICD-10 codes. Suggestions and contributions are welcome at https://github.com/jackwasey/icd .\n",
      "\n",
      "See the vignettes and help for examples.\n",
      "\n",
      "Please cite this package if you find it useful in your published work.\n",
      "citation(package = \"icd\")\n",
      "\n"
     ]
    }
   ],
   "source": [
    "using(icd)"
   ]
  },
  {
   "cell_type": "markdown",
   "metadata": {},
   "source": [
    "First are all of our ICD-9 codes valid?"
   ]
  },
  {
   "cell_type": "code",
   "execution_count": 11,
   "metadata": {},
   "outputs": [
    {
     "data": {
      "text/html": [
       "<table>\n",
       "<thead><tr><th scope=col>n</th></tr></thead>\n",
       "<tbody>\n",
       "\t<tr><td>53486</td></tr>\n",
       "</tbody>\n",
       "</table>\n"
      ],
      "text/latex": [
       "\\begin{tabular}{r|l}\n",
       " n\\\\\n",
       "\\hline\n",
       "\t 53486\\\\\n",
       "\\end{tabular}\n"
      ],
      "text/markdown": [
       "\n",
       "n | \n",
       "|---|\n",
       "| 53486 | \n",
       "\n",
       "\n"
      ],
      "text/plain": [
       "  n    \n",
       "1 53486"
      ]
     },
     "metadata": {},
     "output_type": "display_data"
    },
    {
     "data": {
      "text/html": [
       "53486"
      ],
      "text/latex": [
       "53486"
      ],
      "text/markdown": [
       "53486"
      ],
      "text/plain": [
       "[1] 53486"
      ]
     },
     "metadata": {},
     "output_type": "display_data"
    }
   ],
   "source": [
    "collect(count(icd9))\n",
    "icd9 %>% select(code) %>% collect %$% \n",
    "    as.icd9cm(code) %>% icd_is_valid %>% sum"
   ]
  },
  {
   "cell_type": "markdown",
   "metadata": {},
   "source": [
    "Use the code but get explanations from the `icd` package."
   ]
  },
  {
   "cell_type": "code",
   "execution_count": 12,
   "metadata": {
    "collapsed": true
   },
   "outputs": [],
   "source": [
    "# take the icd9 table\n",
    "icd.expl.tbl <- icd9 %>%\n",
    "    # We only need unique codes for now, but we need it local.\n",
    "    select(code) %>% distinct%>% collect %$%\n",
    "    # explain the icd9 codes present in our data. \n",
    "    icd_explain_table(as.icd9cm(code)) %>%\n",
    "    # store as a tbl, not a raw data.frame\n",
    "    tbl_df %>%\n",
    "    # and present icd9 codes with decimal point.\n",
    "    mutate(code = icd_short_to_decimal(code))"
   ]
  },
  {
   "cell_type": "code",
   "execution_count": 13,
   "metadata": {},
   "outputs": [
    {
     "data": {
      "text/html": [
       "<table>\n",
       "<thead><tr><th scope=col>code</th><th scope=col>short_desc</th><th scope=col>long_desc</th><th scope=col>three_digit</th><th scope=col>major</th><th scope=col>sub_chapter</th><th scope=col>chapter</th><th scope=col>is_major</th><th scope=col>valid_icd9</th><th scope=col>valid_icd10</th></tr></thead>\n",
       "<tbody>\n",
       "\t<tr><td>198.3                                                                               </td><td>Sec mal neo brain/spine                                                             </td><td>Secondary malignant neoplasm of brain and spinal cord                               </td><td>198                                                                                 </td><td>Secondary malignant neoplasm of other specified sites                               </td><td>Malignant Neoplasm Of Other And Unspecified Sites                                   </td><td>Neoplasms                                                                           </td><td>FALSE                                                                               </td><td>TRUE                                                                                </td><td>FALSE                                                                               </td></tr>\n",
       "\t<tr><td>162.8                                                                               </td><td>Mal neo bronch/lung NEC                                                             </td><td>Malignant neoplasm of other parts of bronchus or lung                               </td><td>162                                                                                 </td><td>Malignant neoplasm of trachea, bronchus, and lung                                   </td><td>Malignant Neoplasm Of Respiratory And Intrathoracic Organs                          </td><td>Neoplasms                                                                           </td><td>FALSE                                                                               </td><td>TRUE                                                                                </td><td>FALSE                                                                               </td></tr>\n",
       "\t<tr><td>531.40                                                                              </td><td>Chr stomach ulc w hem                                                               </td><td>Chronic or unspecified gastric ulcer with hemorrhage, without mention of obstruction</td><td>531                                                                                 </td><td>Gastric ulcer                                                                       </td><td>Diseases Of Esophagus, Stomach, And Duodenum                                        </td><td>Diseases Of The Digestive System                                                    </td><td>FALSE                                                                               </td><td>TRUE                                                                                </td><td>FALSE                                                                               </td></tr>\n",
       "\t<tr><td>276.1                                                                               </td><td>Hyposmolality                                                                       </td><td>Hyposmolality and/or hyponatremia                                                   </td><td>276                                                                                 </td><td>Disorders of fluid, electrolyte, and acid-base balance                              </td><td>Other Metabolic And Immunity Disorders                                              </td><td>Endocrine, Nutritional And Metabolic Diseases, And Immunity Disorders               </td><td>FALSE                                                                               </td><td>TRUE                                                                                </td><td> TRUE                                                                               </td></tr>\n",
       "\t<tr><td>428.0                                                                               </td><td>CHF NOS                                                                             </td><td>Congestive heart failure, unspecified                                               </td><td>428                                                                                 </td><td>Heart failure                                                                       </td><td>Other Forms Of Heart Disease                                                        </td><td>Diseases Of The Circulatory System                                                  </td><td>FALSE                                                                               </td><td>TRUE                                                                                </td><td> TRUE                                                                               </td></tr>\n",
       "\t<tr><td>780.39                                                                              </td><td>Convulsions NEC                                                                     </td><td>Other convulsions                                                                   </td><td>780                                                                                 </td><td>General symptoms                                                                    </td><td>Symptoms                                                                            </td><td>Symptoms, Signs, And Ill-Defined Conditions                                         </td><td>FALSE                                                                               </td><td>TRUE                                                                                </td><td>FALSE                                                                               </td></tr>\n",
       "</tbody>\n",
       "</table>\n"
      ],
      "text/latex": [
       "\\begin{tabular}{r|llllllllll}\n",
       " code & short\\_desc & long\\_desc & three\\_digit & major & sub\\_chapter & chapter & is\\_major & valid\\_icd9 & valid\\_icd10\\\\\n",
       "\\hline\n",
       "\t 198.3                                                                                & Sec mal neo brain/spine                                                              & Secondary malignant neoplasm of brain and spinal cord                                & 198                                                                                  & Secondary malignant neoplasm of other specified sites                                & Malignant Neoplasm Of Other And Unspecified Sites                                    & Neoplasms                                                                            & FALSE                                                                                & TRUE                                                                                 & FALSE                                                                               \\\\\n",
       "\t 162.8                                                                                & Mal neo bronch/lung NEC                                                              & Malignant neoplasm of other parts of bronchus or lung                                & 162                                                                                  & Malignant neoplasm of trachea, bronchus, and lung                                    & Malignant Neoplasm Of Respiratory And Intrathoracic Organs                           & Neoplasms                                                                            & FALSE                                                                                & TRUE                                                                                 & FALSE                                                                               \\\\\n",
       "\t 531.40                                                                               & Chr stomach ulc w hem                                                                & Chronic or unspecified gastric ulcer with hemorrhage, without mention of obstruction & 531                                                                                  & Gastric ulcer                                                                        & Diseases Of Esophagus, Stomach, And Duodenum                                         & Diseases Of The Digestive System                                                     & FALSE                                                                                & TRUE                                                                                 & FALSE                                                                               \\\\\n",
       "\t 276.1                                                                                & Hyposmolality                                                                        & Hyposmolality and/or hyponatremia                                                    & 276                                                                                  & Disorders of fluid, electrolyte, and acid-base balance                               & Other Metabolic And Immunity Disorders                                               & Endocrine, Nutritional And Metabolic Diseases, And Immunity Disorders                & FALSE                                                                                & TRUE                                                                                 &  TRUE                                                                               \\\\\n",
       "\t 428.0                                                                                & CHF NOS                                                                              & Congestive heart failure, unspecified                                                & 428                                                                                  & Heart failure                                                                        & Other Forms Of Heart Disease                                                         & Diseases Of The Circulatory System                                                   & FALSE                                                                                & TRUE                                                                                 &  TRUE                                                                               \\\\\n",
       "\t 780.39                                                                               & Convulsions NEC                                                                      & Other convulsions                                                                    & 780                                                                                  & General symptoms                                                                     & Symptoms                                                                             & Symptoms, Signs, And Ill-Defined Conditions                                          & FALSE                                                                                & TRUE                                                                                 & FALSE                                                                               \\\\\n",
       "\\end{tabular}\n"
      ],
      "text/markdown": [
       "\n",
       "code | short_desc | long_desc | three_digit | major | sub_chapter | chapter | is_major | valid_icd9 | valid_icd10 | \n",
       "|---|---|---|---|---|---|\n",
       "| 198.3                                                                                | Sec mal neo brain/spine                                                              | Secondary malignant neoplasm of brain and spinal cord                                | 198                                                                                  | Secondary malignant neoplasm of other specified sites                                | Malignant Neoplasm Of Other And Unspecified Sites                                    | Neoplasms                                                                            | FALSE                                                                                | TRUE                                                                                 | FALSE                                                                                | \n",
       "| 162.8                                                                                | Mal neo bronch/lung NEC                                                              | Malignant neoplasm of other parts of bronchus or lung                                | 162                                                                                  | Malignant neoplasm of trachea, bronchus, and lung                                    | Malignant Neoplasm Of Respiratory And Intrathoracic Organs                           | Neoplasms                                                                            | FALSE                                                                                | TRUE                                                                                 | FALSE                                                                                | \n",
       "| 531.40                                                                               | Chr stomach ulc w hem                                                                | Chronic or unspecified gastric ulcer with hemorrhage, without mention of obstruction | 531                                                                                  | Gastric ulcer                                                                        | Diseases Of Esophagus, Stomach, And Duodenum                                         | Diseases Of The Digestive System                                                     | FALSE                                                                                | TRUE                                                                                 | FALSE                                                                                | \n",
       "| 276.1                                                                                | Hyposmolality                                                                        | Hyposmolality and/or hyponatremia                                                    | 276                                                                                  | Disorders of fluid, electrolyte, and acid-base balance                               | Other Metabolic And Immunity Disorders                                               | Endocrine, Nutritional And Metabolic Diseases, And Immunity Disorders                | FALSE                                                                                | TRUE                                                                                 |  TRUE                                                                                | \n",
       "| 428.0                                                                                | CHF NOS                                                                              | Congestive heart failure, unspecified                                                | 428                                                                                  | Heart failure                                                                        | Other Forms Of Heart Disease                                                         | Diseases Of The Circulatory System                                                   | FALSE                                                                                | TRUE                                                                                 |  TRUE                                                                                | \n",
       "| 780.39                                                                               | Convulsions NEC                                                                      | Other convulsions                                                                    | 780                                                                                  | General symptoms                                                                     | Symptoms                                                                             | Symptoms, Signs, And Ill-Defined Conditions                                          | FALSE                                                                                | TRUE                                                                                 | FALSE                                                                                | \n",
       "\n",
       "\n"
      ],
      "text/plain": [
       "  code   short_desc             \n",
       "1 198.3  Sec mal neo brain/spine\n",
       "2 162.8  Mal neo bronch/lung NEC\n",
       "3 531.40 Chr stomach ulc w hem  \n",
       "4 276.1  Hyposmolality          \n",
       "5 428.0  CHF NOS                \n",
       "6 780.39 Convulsions NEC        \n",
       "  long_desc                                                                           \n",
       "1 Secondary malignant neoplasm of brain and spinal cord                               \n",
       "2 Malignant neoplasm of other parts of bronchus or lung                               \n",
       "3 Chronic or unspecified gastric ulcer with hemorrhage, without mention of obstruction\n",
       "4 Hyposmolality and/or hyponatremia                                                   \n",
       "5 Congestive heart failure, unspecified                                               \n",
       "6 Other convulsions                                                                   \n",
       "  three_digit major                                                 \n",
       "1 198         Secondary malignant neoplasm of other specified sites \n",
       "2 162         Malignant neoplasm of trachea, bronchus, and lung     \n",
       "3 531         Gastric ulcer                                         \n",
       "4 276         Disorders of fluid, electrolyte, and acid-base balance\n",
       "5 428         Heart failure                                         \n",
       "6 780         General symptoms                                      \n",
       "  sub_chapter                                               \n",
       "1 Malignant Neoplasm Of Other And Unspecified Sites         \n",
       "2 Malignant Neoplasm Of Respiratory And Intrathoracic Organs\n",
       "3 Diseases Of Esophagus, Stomach, And Duodenum              \n",
       "4 Other Metabolic And Immunity Disorders                    \n",
       "5 Other Forms Of Heart Disease                              \n",
       "6 Symptoms                                                  \n",
       "  chapter                                                              \n",
       "1 Neoplasms                                                            \n",
       "2 Neoplasms                                                            \n",
       "3 Diseases Of The Digestive System                                     \n",
       "4 Endocrine, Nutritional And Metabolic Diseases, And Immunity Disorders\n",
       "5 Diseases Of The Circulatory System                                   \n",
       "6 Symptoms, Signs, And Ill-Defined Conditions                          \n",
       "  is_major valid_icd9 valid_icd10\n",
       "1 FALSE    TRUE       FALSE      \n",
       "2 FALSE    TRUE       FALSE      \n",
       "3 FALSE    TRUE       FALSE      \n",
       "4 FALSE    TRUE        TRUE      \n",
       "5 FALSE    TRUE        TRUE      \n",
       "6 FALSE    TRUE       FALSE      "
      ]
     },
     "metadata": {},
     "output_type": "display_data"
    }
   ],
   "source": [
    "head(icd.expl.tbl)"
   ]
  },
  {
   "cell_type": "code",
   "execution_count": 14,
   "metadata": {},
   "outputs": [
    {
     "name": "stderr",
     "output_type": "stream",
     "text": [
      "Joining, by = \"code\"\n",
      "Warning message:\n",
      "“Column `code` has different attributes on LHS and RHS of join”"
     ]
    },
    {
     "data": {
      "text/html": [
       "<table>\n",
       "<thead><tr><th scope=col>Chapter</th><th scope=col>Codes</th><th scope=col>Subjects</th><th scope=col>Admissions</th></tr></thead>\n",
       "<tbody>\n",
       "\t<tr><td>Infectious And Parasitic Diseases                                                                 </td><td>124                                                                                               </td><td>1408                                                                                              </td><td>1644                                                                                              </td></tr>\n",
       "\t<tr><td>Neoplasms                                                                                         </td><td>217                                                                                               </td><td>1069                                                                                              </td><td>1227                                                                                              </td></tr>\n",
       "\t<tr><td>Endocrine, Nutritional And Metabolic Diseases, And Immunity Disorders                             </td><td>132                                                                                               </td><td>2726                                                                                              </td><td>3404                                                                                              </td></tr>\n",
       "\t<tr><td>Diseases Of The Blood And Blood-Forming Organs                                                    </td><td> 55                                                                                               </td><td>1585                                                                                              </td><td>1881                                                                                              </td></tr>\n",
       "\t<tr><td>Mental Disorders                                                                                  </td><td> 95                                                                                               </td><td> 901                                                                                              </td><td>1037                                                                                              </td></tr>\n",
       "\t<tr><td>Diseases Of The Nervous System And Sense Organs                                                   </td><td>177                                                                                               </td><td> 865                                                                                              </td><td>1021                                                                                              </td></tr>\n",
       "\t<tr><td>Diseases Of The Circulatory System                                                                </td><td>275                                                                                               </td><td>3466                                                                                              </td><td>4413                                                                                              </td></tr>\n",
       "\t<tr><td>Diseases Of The Respiratory System                                                                </td><td>108                                                                                               </td><td>2519                                                                                              </td><td>3055                                                                                              </td></tr>\n",
       "\t<tr><td>Diseases Of The Digestive System                                                                  </td><td>218                                                                                               </td><td>1589                                                                                              </td><td>1923                                                                                              </td></tr>\n",
       "\t<tr><td>Diseases Of The Genitourinary System                                                              </td><td> 96                                                                                               </td><td>2011                                                                                              </td><td>2431                                                                                              </td></tr>\n",
       "\t<tr><td>Complications Of Pregnancy, Childbirth, And The Puerperium                                        </td><td> 10                                                                                               </td><td>   3                                                                                              </td><td>   3                                                                                              </td></tr>\n",
       "\t<tr><td>Diseases Of The Skin And Subcutaneous Tissue                                                      </td><td> 54                                                                                               </td><td> 558                                                                                              </td><td> 672                                                                                              </td></tr>\n",
       "\t<tr><td>Diseases Of The Musculoskeletal System And Connective Tissue                                      </td><td>132                                                                                               </td><td> 537                                                                                              </td><td> 611                                                                                              </td></tr>\n",
       "\t<tr><td>Congenital Anomalies                                                                              </td><td> 53                                                                                               </td><td>  93                                                                                              </td><td> 106                                                                                              </td></tr>\n",
       "\t<tr><td>Certain Conditions Originating In The Perinatal Period                                            </td><td> 59                                                                                               </td><td>  27                                                                                              </td><td>  28                                                                                              </td></tr>\n",
       "\t<tr><td>Symptoms, Signs, And Ill-Defined Conditions                                                       </td><td>123                                                                                               </td><td>1569                                                                                              </td><td>1774                                                                                              </td></tr>\n",
       "\t<tr><td>Injury And Poisoning                                                                              </td><td>449                                                                                               </td><td>1900                                                                                              </td><td>2174                                                                                              </td></tr>\n",
       "\t<tr><td>Supplementary Classification Of Factors Influencing Health Status And Contact With Health Services</td><td>189                                                                                               </td><td>1765                                                                                              </td><td>2131                                                                                              </td></tr>\n",
       "\t<tr><td>Supplementary Classification Of External Causes Of Injury And Poisoning                           </td><td>153                                                                                               </td><td> 933                                                                                              </td><td> 996                                                                                              </td></tr>\n",
       "</tbody>\n",
       "</table>\n"
      ],
      "text/latex": [
       "\\begin{tabular}{r|llll}\n",
       " Chapter & Codes & Subjects & Admissions\\\\\n",
       "\\hline\n",
       "\t Infectious And Parasitic Diseases                                                                  & 124                                                                                                & 1408                                                                                               & 1644                                                                                              \\\\\n",
       "\t Neoplasms                                                                                          & 217                                                                                                & 1069                                                                                               & 1227                                                                                              \\\\\n",
       "\t Endocrine, Nutritional And Metabolic Diseases, And Immunity Disorders                              & 132                                                                                                & 2726                                                                                               & 3404                                                                                              \\\\\n",
       "\t Diseases Of The Blood And Blood-Forming Organs                                                     &  55                                                                                                & 1585                                                                                               & 1881                                                                                              \\\\\n",
       "\t Mental Disorders                                                                                   &  95                                                                                                &  901                                                                                               & 1037                                                                                              \\\\\n",
       "\t Diseases Of The Nervous System And Sense Organs                                                    & 177                                                                                                &  865                                                                                               & 1021                                                                                              \\\\\n",
       "\t Diseases Of The Circulatory System                                                                 & 275                                                                                                & 3466                                                                                               & 4413                                                                                              \\\\\n",
       "\t Diseases Of The Respiratory System                                                                 & 108                                                                                                & 2519                                                                                               & 3055                                                                                              \\\\\n",
       "\t Diseases Of The Digestive System                                                                   & 218                                                                                                & 1589                                                                                               & 1923                                                                                              \\\\\n",
       "\t Diseases Of The Genitourinary System                                                               &  96                                                                                                & 2011                                                                                               & 2431                                                                                              \\\\\n",
       "\t Complications Of Pregnancy, Childbirth, And The Puerperium                                         &  10                                                                                                &    3                                                                                               &    3                                                                                              \\\\\n",
       "\t Diseases Of The Skin And Subcutaneous Tissue                                                       &  54                                                                                                &  558                                                                                               &  672                                                                                              \\\\\n",
       "\t Diseases Of The Musculoskeletal System And Connective Tissue                                       & 132                                                                                                &  537                                                                                               &  611                                                                                              \\\\\n",
       "\t Congenital Anomalies                                                                               &  53                                                                                                &   93                                                                                               &  106                                                                                              \\\\\n",
       "\t Certain Conditions Originating In The Perinatal Period                                             &  59                                                                                                &   27                                                                                               &   28                                                                                              \\\\\n",
       "\t Symptoms, Signs, And Ill-Defined Conditions                                                        & 123                                                                                                & 1569                                                                                               & 1774                                                                                              \\\\\n",
       "\t Injury And Poisoning                                                                               & 449                                                                                                & 1900                                                                                               & 2174                                                                                              \\\\\n",
       "\t Supplementary Classification Of Factors Influencing Health Status And Contact With Health Services & 189                                                                                                & 1765                                                                                               & 2131                                                                                              \\\\\n",
       "\t Supplementary Classification Of External Causes Of Injury And Poisoning                            & 153                                                                                                &  933                                                                                               &  996                                                                                              \\\\\n",
       "\\end{tabular}\n"
      ],
      "text/markdown": [
       "\n",
       "Chapter | Codes | Subjects | Admissions | \n",
       "|---|---|---|---|---|---|---|---|---|---|---|---|---|---|---|---|---|---|---|\n",
       "| Infectious And Parasitic Diseases                                                                  | 124                                                                                                | 1408                                                                                               | 1644                                                                                               | \n",
       "| Neoplasms                                                                                          | 217                                                                                                | 1069                                                                                               | 1227                                                                                               | \n",
       "| Endocrine, Nutritional And Metabolic Diseases, And Immunity Disorders                              | 132                                                                                                | 2726                                                                                               | 3404                                                                                               | \n",
       "| Diseases Of The Blood And Blood-Forming Organs                                                     |  55                                                                                                | 1585                                                                                               | 1881                                                                                               | \n",
       "| Mental Disorders                                                                                   |  95                                                                                                |  901                                                                                               | 1037                                                                                               | \n",
       "| Diseases Of The Nervous System And Sense Organs                                                    | 177                                                                                                |  865                                                                                               | 1021                                                                                               | \n",
       "| Diseases Of The Circulatory System                                                                 | 275                                                                                                | 3466                                                                                               | 4413                                                                                               | \n",
       "| Diseases Of The Respiratory System                                                                 | 108                                                                                                | 2519                                                                                               | 3055                                                                                               | \n",
       "| Diseases Of The Digestive System                                                                   | 218                                                                                                | 1589                                                                                               | 1923                                                                                               | \n",
       "| Diseases Of The Genitourinary System                                                               |  96                                                                                                | 2011                                                                                               | 2431                                                                                               | \n",
       "| Complications Of Pregnancy, Childbirth, And The Puerperium                                         |  10                                                                                                |    3                                                                                               |    3                                                                                               | \n",
       "| Diseases Of The Skin And Subcutaneous Tissue                                                       |  54                                                                                                |  558                                                                                               |  672                                                                                               | \n",
       "| Diseases Of The Musculoskeletal System And Connective Tissue                                       | 132                                                                                                |  537                                                                                               |  611                                                                                               | \n",
       "| Congenital Anomalies                                                                               |  53                                                                                                |   93                                                                                               |  106                                                                                               | \n",
       "| Certain Conditions Originating In The Perinatal Period                                             |  59                                                                                                |   27                                                                                               |   28                                                                                               | \n",
       "| Symptoms, Signs, And Ill-Defined Conditions                                                        | 123                                                                                                | 1569                                                                                               | 1774                                                                                               | \n",
       "| Injury And Poisoning                                                                               | 449                                                                                                | 1900                                                                                               | 2174                                                                                               | \n",
       "| Supplementary Classification Of Factors Influencing Health Status And Contact With Health Services | 189                                                                                                | 1765                                                                                               | 2131                                                                                               | \n",
       "| Supplementary Classification Of External Causes Of Injury And Poisoning                            | 153                                                                                                |  933                                                                                               |  996                                                                                               | \n",
       "\n",
       "\n"
      ],
      "text/plain": [
       "   Chapter                                                                                           \n",
       "1  Infectious And Parasitic Diseases                                                                 \n",
       "2  Neoplasms                                                                                         \n",
       "3  Endocrine, Nutritional And Metabolic Diseases, And Immunity Disorders                             \n",
       "4  Diseases Of The Blood And Blood-Forming Organs                                                    \n",
       "5  Mental Disorders                                                                                  \n",
       "6  Diseases Of The Nervous System And Sense Organs                                                   \n",
       "7  Diseases Of The Circulatory System                                                                \n",
       "8  Diseases Of The Respiratory System                                                                \n",
       "9  Diseases Of The Digestive System                                                                  \n",
       "10 Diseases Of The Genitourinary System                                                              \n",
       "11 Complications Of Pregnancy, Childbirth, And The Puerperium                                        \n",
       "12 Diseases Of The Skin And Subcutaneous Tissue                                                      \n",
       "13 Diseases Of The Musculoskeletal System And Connective Tissue                                      \n",
       "14 Congenital Anomalies                                                                              \n",
       "15 Certain Conditions Originating In The Perinatal Period                                            \n",
       "16 Symptoms, Signs, And Ill-Defined Conditions                                                       \n",
       "17 Injury And Poisoning                                                                              \n",
       "18 Supplementary Classification Of Factors Influencing Health Status And Contact With Health Services\n",
       "19 Supplementary Classification Of External Causes Of Injury And Poisoning                           \n",
       "   Codes Subjects Admissions\n",
       "1  124   1408     1644      \n",
       "2  217   1069     1227      \n",
       "3  132   2726     3404      \n",
       "4   55   1585     1881      \n",
       "5   95    901     1037      \n",
       "6  177    865     1021      \n",
       "7  275   3466     4413      \n",
       "8  108   2519     3055      \n",
       "9  218   1589     1923      \n",
       "10  96   2011     2431      \n",
       "11  10      3        3      \n",
       "12  54    558      672      \n",
       "13 132    537      611      \n",
       "14  53     93      106      \n",
       "15  59     27       28      \n",
       "16 123   1569     1774      \n",
       "17 449   1900     2174      \n",
       "18 189   1765     2131      \n",
       "19 153    933      996      "
      ]
     },
     "metadata": {},
     "output_type": "display_data"
    }
   ],
   "source": [
    "icd9 %>% collect %>%\n",
    "    mutate(code = as.icd9cm(code)) %>%\n",
    "    left_join(icd.expl.tbl) %>% \n",
    "    group_by(Chapter = chapter) %>%\n",
    "    summarise( Codes      = length(unique(code))\n",
    "             , Subjects   = length(unique(subject_id))\n",
    "             , Admissions = length(unique(hadm_id))\n",
    "             )"
   ]
  },
  {
   "cell_type": "markdown",
   "metadata": {},
   "source": [
    "Now we do the naive thing.\n",
    "\n",
    "We group icd-9 codes by *chapter* and agregate to the hospital admission.\n",
    "\n",
    "But first, let's make the chapter easier to read.  Some of those chapter titles are *long*."
   ]
  },
  {
   "cell_type": "code",
   "execution_count": 15,
   "metadata": {
    "collapsed": true
   },
   "outputs": [],
   "source": [
    "abrv_chapter <- . %>% \n",
    "fct_recode( 'Infectious and Parasitic'      = 'Infectious And Parasitic Diseases'\n",
    "          , 'Neoplasms'                     = 'Neoplasms'\n",
    "          , 'Metabolic and Immunity'        = 'Endocrine, Nutritional And Metabolic Diseases, And Immunity Disorders'\n",
    "          , 'Blood and Blood-Forming Organs'= 'Diseases Of The Blood And Blood-Forming Organs'\n",
    "          , 'Mental Disorders'              = 'Mental Disorders'\n",
    "          , 'Nervous and Sense Organs'      = 'Diseases Of The Nervous System And Sense Organs'\n",
    "          , 'Circulatory System'            = 'Diseases Of The Circulatory System'\n",
    "          , 'Respiratory System'            = 'Diseases Of The Respiratory System'\n",
    "          , 'Digestive System'              = 'Diseases Of The Digestive System'\n",
    "          , 'Genitourinary System'          = 'Diseases Of The Genitourinary System'\n",
    "          , 'Pregnancy and Childbirth'      = 'Complications Of Pregnancy, Childbirth, And The Puerperium'\n",
    "          , 'Skin and Subcutaneous Tissue'  = 'Diseases Of The Skin And Subcutaneous Tissue'\n",
    "          , 'Musculoskeletal and Connective'= 'Diseases Of The Musculoskeletal System And Connective Tissue'\n",
    "          , 'Congenital Anomalies'          = 'Congenital Anomalies'\n",
    "          , 'Cond. Orig. Perinatal Period'  = 'Certain Conditions Originating In The Perinatal Period'\n",
    "          , 'Symptoms and Signs'            = 'Symptoms, Signs, And Ill-Defined Conditions'\n",
    "          , 'Injury and Poisoning'          = 'Injury And Poisoning'\n",
    "          , 'Supp - Factors and Contact'    = 'Supplementary Classification Of Factors Influencing Health Status And Contact With Health Services'\n",
    "          , 'Supp - External Causes'        = 'Supplementary Classification Of External Causes Of Injury And Poisoning'\n",
    "          )"
   ]
  },
  {
   "cell_type": "code",
   "execution_count": 16,
   "metadata": {},
   "outputs": [
    {
     "name": "stderr",
     "output_type": "stream",
     "text": [
      "Joining, by = \"code\"\n",
      "Warning message:\n",
      "“Column `code` has different attributes on LHS and RHS of join”"
     ]
    },
    {
     "data": {
      "text/html": [
       "<table>\n",
       "<thead><tr><th scope=col>subject_id</th><th scope=col>hadm_id</th><th scope=col>Infectious and Parasitic</th><th scope=col>Neoplasms</th><th scope=col>Metabolic and Immunity</th><th scope=col>Blood and Blood-Forming Organs</th><th scope=col>Mental Disorders</th><th scope=col>Nervous and Sense Organs</th><th scope=col>Circulatory System</th><th scope=col>Respiratory System</th><th scope=col>⋯</th><th scope=col>Genitourinary System</th><th scope=col>Pregnancy and Childbirth</th><th scope=col>Skin and Subcutaneous Tissue</th><th scope=col>Musculoskeletal and Connective</th><th scope=col>Congenital Anomalies</th><th scope=col>Cond. Orig. Perinatal Period</th><th scope=col>Symptoms and Signs</th><th scope=col>Injury and Poisoning</th><th scope=col>Supp - Factors and Contact</th><th scope=col>Supp - External Causes</th></tr></thead>\n",
       "<tbody>\n",
       "\t<tr><td> 3   </td><td> 2075</td><td>1    </td><td>0    </td><td>1    </td><td>0    </td><td>0    </td><td>0    </td><td>4    </td><td>0    </td><td>⋯    </td><td>1    </td><td>0    </td><td>1    </td><td>0    </td><td>0    </td><td>0    </td><td>1    </td><td>0    </td><td>0    </td><td>0    </td></tr>\n",
       "\t<tr><td>12   </td><td>12532</td><td>0    </td><td>1    </td><td>0    </td><td>0    </td><td>0    </td><td>0    </td><td>2    </td><td>0    </td><td>⋯    </td><td>0    </td><td>0    </td><td>0    </td><td>0    </td><td>0    </td><td>0    </td><td>0    </td><td>2    </td><td>0    </td><td>1    </td></tr>\n",
       "\t<tr><td>21   </td><td>20666</td><td>1    </td><td>0    </td><td>3    </td><td>1    </td><td>0    </td><td>0    </td><td>8    </td><td>1    </td><td>⋯    </td><td>1    </td><td>0    </td><td>0    </td><td>0    </td><td>0    </td><td>0    </td><td>1    </td><td>0    </td><td>1    </td><td>0    </td></tr>\n",
       "\t<tr><td>21   </td><td>20882</td><td>2    </td><td>1    </td><td>3    </td><td>1    </td><td>0    </td><td>0    </td><td>5    </td><td>1    </td><td>⋯    </td><td>0    </td><td>0    </td><td>2    </td><td>0    </td><td>0    </td><td>0    </td><td>1    </td><td>2    </td><td>1    </td><td>1    </td></tr>\n",
       "\t<tr><td>26   </td><td>15067</td><td>0    </td><td>0    </td><td>1    </td><td>0    </td><td>0    </td><td>0    </td><td>5    </td><td>0    </td><td>⋯    </td><td>2    </td><td>0    </td><td>0    </td><td>0    </td><td>0    </td><td>0    </td><td>0    </td><td>1    </td><td>0    </td><td>0    </td></tr>\n",
       "\t<tr><td>31   </td><td>15325</td><td>0    </td><td>1    </td><td>0    </td><td>0    </td><td>0    </td><td>2    </td><td>2    </td><td>2    </td><td>⋯    </td><td>0    </td><td>0    </td><td>0    </td><td>0    </td><td>0    </td><td>0    </td><td>0    </td><td>0    </td><td>0    </td><td>1    </td></tr>\n",
       "</tbody>\n",
       "</table>\n"
      ],
      "text/latex": [
       "\\begin{tabular}{r|lllllllllllllllllllll}\n",
       " subject\\_id & hadm\\_id & Infectious and Parasitic & Neoplasms & Metabolic and Immunity & Blood and Blood-Forming Organs & Mental Disorders & Nervous and Sense Organs & Circulatory System & Respiratory System & ⋯ & Genitourinary System & Pregnancy and Childbirth & Skin and Subcutaneous Tissue & Musculoskeletal and Connective & Congenital Anomalies & Cond. Orig. Perinatal Period & Symptoms and Signs & Injury and Poisoning & Supp - Factors and Contact & Supp - External Causes\\\\\n",
       "\\hline\n",
       "\t  3    &  2075 & 1     & 0     & 1     & 0     & 0     & 0     & 4     & 0     & ⋯     & 1     & 0     & 1     & 0     & 0     & 0     & 1     & 0     & 0     & 0    \\\\\n",
       "\t 12    & 12532 & 0     & 1     & 0     & 0     & 0     & 0     & 2     & 0     & ⋯     & 0     & 0     & 0     & 0     & 0     & 0     & 0     & 2     & 0     & 1    \\\\\n",
       "\t 21    & 20666 & 1     & 0     & 3     & 1     & 0     & 0     & 8     & 1     & ⋯     & 1     & 0     & 0     & 0     & 0     & 0     & 1     & 0     & 1     & 0    \\\\\n",
       "\t 21    & 20882 & 2     & 1     & 3     & 1     & 0     & 0     & 5     & 1     & ⋯     & 0     & 0     & 2     & 0     & 0     & 0     & 1     & 2     & 1     & 1    \\\\\n",
       "\t 26    & 15067 & 0     & 0     & 1     & 0     & 0     & 0     & 5     & 0     & ⋯     & 2     & 0     & 0     & 0     & 0     & 0     & 0     & 1     & 0     & 0    \\\\\n",
       "\t 31    & 15325 & 0     & 1     & 0     & 0     & 0     & 2     & 2     & 2     & ⋯     & 0     & 0     & 0     & 0     & 0     & 0     & 0     & 0     & 0     & 1    \\\\\n",
       "\\end{tabular}\n"
      ],
      "text/markdown": [
       "\n",
       "subject_id | hadm_id | Infectious and Parasitic | Neoplasms | Metabolic and Immunity | Blood and Blood-Forming Organs | Mental Disorders | Nervous and Sense Organs | Circulatory System | Respiratory System | ⋯ | Genitourinary System | Pregnancy and Childbirth | Skin and Subcutaneous Tissue | Musculoskeletal and Connective | Congenital Anomalies | Cond. Orig. Perinatal Period | Symptoms and Signs | Injury and Poisoning | Supp - Factors and Contact | Supp - External Causes | \n",
       "|---|---|---|---|---|---|\n",
       "|  3    |  2075 | 1     | 0     | 1     | 0     | 0     | 0     | 4     | 0     | ⋯     | 1     | 0     | 1     | 0     | 0     | 0     | 1     | 0     | 0     | 0     | \n",
       "| 12    | 12532 | 0     | 1     | 0     | 0     | 0     | 0     | 2     | 0     | ⋯     | 0     | 0     | 0     | 0     | 0     | 0     | 0     | 2     | 0     | 1     | \n",
       "| 21    | 20666 | 1     | 0     | 3     | 1     | 0     | 0     | 8     | 1     | ⋯     | 1     | 0     | 0     | 0     | 0     | 0     | 1     | 0     | 1     | 0     | \n",
       "| 21    | 20882 | 2     | 1     | 3     | 1     | 0     | 0     | 5     | 1     | ⋯     | 0     | 0     | 2     | 0     | 0     | 0     | 1     | 2     | 1     | 1     | \n",
       "| 26    | 15067 | 0     | 0     | 1     | 0     | 0     | 0     | 5     | 0     | ⋯     | 2     | 0     | 0     | 0     | 0     | 0     | 0     | 1     | 0     | 0     | \n",
       "| 31    | 15325 | 0     | 1     | 0     | 0     | 0     | 2     | 2     | 2     | ⋯     | 0     | 0     | 0     | 0     | 0     | 0     | 0     | 0     | 0     | 1     | \n",
       "\n",
       "\n"
      ],
      "text/plain": [
       "  subject_id hadm_id Infectious and Parasitic Neoplasms Metabolic and Immunity\n",
       "1  3          2075   1                        0         1                     \n",
       "2 12         12532   0                        1         0                     \n",
       "3 21         20666   1                        0         3                     \n",
       "4 21         20882   2                        1         3                     \n",
       "5 26         15067   0                        0         1                     \n",
       "6 31         15325   0                        1         0                     \n",
       "  Blood and Blood-Forming Organs Mental Disorders Nervous and Sense Organs\n",
       "1 0                              0                0                       \n",
       "2 0                              0                0                       \n",
       "3 1                              0                0                       \n",
       "4 1                              0                0                       \n",
       "5 0                              0                0                       \n",
       "6 0                              0                2                       \n",
       "  Circulatory System Respiratory System ⋯ Genitourinary System\n",
       "1 4                  0                  ⋯ 1                   \n",
       "2 2                  0                  ⋯ 0                   \n",
       "3 8                  1                  ⋯ 1                   \n",
       "4 5                  1                  ⋯ 0                   \n",
       "5 5                  0                  ⋯ 2                   \n",
       "6 2                  2                  ⋯ 0                   \n",
       "  Pregnancy and Childbirth Skin and Subcutaneous Tissue\n",
       "1 0                        1                           \n",
       "2 0                        0                           \n",
       "3 0                        0                           \n",
       "4 0                        2                           \n",
       "5 0                        0                           \n",
       "6 0                        0                           \n",
       "  Musculoskeletal and Connective Congenital Anomalies\n",
       "1 0                              0                   \n",
       "2 0                              0                   \n",
       "3 0                              0                   \n",
       "4 0                              0                   \n",
       "5 0                              0                   \n",
       "6 0                              0                   \n",
       "  Cond. Orig. Perinatal Period Symptoms and Signs Injury and Poisoning\n",
       "1 0                            1                  0                   \n",
       "2 0                            0                  2                   \n",
       "3 0                            1                  0                   \n",
       "4 0                            1                  2                   \n",
       "5 0                            0                  1                   \n",
       "6 0                            0                  0                   \n",
       "  Supp - Factors and Contact Supp - External Causes\n",
       "1 0                          0                     \n",
       "2 0                          1                     \n",
       "3 1                          0                     \n",
       "4 1                          1                     \n",
       "5 0                          0                     \n",
       "6 0                          1                     "
      ]
     },
     "metadata": {},
     "output_type": "display_data"
    }
   ],
   "source": [
    "admit.icd9 <- \n",
    "    # Start with icd9 table, bring it local.\n",
    "    icd9 %>% collect %>%\n",
    "    \n",
    "    # Join it to our icd9.expl.tbl to get chapter\n",
    "    left_join(icd.expl.tbl) %>%\n",
    "    \n",
    "    # count the number of icd9 codes in each \n",
    "    # chapter, subject_id, and hadm_id\n",
    "    count(subject_id, hadm_id, chapter) %>% \n",
    "    \n",
    "    # Abbreviate the chapter\n",
    "    mutate(chapter = abrv_chapter(chapter)) %>%\n",
    "    \n",
    "    # now spread out the data so that it is one row per admission.\n",
    "    # it is important to specify fill=0 to fill in the missing\n",
    "    # values as zero.\n",
    "    spread(chapter, n, fill=0)\n",
    "\n",
    "head(admit.icd9)"
   ]
  },
  {
   "cell_type": "markdown",
   "metadata": {},
   "source": [
    "### Combine all the table together\n",
    "We eventually need a single flat table that is one row per admission to use in the prediction models."
   ]
  },
  {
   "cell_type": "code",
   "execution_count": 17,
   "metadata": {
    "scrolled": true
   },
   "outputs": [
    {
     "name": "stderr",
     "output_type": "stream",
     "text": [
      "Joining, by = \"hadm_id\"\n",
      "Joining, by = c(\"subject_id\", \"hadm_id\")\n"
     ]
    },
    {
     "name": "stdout",
     "output_type": "stream",
     "text": [
      "Observations: 5,032\n",
      "Variables: 32\n",
      "$ subject_id                     <int> 3, 12, 21, 21, 26, 31, 37, 56, 61, 6...\n",
      "$ sex                            <chr> \"M\", \"M\", \"M\", \"M\", \"M\", \"M\", \"M\", \"...\n",
      "$ hadm_id                        <int> 2075, 12532, 20666, 20882, 15067, 15...\n",
      "$ admit_los                      <dbl> 11, 13, 13, 9, 7, 8, 5, 6, 33, 30, 0...\n",
      "$ age_at_discharge               <dbl> 76.60548, 72.45479, 87.53151, 87.906...\n",
      "$ time.since.last.disch          <dbl> 27950, 26433, 31936, 128, 26299, 263...\n",
      "$ readmission.wi.30days          <lgl> FALSE, FALSE, FALSE, FALSE, FALSE, F...\n",
      "$ readmission.wi.90days          <lgl> FALSE, FALSE, FALSE, FALSE, FALSE, F...\n",
      "$ readmission.wi.1year           <lgl> FALSE, FALSE, FALSE, TRUE, FALSE, FA...\n",
      "$ has.readmit.wi.90days          <lgl> FALSE, FALSE, FALSE, FALSE, FALSE, F...\n",
      "$ has_icu                        <lgl> TRUE, TRUE, TRUE, TRUE, TRUE, TRUE, ...\n",
      "$ n_icu                          <int> 1, 1, 1, 1, 1, 1, 1, 1, 1, 2, 0, 1, ...\n",
      "$ icu_minutes                    <dbl> 8733, 10994, 8499, 12046, 3565, 1143...\n",
      "$ Infectious and Parasitic       <dbl> 1, 0, 1, 2, 0, 0, 0, 0, 0, 3, 0, 2, ...\n",
      "$ Neoplasms                      <dbl> 0, 1, 0, 1, 0, 1, 0, 2, 1, 1, 0, 0, ...\n",
      "$ Metabolic and Immunity         <dbl> 1, 0, 3, 3, 1, 0, 1, 2, 1, 4, 1, 0, ...\n",
      "$ Blood and Blood-Forming Organs <dbl> 0, 0, 1, 1, 0, 0, 1, 0, 3, 1, 0, 1, ...\n",
      "$ Mental Disorders               <dbl> 0, 0, 0, 0, 0, 0, 0, 0, 0, 0, 2, 1, ...\n",
      "$ Nervous and Sense Organs       <dbl> 0, 0, 0, 0, 0, 2, 0, 0, 0, 1, 0, 0, ...\n",
      "$ Circulatory System             <dbl> 4, 2, 8, 5, 5, 2, 4, 2, 0, 2, 2, 0, ...\n",
      "$ Respiratory System             <dbl> 0, 0, 1, 1, 0, 2, 2, 0, 0, 0, 0, 0, ...\n",
      "$ Digestive System               <dbl> 0, 3, 1, 1, 0, 0, 1, 1, 2, 2, 0, 1, ...\n",
      "$ Genitourinary System           <dbl> 1, 0, 1, 0, 2, 0, 0, 0, 0, 0, 0, 0, ...\n",
      "$ Pregnancy and Childbirth       <dbl> 0, 0, 0, 0, 0, 0, 0, 0, 0, 0, 0, 0, ...\n",
      "$ Skin and Subcutaneous Tissue   <dbl> 1, 0, 0, 2, 0, 0, 0, 0, 1, 0, 0, 0, ...\n",
      "$ Musculoskeletal and Connective <dbl> 0, 0, 0, 0, 0, 0, 0, 0, 0, 0, 0, 0, ...\n",
      "$ Congenital Anomalies           <dbl> 0, 0, 0, 0, 0, 0, 0, 0, 0, 0, 0, 0, ...\n",
      "$ Cond. Orig. Perinatal Period   <dbl> 0, 0, 0, 0, 0, 0, 0, 0, 0, 0, 0, 0, ...\n",
      "$ Symptoms and Signs             <dbl> 1, 0, 1, 1, 0, 0, 0, 1, 0, 1, 0, 0, ...\n",
      "$ Injury and Poisoning           <dbl> 0, 2, 0, 2, 1, 0, 0, 0, 1, 2, 0, 2, ...\n",
      "$ Supp - Factors and Contact     <dbl> 0, 0, 1, 1, 0, 0, 0, 0, 0, 0, 0, 0, ...\n",
      "$ Supp - External Causes         <dbl> 0, 1, 0, 1, 0, 1, 0, 0, 0, 0, 0, 2, ...\n"
     ]
    },
    {
     "data": {
      "text/html": [
       "<table>\n",
       "<thead><tr><th scope=col>n</th></tr></thead>\n",
       "<tbody>\n",
       "\t<tr><td>0</td></tr>\n",
       "</tbody>\n",
       "</table>\n"
      ],
      "text/latex": [
       "\\begin{tabular}{r|l}\n",
       " n\\\\\n",
       "\\hline\n",
       "\t 0\\\\\n",
       "\\end{tabular}\n"
      ],
      "text/markdown": [
       "\n",
       "n | \n",
       "|---|\n",
       "| 0 | \n",
       "\n",
       "\n"
      ],
      "text/plain": [
       "  n\n",
       "1 0"
      ]
     },
     "metadata": {},
     "output_type": "display_data"
    }
   ],
   "source": [
    "admit.data <- \n",
    "    admissions.tbl %>% \n",
    "    left_join(admit.icu) %>%\n",
    "    left_join(admit.icd9) %>%\n",
    "    # We need to restrict to our defined population.\n",
    "    filter(interval(dob, admit_dt)/dyears(1) > 12) %>%\n",
    "    # Some final adjustments\n",
    "    select( -dod, -hospital_expire_flg   #< not available at time of discharge.\n",
    "          , -dob, -admit_dt, -disch_dt   #< because it's not relevant between patients.  \n",
    "          ) %>% \n",
    "    # Some special cleanup from joins\n",
    "    # From ICU\n",
    "        # coalesce replaces the missing values\n",
    "        mutate( has_icu     = coalesce(has_icu, FALSE)\n",
    "              ,   n_icu     = coalesce(n_icu, 0L)\n",
    "              , icu_minutes = coalesce(icu_minutes, 0)\n",
    "              ) %>%\n",
    "    # From ICD-9 Code Chapters\n",
    "        mutate_at( vars(`Infectious and Parasitic`:`Supp - External Causes`)\n",
    "                 , coalesce, 0\n",
    "                 ) %>%\n",
    "    # And no guesses for Sex so we will drop those\n",
    "        filter(!is.na(sex))\n",
    "      \n",
    "# check to see if we handled all the missing values.\n",
    "glimpse(admit.data)\n",
    "summarise_all(admit.data, . %>% is.na %>% sum) %>% \n",
    "    gather(Variable, Missing) %>% \n",
    "    filter(Missing > 0) %>%\n",
    "    count()\n"
   ]
  },
  {
   "cell_type": "markdown",
   "metadata": {},
   "source": [
    "# Fitting Models\n",
    "\n",
    "## Train/Test/Validation Split\n",
    "\n",
    "The first thing for any machine learning predictive model is to split the available data into a testing and training sets.  Also for many models it is good practice to use a validation set for the final performance metrics if you plan on itterating using the test data.\n",
    "\n",
    "We have 5,061 patients that we will split 60, 20, 20 to train, test, validataion.\n",
    "\n",
    "**Note:**  \n",
    "When doing randomization it is a good idea to set the RNG seed to make the sampling reproducible.  Alternatively one can save the stored sets, however this has the disadvantage of causing complications if the sampled data changes in any way, for example, adding variables. "
   ]
  },
  {
   "cell_type": "code",
   "execution_count": 18,
   "metadata": {},
   "outputs": [
    {
     "name": "stderr",
     "output_type": "stream",
     "text": [
      "Joining, by = c(\"subject_id\", \"sex\", \"hadm_id\", \"admit_los\", \"age_at_discharge\", \"time.since.last.disch\", \"readmission.wi.30days\", \"readmission.wi.90days\", \"readmission.wi.1year\", \"has.readmit.wi.90days\", \"has_icu\", \"n_icu\", \"icu_minutes\", \"Infectious and Parasitic\", \"Neoplasms\", \"Metabolic and Immunity\", \"Blood and Blood-Forming Organs\", \"Mental Disorders\", \"Nervous and Sense Organs\", \"Circulatory System\", \"Respiratory System\", \"Digestive System\", \"Genitourinary System\", \"Pregnancy and Childbirth\", \"Skin and Subcutaneous Tissue\", \"Musculoskeletal and Connective\", \"Congenital Anomalies\", \"Cond. Orig. Perinatal Period\", \"Symptoms and Signs\", \"Injury and Poisoning\", \"Supp - Factors and Contact\", \"Supp - External Causes\")\n",
      "Joining, by = c(\"subject_id\", \"sex\", \"hadm_id\", \"admit_los\", \"age_at_discharge\", \"time.since.last.disch\", \"readmission.wi.30days\", \"readmission.wi.90days\", \"readmission.wi.1year\", \"has.readmit.wi.90days\", \"has_icu\", \"n_icu\", \"icu_minutes\", \"Infectious and Parasitic\", \"Neoplasms\", \"Metabolic and Immunity\", \"Blood and Blood-Forming Organs\", \"Mental Disorders\", \"Nervous and Sense Organs\", \"Circulatory System\", \"Respiratory System\", \"Digestive System\", \"Genitourinary System\", \"Pregnancy and Childbirth\", \"Skin and Subcutaneous Tissue\", \"Musculoskeletal and Connective\", \"Congenital Anomalies\", \"Cond. Orig. Perinatal Period\", \"Symptoms and Signs\", \"Injury and Poisoning\", \"Supp - Factors and Contact\", \"Supp - External Causes\")\n",
      "Joining, by = c(\"subject_id\", \"sex\", \"hadm_id\", \"admit_los\", \"age_at_discharge\", \"time.since.last.disch\", \"readmission.wi.30days\", \"readmission.wi.90days\", \"readmission.wi.1year\", \"has.readmit.wi.90days\", \"has_icu\", \"n_icu\", \"icu_minutes\", \"Infectious and Parasitic\", \"Neoplasms\", \"Metabolic and Immunity\", \"Blood and Blood-Forming Organs\", \"Mental Disorders\", \"Nervous and Sense Organs\", \"Circulatory System\", \"Respiratory System\", \"Digestive System\", \"Genitourinary System\", \"Pregnancy and Childbirth\", \"Skin and Subcutaneous Tissue\", \"Musculoskeletal and Connective\", \"Congenital Anomalies\", \"Cond. Orig. Perinatal Period\", \"Symptoms and Signs\", \"Injury and Poisoning\", \"Supp - Factors and Contact\", \"Supp - External Causes\")\n"
     ]
    },
    {
     "data": {
      "text/html": [
       "<table>\n",
       "<thead><tr><th scope=col>Train set size</th></tr></thead>\n",
       "<tbody>\n",
       "\t<tr><td>3019</td></tr>\n",
       "</tbody>\n",
       "</table>\n"
      ],
      "text/latex": [
       "\\begin{tabular}{r|l}\n",
       " Train set size\\\\\n",
       "\\hline\n",
       "\t 3019\\\\\n",
       "\\end{tabular}\n"
      ],
      "text/markdown": [
       "\n",
       "Train set size | \n",
       "|---|\n",
       "| 3019 | \n",
       "\n",
       "\n"
      ],
      "text/plain": [
       "  Train set size\n",
       "1 3019          "
      ]
     },
     "metadata": {},
     "output_type": "display_data"
    },
    {
     "data": {
      "text/html": [
       "<table>\n",
       "<thead><tr><th scope=col>Test set size</th></tr></thead>\n",
       "<tbody>\n",
       "\t<tr><td>1006</td></tr>\n",
       "</tbody>\n",
       "</table>\n"
      ],
      "text/latex": [
       "\\begin{tabular}{r|l}\n",
       " Test set size\\\\\n",
       "\\hline\n",
       "\t 1006\\\\\n",
       "\\end{tabular}\n"
      ],
      "text/markdown": [
       "\n",
       "Test set size | \n",
       "|---|\n",
       "| 1006 | \n",
       "\n",
       "\n"
      ],
      "text/plain": [
       "  Test set size\n",
       "1 1006         "
      ]
     },
     "metadata": {},
     "output_type": "display_data"
    },
    {
     "data": {
      "text/html": [
       "<table>\n",
       "<thead><tr><th scope=col>Vaildation set size</th></tr></thead>\n",
       "<tbody>\n",
       "\t<tr><td>1007</td></tr>\n",
       "</tbody>\n",
       "</table>\n"
      ],
      "text/latex": [
       "\\begin{tabular}{r|l}\n",
       " Vaildation set size\\\\\n",
       "\\hline\n",
       "\t 1007\\\\\n",
       "\\end{tabular}\n"
      ],
      "text/markdown": [
       "\n",
       "Vaildation set size | \n",
       "|---|\n",
       "| 1007 | \n",
       "\n",
       "\n"
      ],
      "text/plain": [
       "  Vaildation set size\n",
       "1 1007               "
      ]
     },
     "metadata": {},
     "output_type": "display_data"
    }
   ],
   "source": [
    "set.seed(20170728)\n",
    "train <- admit.data %>% sample_frac(0.60)\n",
    "test  <- admit.data %>% anti_join(train) %>% sample_frac(0.50)\n",
    "validation <- admit.data %>% anti_join(train) %>% anti_join(test)\n",
    "\n",
    "count(train     ) %>% rename(\"Train set size\" = n)\n",
    "count(test      ) %>% rename(\"Test set size\" = n)\n",
    "count(validation) %>% rename(\"Vaildation set size\" = n)"
   ]
  },
  {
   "cell_type": "markdown",
   "metadata": {},
   "source": [
    "Now a check."
   ]
  },
  {
   "cell_type": "code",
   "execution_count": 19,
   "metadata": {},
   "outputs": [
    {
     "data": {
      "text/html": [
       "<table>\n",
       "<thead><tr><th scope=col>Set</th><th scope=col>FALSE</th><th scope=col>TRUE</th><th scope=col>Pct.TRUE</th></tr></thead>\n",
       "<tbody>\n",
       "\t<tr><td>test      </td><td> 880      </td><td>126       </td><td>0.1252485 </td></tr>\n",
       "\t<tr><td>train     </td><td>2673      </td><td>346       </td><td>0.1146075 </td></tr>\n",
       "\t<tr><td>validation</td><td> 878      </td><td>129       </td><td>0.1281033 </td></tr>\n",
       "</tbody>\n",
       "</table>\n"
      ],
      "text/latex": [
       "\\begin{tabular}{r|llll}\n",
       " Set & FALSE & TRUE & Pct.TRUE\\\\\n",
       "\\hline\n",
       "\t test       &  880       & 126        & 0.1252485 \\\\\n",
       "\t train      & 2673       & 346        & 0.1146075 \\\\\n",
       "\t validation &  878       & 129        & 0.1281033 \\\\\n",
       "\\end{tabular}\n"
      ],
      "text/markdown": [
       "\n",
       "Set | FALSE | TRUE | Pct.TRUE | \n",
       "|---|---|---|\n",
       "| test       |  880       | 126        | 0.1252485  | \n",
       "| train      | 2673       | 346        | 0.1146075  | \n",
       "| validation |  878       | 129        | 0.1281033  | \n",
       "\n",
       "\n"
      ],
      "text/plain": [
       "  Set        FALSE TRUE Pct.TRUE \n",
       "1 test        880  126  0.1252485\n",
       "2 train      2673  346  0.1146075\n",
       "3 validation  878  129  0.1281033"
      ]
     },
     "metadata": {},
     "output_type": "display_data"
    }
   ],
   "source": [
    "# An example from purrr\n",
    "\n",
    "# take a list of datasets.\n",
    "list( train = train\n",
    "    , test = test\n",
    "    , validation = validation\n",
    "    ) %>% \n",
    "    # Map - for each element in the list, ie. dataset\n",
    "    #       count  has.readmit.wi.90days, with Set as\n",
    "    map_df( count, has.readmit.wi.90days, .id=\"Set\") %>%\n",
    "    #       variable that identified the element from \n",
    "    #       the list \n",
    "\n",
    "    # make the table wide\n",
    "    spread( has.readmit.wi.90days, n ) %>% \n",
    "    # and compute the percent of TRUE.\n",
    "    mutate(Pct.TRUE = `TRUE`/(`TRUE` + `FALSE`))"
   ]
  },
  {
   "cell_type": "markdown",
   "metadata": {},
   "source": [
    "Does the percent look even*ish* across sets?"
   ]
  },
  {
   "cell_type": "markdown",
   "metadata": {},
   "source": [
    "## Logistic Regression\n",
    "\n",
    "We start with the most common for binary prediction and work to refinements. Although Logisitic regression does give nicely interpretable coeficients we are not going to focus on that looking only at the predictive performance "
   ]
  },
  {
   "cell_type": "code",
   "execution_count": 20,
   "metadata": {
    "collapsed": true
   },
   "outputs": [],
   "source": [
    "readmission.logistic <- \n",
    "    # Logistic regression is in the class of Generalized Linear Models (glm)\n",
    "    glm( has.readmit.wi.90days ~ . - subject_id - hadm_id  #< the formula\n",
    "       , data = train\n",
    "       , family=binomial()  # family = binomial is how we say this is a \n",
    "                            # logistic regression.  Other options might be:\n",
    "                            # gaussian - normal linear regression or \n",
    "                            # Poisson  - count data\n",
    "       )"
   ]
  },
  {
   "cell_type": "markdown",
   "metadata": {},
   "source": [
    "This is a formula specification for a model shown below. \n",
    "```r\n",
    "has.readmit.wi.90days ~ . - subject_id - hadm_id\n",
    "```\n",
    "\n",
    "This is read as `has.readmit.wi.90days` is the response variable and the predictor variables are all ('.') *but* `subject_id` and `hadm_id`.  So every variable in the data is taken as a predictor but the response and those excluded.  We alternatively could have specified each individual variable to include but that would have been quite tedious.\n",
    "\n",
    "We look at the results with summary"
   ]
  },
  {
   "cell_type": "code",
   "execution_count": 21,
   "metadata": {},
   "outputs": [
    {
     "data": {
      "text/plain": [
       "\n",
       "Call:\n",
       "glm(formula = has.readmit.wi.90days ~ . - subject_id - hadm_id, \n",
       "    family = binomial(), data = train)\n",
       "\n",
       "Deviance Residuals: \n",
       "    Min       1Q   Median       3Q      Max  \n",
       "-2.1176  -0.4919  -0.3905  -0.3062   2.6952  \n",
       "\n",
       "Coefficients: (2 not defined because of singularities)\n",
       "                                   Estimate Std. Error z value Pr(>|z|)    \n",
       "(Intercept)                      -1.538e+00  5.743e-01  -2.677 0.007428 ** \n",
       "sexM                              7.034e-02  1.232e-01   0.571 0.568143    \n",
       "admit_los                         2.294e-02  6.360e-03   3.607 0.000310 ***\n",
       "age_at_discharge                 -2.253e-02  4.856e-03  -4.639  3.5e-06 ***\n",
       "time.since.last.disch            -8.241e-06  1.035e-05  -0.797 0.425730    \n",
       "readmission.wi.30daysTRUE         1.009e+00  2.879e-01   3.507 0.000454 ***\n",
       "readmission.wi.90daysTRUE        -3.121e-01  3.188e-01  -0.979 0.327570    \n",
       "readmission.wi.1yearTRUE          4.727e-01  3.143e-01   1.504 0.132664    \n",
       "has_icuTRUE                       1.137e+00  5.340e-01   2.129 0.033213 *  \n",
       "n_icu                            -3.615e-01  1.994e-01  -1.813 0.069887 .  \n",
       "icu_minutes                      -5.705e-06  5.695e-06  -1.002 0.316453    \n",
       "`Infectious and Parasitic`       -1.910e-01  9.044e-02  -2.112 0.034705 *  \n",
       "Neoplasms                        -2.864e-01  9.203e-02  -3.112 0.001856 ** \n",
       "`Metabolic and Immunity`          1.682e-01  4.890e-02   3.439 0.000584 ***\n",
       "`Blood and Blood-Forming Organs`  1.096e-01  9.170e-02   1.196 0.231836    \n",
       "`Mental Disorders`               -5.383e-02  9.986e-02  -0.539 0.589864    \n",
       "`Nervous and Sense Organs`       -6.238e-02  1.022e-01  -0.610 0.541588    \n",
       "`Circulatory System`             -1.610e-02  3.497e-02  -0.460 0.645257    \n",
       "`Respiratory System`              3.960e-02  5.323e-02   0.744 0.456901    \n",
       "`Digestive System`                1.065e-02  5.476e-02   0.194 0.845847    \n",
       "`Genitourinary System`           -5.510e-02  7.960e-02  -0.692 0.488848    \n",
       "`Pregnancy and Childbirth`               NA         NA      NA       NA    \n",
       "`Skin and Subcutaneous Tissue`    2.697e-01  1.118e-01   2.411 0.015912 *  \n",
       "`Musculoskeletal and Connective`  1.554e-01  1.211e-01   1.284 0.199190    \n",
       "`Congenital Anomalies`            6.710e-01  2.907e-01   2.308 0.021000 *  \n",
       "`Cond. Orig. Perinatal Period`           NA         NA      NA       NA    \n",
       "`Symptoms and Signs`             -2.065e-01  9.365e-02  -2.205 0.027468 *  \n",
       "`Injury and Poisoning`           -1.481e-01  6.375e-02  -2.324 0.020150 *  \n",
       "`Supp - Factors and Contact`      5.447e-02  6.085e-02   0.895 0.370688    \n",
       "`Supp - External Causes`          3.994e-03  1.276e-01   0.031 0.975024    \n",
       "---\n",
       "Signif. codes:  0 ‘***’ 0.001 ‘**’ 0.01 ‘*’ 0.05 ‘.’ 0.1 ‘ ’ 1\n",
       "\n",
       "(Dispersion parameter for binomial family taken to be 1)\n",
       "\n",
       "    Null deviance: 2149.8  on 3018  degrees of freedom\n",
       "Residual deviance: 1929.8  on 2991  degrees of freedom\n",
       "AIC: 1985.8\n",
       "\n",
       "Number of Fisher Scoring iterations: 5\n"
      ]
     },
     "metadata": {},
     "output_type": "display_data"
    }
   ],
   "source": [
    "summary(readmission.logistic)"
   ]
  },
  {
   "cell_type": "markdown",
   "metadata": {},
   "source": [
    "Things make sense for this model but what about the performance, which is what we are judging on?"
   ]
  },
  {
   "cell_type": "code",
   "execution_count": 22,
   "metadata": {},
   "outputs": [
    {
     "name": "stderr",
     "output_type": "stream",
     "text": [
      "Warning message in predict.lm(object, newdata, se.fit, scale = 1, type = ifelse(type == :\n",
      "“prediction from a rank-deficient fit may be misleading”"
     ]
    }
   ],
   "source": [
    "# first make a prediction.\n",
    "using(modelr)   # using the modelr package.\n",
    "test.logistic <- \n",
    "    # for the test data\n",
    "    mutate( test     \n",
    "          # add predictions from the model\n",
    "          , pred  = predict( readmission.logistic\n",
    "                           , test\n",
    "                           , type='response'\n",
    "                             # ⬑ the default type is 'link' which is \n",
    "                             # not the probability that we want.\n",
    "                           )\n",
    "          )"
   ]
  },
  {
   "cell_type": "markdown",
   "metadata": {},
   "source": [
    "Things that we will use here:\n",
    "\n",
    "* The [`caret`](https://cran.r-project.org/package=caret) package \n",
    "    + for the [`confusionMatrix`](https://www.rdocumentation.org/packages/caret/versions/6.0-76/topics/confusionMatrix)\n",
    "* The [`pROC`](https://cran.r-project.org/package=pROC) package\n",
    "    + for the [`roc`](https://www.rdocumentation.org/packages/pROC/versions/1.10.0/topics/roc) function.\n",
    "    "
   ]
  },
  {
   "cell_type": "code",
   "execution_count": 70,
   "metadata": {},
   "outputs": [
    {
     "data": {
      "text/plain": [
       "\n",
       "Call:\n",
       "roc.default(response = has.readmit.wi.90days, predictor = pred)\n",
       "\n",
       "Data: pred in 880 controls (has.readmit.wi.90days FALSE) < 126 cases (has.readmit.wi.90days TRUE).\n",
       "Area under the curve: 0.5994"
      ]
     },
     "metadata": {},
     "output_type": "display_data"
    },
    {
     "data": {
      "image/png": "[encoded data removed]",
      "text/plain": [
       "plot without title"
      ]
     },
     "metadata": {},
     "output_type": "display_data"
    }
   ],
   "source": [
    "using(caret, pROC)\n",
    "\n",
    "roc.logistic <- test.logistic  %$% roc(has.readmit.wi.90days, pred) \n",
    "roc.logistic \n",
    "roc.logistic %>% plot"
   ]
  },
  {
   "cell_type": "markdown",
   "metadata": {},
   "source": [
    "Let's define a few helper functions to cleanly deal with the output."
   ]
  },
  {
   "cell_type": "code",
   "execution_count": 82,
   "metadata": {
    "collapsed": true
   },
   "outputs": [],
   "source": [
    "YN <- . %>% \n",
    "        ifelse(., 'Yes', 'No') %>% \n",
    "        factor(levels=c('Yes', 'No'))"
   ]
  },
  {
   "cell_type": "code",
   "execution_count": 83,
   "metadata": {
    "collapsed": true
   },
   "outputs": [],
   "source": [
    "tidy.confusionMatrix <- function(x,...){\n",
    "    names(x$overall) <- \n",
    "        c( \"Accuracy\"\n",
    "         , \"Kappa\"\n",
    "         , \"Accuracy 95% CI lower\"\n",
    "         , \"Accuracy 95% CI upper\"\n",
    "         , \"No Information Rate\"\n",
    "         , \"P-Value [Acc > NIR]\"\n",
    "         , \"Mcnemar's Test P-Value\"\n",
    "         )\n",
    "    bind_cols( as.data.frame(t(x$overall))\n",
    "             , as.data.frame(t(x$byClass))\n",
    "             )\n",
    "}"
   ]
  },
  {
   "cell_type": "code",
   "execution_count": 98,
   "metadata": {},
   "outputs": [],
   "source": [
    "model_metrics <- function(model, test, cutoff=NULL){\n",
    "    probs <- predict(model, test, type='response')\n",
    "    truth <- model.response(model.frame(model, data=data))\n",
    "    if (is.null(cutoff))\n",
    "        cutoff <- sort(unique(probs), decreasing=TRUE)\n",
    "    \n",
    "    \n",
    "    map(cutoff, `<`, probs) %>%\n",
    "    map(YN) %>%\n",
    "    map(caret::confusionMatrix, reference=YN(truth), positive = 'Yes') %>%\n",
    "    map_df(tidy) %>%\n",
    "    cbind(cutoff = cutoff, .)\n",
    "}"
   ]
  },
  {
   "cell_type": "markdown",
   "metadata": {},
   "source": [
    "We will choose a cutoff that maximizes F1"
   ]
  },
  {
   "cell_type": "code",
   "execution_count": 113,
   "metadata": {},
   "outputs": [
    {
     "name": "stderr",
     "output_type": "stream",
     "text": [
      "Warning message in predict.lm(object, newdata, se.fit, scale = 1, type = ifelse(type == :\n",
      "“prediction from a rank-deficient fit may be misleading”"
     ]
    },
    {
     "data": {
      "text/html": [
       "0.143436528087068"
      ],
      "text/latex": [
       "0.143436528087068"
      ],
      "text/markdown": [
       "0.143436528087068"
      ],
      "text/plain": [
       "[1] 0.1434365"
      ]
     },
     "metadata": {},
     "output_type": "display_data"
    }
   ],
   "source": [
    "mm <- model_metrics(readmission.logistic, test)\n",
    "cut <- mm %>%\n",
    "    filter(F1 == max(F1, na.rm=TRUE)) %$%\n",
    "    cutoff\n",
    "cut"
   ]
  },
  {
   "cell_type": "code",
   "execution_count": 114,
   "metadata": {},
   "outputs": [
    {
     "data": {
      "text/html": [
       "<table>\n",
       "<thead><tr><th scope=col>cutoff</th><th scope=col>Accuracy</th><th scope=col>Kappa</th><th scope=col>Accuracy 95% CI lower</th><th scope=col>Accuracy 95% CI upper</th><th scope=col>No Information Rate</th><th scope=col>P-Value [Acc &gt; NIR]</th><th scope=col>Mcnemar's Test P-Value</th><th scope=col>Sensitivity</th><th scope=col>Specificity</th><th scope=col>Pos Pred Value</th><th scope=col>Neg Pred Value</th><th scope=col>Precision</th><th scope=col>Recall</th><th scope=col>F1</th><th scope=col>Prevalence</th><th scope=col>Detection Rate</th><th scope=col>Detection Prevalence</th><th scope=col>Balanced Accuracy</th></tr></thead>\n",
       "<tbody>\n",
       "\t<tr><td>0.1434365   </td><td>0.7465209   </td><td>0.130106    </td><td>0.7184459   </td><td>0.773145    </td><td>0.8747515   </td><td>1           </td><td>1.835276e-09</td><td>0.3730159   </td><td>0.8         </td><td>0.2107623   </td><td>0.899106    </td><td>0.2107623   </td><td>0.3730159   </td><td>0.269341    </td><td>0.1252485   </td><td>0.04671968  </td><td>0.22167     </td><td>0.5865079   </td></tr>\n",
       "</tbody>\n",
       "</table>\n"
      ],
      "text/latex": [
       "\\begin{tabular}{r|lllllllllllllllllll}\n",
       " cutoff & Accuracy & Kappa & Accuracy 95\\% CI lower & Accuracy 95\\% CI upper & No Information Rate & P-Value {[}Acc > NIR{]} & Mcnemar's Test P-Value & Sensitivity & Specificity & Pos Pred Value & Neg Pred Value & Precision & Recall & F1 & Prevalence & Detection Rate & Detection Prevalence & Balanced Accuracy\\\\\n",
       "\\hline\n",
       "\t 0.1434365    & 0.7465209    & 0.130106     & 0.7184459    & 0.773145     & 0.8747515    & 1            & 1.835276e-09 & 0.3730159    & 0.8          & 0.2107623    & 0.899106     & 0.2107623    & 0.3730159    & 0.269341     & 0.1252485    & 0.04671968   & 0.22167      & 0.5865079   \\\\\n",
       "\\end{tabular}\n"
      ],
      "text/markdown": [
       "\n",
       "cutoff | Accuracy | Kappa | Accuracy 95% CI lower | Accuracy 95% CI upper | No Information Rate | P-Value [Acc > NIR] | Mcnemar's Test P-Value | Sensitivity | Specificity | Pos Pred Value | Neg Pred Value | Precision | Recall | F1 | Prevalence | Detection Rate | Detection Prevalence | Balanced Accuracy | \n",
       "|---|\n",
       "| 0.1434365    | 0.7465209    | 0.130106     | 0.7184459    | 0.773145     | 0.8747515    | 1            | 1.835276e-09 | 0.3730159    | 0.8          | 0.2107623    | 0.899106     | 0.2107623    | 0.3730159    | 0.269341     | 0.1252485    | 0.04671968   | 0.22167      | 0.5865079    | \n",
       "\n",
       "\n"
      ],
      "text/plain": [
       "  cutoff    Accuracy  Kappa    Accuracy 95% CI lower Accuracy 95% CI upper\n",
       "1 0.1434365 0.7465209 0.130106 0.7184459             0.773145             \n",
       "  No Information Rate P-Value [Acc > NIR] Mcnemar's Test P-Value Sensitivity\n",
       "1 0.8747515           1                   1.835276e-09           0.3730159  \n",
       "  Specificity Pos Pred Value Neg Pred Value Precision Recall    F1      \n",
       "1 0.8         0.2107623      0.899106       0.2107623 0.3730159 0.269341\n",
       "  Prevalence Detection Rate Detection Prevalence Balanced Accuracy\n",
       "1 0.1252485  0.04671968     0.22167              0.5865079        "
      ]
     },
     "metadata": {},
     "output_type": "display_data"
    }
   ],
   "source": [
    "filter(mm, cutoff %in% cut)"
   ]
  },
  {
   "cell_type": "markdown",
   "metadata": {},
   "source": [
    "A slightly more clean view."
   ]
  },
  {
   "cell_type": "code",
   "execution_count": 115,
   "metadata": {
    "scrolled": false
   },
   "outputs": [
    {
     "data": {
      "text/plain": [
       "Confusion Matrix and Statistics\n",
       "\n",
       "          Reference\n",
       "Prediction Yes  No\n",
       "       Yes  47 176\n",
       "       No   79 704\n",
       "                                          \n",
       "               Accuracy : 0.7465          \n",
       "                 95% CI : (0.7184, 0.7731)\n",
       "    No Information Rate : 0.8748          \n",
       "    P-Value [Acc > NIR] : 1               \n",
       "                                          \n",
       "                  Kappa : 0.1301          \n",
       " Mcnemar's Test P-Value : 1.835e-09       \n",
       "                                          \n",
       "            Sensitivity : 0.37302         \n",
       "            Specificity : 0.80000         \n",
       "         Pos Pred Value : 0.21076         \n",
       "         Neg Pred Value : 0.89911         \n",
       "             Prevalence : 0.12525         \n",
       "         Detection Rate : 0.04672         \n",
       "   Detection Prevalence : 0.22167         \n",
       "      Balanced Accuracy : 0.58651         \n",
       "                                          \n",
       "       'Positive' Class : Yes             \n",
       "                                          "
      ]
     },
     "metadata": {},
     "output_type": "display_data"
    }
   ],
   "source": [
    "test.logistic %>% \n",
    "    # confussionMatrix expects labels.\n",
    "    mutate( true_class = YN(has.readmit.wi.90days)\n",
    "          , pred_class = YN(pred > cut)\n",
    "          ) %$%\n",
    "    caret::confusionMatrix(pred_class, true_class)"
   ]
  },
  {
   "cell_type": "markdown",
   "metadata": {},
   "source": [
    "OK so how did we do?  \n",
    "**Discuss**"
   ]
  },
  {
   "cell_type": "code",
   "execution_count": 116,
   "metadata": {
    "collapsed": true
   },
   "outputs": [],
   "source": [
    "\n",
    "\n",
    "\n",
    "\n",
    "\n",
    "\n",
    "\n",
    "\n",
    "\n",
    "\n",
    "\n",
    "\n",
    "\n",
    "\n",
    "\n",
    "# nothing here"
   ]
  },
  {
   "cell_type": "markdown",
   "metadata": {},
   "source": [
    "### Selecting variables\n",
    "We might be able to improve estimates by selecting the variable that belong in the model. \n",
    "\n",
    "The `glmnet` package is used for fitting elastic net for glm models."
   ]
  },
  {
   "cell_type": "code",
   "execution_count": 117,
   "metadata": {},
   "outputs": [
    {
     "name": "stderr",
     "output_type": "stream",
     "text": [
      "Loading required package: glmnet\n",
      "Loading required package: Matrix\n",
      "\n",
      "Attaching package: ‘Matrix’\n",
      "\n",
      "The following object is masked from ‘package:tidyr’:\n",
      "\n",
      "    expand\n",
      "\n",
      "Loading required package: foreach\n",
      "\n",
      "Attaching package: ‘foreach’\n",
      "\n",
      "The following objects are masked from ‘package:purrr’:\n",
      "\n",
      "    accumulate, when\n",
      "\n",
      "Loaded glmnet 2.0-10\n",
      "\n"
     ]
    }
   ],
   "source": [
    "using(glmnet)\n",
    "# define our model matrix\n",
    "train.x <- model.matrix(readmission.logistic)\n",
    "# define our model response\n",
    "train.y <- model.response(model.frame(readmission.logistic))\n",
    "\n",
    "# cross validate our \n",
    "readmit.glm.lasso.cv <- \n",
    "    cv.glmnet( x = train.x\n",
    "             , y = train.y\n",
    "             , family = \"binomial\"\n",
    "             , nfolds = 10\n",
    "             )"
   ]
  },
  {
   "cell_type": "markdown",
   "metadata": {},
   "source": [
    "Now that we have crossvalidated elastic now let's investigate and choose the parameters."
   ]
  },
  {
   "cell_type": "code",
   "execution_count": 118,
   "metadata": {},
   "outputs": [
    {
     "data": {
      "image/png": "[encoded data removed]",
      "text/plain": [
       "plot without title"
      ]
     },
     "metadata": {},
     "output_type": "display_data"
    }
   ],
   "source": [
    "plot(readmit.glm.lasso.cv)"
   ]
  },
  {
   "cell_type": "markdown",
   "metadata": {},
   "source": [
    "Shown is the cross validated error and the choise of lambda that minimizes that error.   Also shown is the choice of lambda within the one standard error, which often performs better than the minimin lambda.  But we have testing data as well."
   ]
  },
  {
   "cell_type": "code",
   "execution_count": 126,
   "metadata": {},
   "outputs": [
    {
     "data": {},
     "metadata": {},
     "output_type": "display_data"
    },
    {
     "data": {
      "image/png": "[encoded data removed]",
      "text/plain": [
       "plot without title"
      ]
     },
     "metadata": {},
     "output_type": "display_data"
    }
   ],
   "source": [
    "readmit.glm.lasso <- \n",
    "    glmnet( x = model.matrix(readmission.logistic)\n",
    "          , y = model.response(model.frame(readmission.logistic))\n",
    "          , family = \"binomial\"\n",
    "          )\n",
    "\n",
    "test.lasso.preds <- \n",
    "    predict( readmit.glm.lasso\n",
    "           , newx =  model.matrix(formula(readmission.logistic), data =test)\n",
    "           , type = 'response'\n",
    "           )\n",
    "\n",
    "Accuracy <- colSums((test.lasso.preds > 0.5) == (test$has.readmit.wi.90days)) / nrow(test)\n",
    "qplot( x = readmit.glm.lasso$lambda\n",
    "     , y = Accuracy\n",
    "     , geom = \"line\"\n",
    "     ) + \n",
    "    labs( x = expression(Lambda)\n",
    "        , y = \"Accuracy\"\n",
    "        ) + \n",
    "    scale_y_continuous(labels = scales::percent)"
   ]
  },
  {
   "cell_type": "code",
   "execution_count": 132,
   "metadata": {},
   "outputs": [
    {
     "data": {
      "text/plain": [
       "\n",
       "Call:\n",
       "roc.default(response = test$has.readmit.wi.90days, predictor = test.lasso.preds[,     ix])\n",
       "\n",
       "Data: test.lasso.preds[, ix] in 880 controls (test$has.readmit.wi.90days FALSE) < 126 cases (test$has.readmit.wi.90days TRUE).\n",
       "Area under the curve: 0.6101"
      ]
     },
     "metadata": {},
     "output_type": "display_data"
    },
    {
     "data": {
      "image/png": "[encoded data removed]",
      "text/plain": [
       "plot without title"
      ]
     },
     "metadata": {},
     "output_type": "display_data"
    }
   ],
   "source": [
    "ix <- max(which(Accuracy == max(Accuracy)))\n",
    "\n",
    "roc.lasso <- roc( test$has.readmit.wi.90days\n",
    "                , test.lasso.preds[, ix]\n",
    "                )\n",
    "\n",
    "plot(roc.lasso)\n",
    "roc.lasso\n"
   ]
  },
  {
   "cell_type": "markdown",
   "metadata": {},
   "source": [
    "### Random Forest\n",
    " The random forest is an ensemble method, which we will talk about on day 4.  For now we treat it as a black box and see i fit can do any better."
   ]
  },
  {
   "cell_type": "markdown",
   "metadata": {},
   "source": [
    "The `randomForest` is an older package that requires data variable names to be valid R names.  It also will not perform automatic conversion of character to factor (categorical) variables so we must do that explicitly.  "
   ]
  },
  {
   "cell_type": "code",
   "execution_count": 134,
   "metadata": {},
   "outputs": [],
   "source": [
    "clean_names <- function(data){\n",
    "    names(data) <- make.names(names(data))\n",
    "    data\n",
    "}"
   ]
  },
  {
   "cell_type": "code",
   "execution_count": 135,
   "metadata": {},
   "outputs": [
    {
     "name": "stderr",
     "output_type": "stream",
     "text": [
      "randomForest 4.6-12\n",
      "Type rfNews() to see new features/changes/bug fixes.\n",
      "\n",
      "Attaching package: ‘randomForest’\n",
      "\n",
      "The following object is masked from ‘package:dplyr’:\n",
      "\n",
      "    combine\n",
      "\n",
      "The following object is masked from ‘package:ggplot2’:\n",
      "\n",
      "    margin\n",
      "\n"
     ]
    }
   ],
   "source": [
    "library(randomForest)\n",
    "readmision.forest <- \n",
    "    randomForest( data= train %>% \n",
    "                         select(-subject_id, -hadm_id) %>%\n",
    "                         clean_names() %>% \n",
    "                         mutate( has.readmit.wi.90days = YN(has.readmit.wi.90days)\n",
    "                               , sex = factor(sex)\n",
    "                               )\n",
    "                , has.readmit.wi.90days ~ .\n",
    "                ) "
   ]
  },
  {
   "cell_type": "code",
   "execution_count": 136,
   "metadata": {
    "collapsed": true
   },
   "outputs": [],
   "source": [
    "test.tbl <- test %>% clean_names %>% mutate(sex = factor(sex))\n",
    "\n",
    "prob  = predict(readmision.forest, test.tbl, type='prob') %>% tbl_df\n",
    "class = predict(readmision.forest, test.tbl, type='response')\n",
    "test.rf <- test.tbl %>%\n",
    "     bind_cols(prob, class=class)\n"
   ]
  },
  {
   "cell_type": "code",
   "execution_count": 138,
   "metadata": {},
   "outputs": [
    {
     "data": {
      "text/plain": [
       "\n",
       "Call:\n",
       "roc.default(response = has.readmit.wi.90days, predictor = Yes)\n",
       "\n",
       "Data: Yes in 880 controls (has.readmit.wi.90days FALSE) < 126 cases (has.readmit.wi.90days TRUE).\n",
       "Area under the curve: 0.6452"
      ]
     },
     "metadata": {},
     "output_type": "display_data"
    },
    {
     "data": {
      "text/html": [
       "<table>\n",
       "<tbody>\n",
       "\t<tr><td>0</td><td>5</td></tr>\n",
       "\t<tr><td>0</td><td>8</td></tr>\n",
       "</tbody>\n",
       "</table>\n"
      ],
      "text/latex": [
       "\\begin{tabular}{ll}\n",
       "\t 0 & 5\\\\\n",
       "\t 0 & 8\\\\\n",
       "\\end{tabular}\n"
      ],
      "text/markdown": [
       "\n",
       "| 0 | 5 | \n",
       "| 0 | 8 | \n",
       "\n",
       "\n"
      ],
      "text/plain": [
       "     [,1] [,2]\n",
       "[1,] 0    5   \n",
       "[2,] 0    8   "
      ]
     },
     "metadata": {},
     "output_type": "display_data"
    },
    {
     "data": {
      "image/png": "[encoded data removed]",
      "text/plain": [
       "plot without title"
      ]
     },
     "metadata": {},
     "output_type": "display_data"
    }
   ],
   "source": [
    "roc.rf <- test.rf %$% roc(has.readmit.wi.90days, `Yes`)\n",
    "roc.rf\n",
    "plot(roc.rf)\n",
    "test.rf %$% confusionMatrix(class, has.readmit.wi.90days)"
   ]
  },
  {
   "cell_type": "markdown",
   "metadata": {},
   "source": [
    "# Appendix - Investigations into the tables"
   ]
  },
  {
   "cell_type": "markdown",
   "metadata": {},
   "source": [
    "### segmenting tables by purpose"
   ]
  },
  {
   "cell_type": "code",
   "execution_count": null,
   "metadata": {
    "collapsed": true
   },
   "outputs": [],
   "source": [
    "\n",
    "Names <- .%>% head(1) %>% collect %>% names\n",
    "\n",
    "names.table <- lapply(mimic, Names) %>% lapply(tidy) %>% plyr::ldply(.) %>%\n",
    "    rename('table'= '.id', 'var'='x') %>%\n",
    "    mutate(has=TRUE) %>%\n",
    "    spread(var, has, fill=FALSE)\n",
    "names.table %>% filter(icustay_id, hadm_id)\n",
    "count(icustay_detail)\n",
    "glimpse(icustay_detail)\n",
    "\n",
    "\n",
    "names.table %>% #filter(grepl('icu', table)) %>%\n",
    "    filter(icustay_id) %>%\n",
    "    select(table, ends_with(\"_id\"))\n",
    "\n"
   ]
  },
  {
   "cell_type": "code",
   "execution_count": null,
   "metadata": {
    "collapsed": true
   },
   "outputs": [],
   "source": [
    "names(mimic) %>% sift(\"icu\")\n",
    "names(mimic) %>% sift(\"items\")\n",
    "names(mimic) %>% sift(\"duration\")\n",
    "names(mimic) %>% sift(\"events\")\n",
    "\n",
    "names(mimic) %>% sieve(\"icu\") %>% sieve(\"items\") %>% sieve('duration') %>% \n",
    "    sieve(\"events\")\n",
    "\n",
    "\n",
    "glimpse(chartevents)\n",
    "count(d_chartitems)\n",
    "glimpse(d_chartitems)\n",
    "d_chartitems %>% collect %>% filter(grepl('height|weight', tolower(label)))\n",
    "\n",
    "chart <- chartevents %>% left_join(d_chartitems) \n",
    "\n",
    "chart %>% \n",
    "     filter(label %in% c('Height Inches', 'Present Weight (kg)', 'Weight Kg'))\n",
    "\n",
    "chartevents %>% anti_join(d_chartitems) %>% count \n",
    "\n",
    "\n",
    "count(chart)\n",
    "count(chart, label)"
   ]
  },
  {
   "cell_type": "code",
   "execution_count": null,
   "metadata": {
    "collapsed": true
   },
   "outputs": [],
   "source": [
    "Names(microbiologyevents)\n"
   ]
  },
  {
   "cell_type": "markdown",
   "metadata": {},
   "source": [
    "### ICU table"
   ]
  },
  {
   "cell_type": "code",
   "execution_count": null,
   "metadata": {
    "collapsed": true
   },
   "outputs": [],
   "source": [
    "source(\"../get_duplicated.R\")\n",
    "count(icustayevents)\n",
    "glimpse(icustayevents)\n",
    "admissions %>% anti_join(icustayevents) %>% count\n",
    "glimpse(icustayevents)"
   ]
  },
  {
   "cell_type": "code",
   "execution_count": null,
   "metadata": {
    "collapsed": true
   },
   "outputs": [],
   "source": [
    "icustayevents %>%\n",
    "    count(hadm_id) %>% ungroup %>%\n",
    "    count(n)"
   ]
  },
  {
   "cell_type": "markdown",
   "metadata": {},
   "source": [
    "### ICD-9"
   ]
  },
  {
   "cell_type": "code",
   "execution_count": null,
   "metadata": {
    "collapsed": true
   },
   "outputs": [],
   "source": [
    "glimpse(icd9)"
   ]
  },
  {
   "cell_type": "code",
   "execution_count": null,
   "metadata": {
    "collapsed": true
   },
   "outputs": [],
   "source": [
    "str(admit.data)"
   ]
  },
  {
   "cell_type": "code",
   "execution_count": null,
   "metadata": {
    "collapsed": true
   },
   "outputs": [],
   "source": [
    "save(admit.data, file = \"admit.RData\")"
   ]
  }
 ],
 "metadata": {
  "kernelspec": {
   "display_name": "R",
   "language": "R",
   "name": "ir"
  },
  "language_info": {
   "codemirror_mode": "r",
   "file_extension": ".r",
   "mimetype": "text/x-r-source",
   "name": "R",
   "pygments_lexer": "r",
   "version": "3.3.2"
  }
 },
 "nbformat": 4,
 "nbformat_minor": 2
}
